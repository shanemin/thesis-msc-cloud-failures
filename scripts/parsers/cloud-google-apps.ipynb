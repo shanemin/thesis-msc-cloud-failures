{
 "cells": [
  {
   "cell_type": "code",
   "execution_count": 1,
   "metadata": {},
   "outputs": [],
   "source": [
    "import time\n",
    "import glob as glob\n",
    "from zipfile import ZipFile\n",
    "from bs4 import BeautifulSoup\n",
    "import dateutil.parser as dparser\n",
    "from datetime import datetime\n",
    "import pandas as pd\n",
    "import multiprocessing as mp\n",
    "import numpy as np\n",
    "import io\n",
    "import json\n",
    "import sys\n",
    "import re"
   ]
  },
  {
   "cell_type": "code",
   "execution_count": 2,
   "metadata": {},
   "outputs": [],
   "source": [
    "# root_dir = '/media/shane/cloud-availability-sacheen-2020-05-11/cloud-google-apps' # one directory\n",
    "# root_dir = '/media/shane/cloud-availability-sacheen-2020-05-11/cloud-google-apps/2020/20204' #subset of above\n",
    "root_dir = '/media/shane/cloud-availability-sacheen-2020-05-11/cloud-google-apps*' # all directories"
   ]
  },
  {
   "cell_type": "code",
   "execution_count": 3,
   "metadata": {},
   "outputs": [],
   "source": [
    "def read_file(file):\n",
    "    with ZipFile(file, \"r\") as z:\n",
    "        for filename in z.namelist(): \n",
    "            if 'json' in filename: \n",
    "                with z.open(filename) as f:\n",
    "                    ret = []\n",
    "                    f.seek(16) # skip some non-json garbage\n",
    "                    data = f.read()\n",
    "                    data = data.split(b');')[0]\n",
    "                    d = json.loads(data) \n",
    "                    for v in d.values():\n",
    "                        ret.append([v])\n",
    "                    return ret"
   ]
  },
  {
   "cell_type": "code",
   "execution_count": 4,
   "metadata": {
    "scrolled": false
   },
   "outputs": [],
   "source": [
    "files = glob.glob(root_dir + '/**/*.zip', recursive=True)\n",
    "pool = mp.Pool(mp.cpu_count())\n",
    "start_time = time.time()\n",
    "try:\n",
    "    results = pool.map(read_file, [file for file in files])\n",
    "except:\n",
    "    print(\"Unexpected error:\", sys.exc_info()[0])\n",
    "    raise\n",
    "pool.close()\n",
    "end_time = time.time()"
   ]
  },
  {
   "cell_type": "code",
   "execution_count": 5,
   "metadata": {
    "scrolled": false
   },
   "outputs": [],
   "source": [
    "unique = set()\n",
    "counter = 0\n",
    "try:\n",
    "    for i in range (0, len(results)):\n",
    "        for j in range(0, len(results[i][1][0])):\n",
    "            counter += 1\n",
    "            unique.add(str(results[i][1][0][j]).replace(\"\\'\",''))\n",
    "except:\n",
    "    pass"
   ]
  },
  {
   "cell_type": "code",
   "execution_count": 6,
   "metadata": {},
   "outputs": [
    {
     "name": "stdout",
     "output_type": "stream",
     "text": [
      "54493 549\n"
     ]
    }
   ],
   "source": [
    "print(counter, len(unique))"
   ]
  },
  {
   "cell_type": "code",
   "execution_count": 7,
   "metadata": {
    "scrolled": true
   },
   "outputs": [],
   "source": [
    "# print(unique.pop())"
   ]
  },
  {
   "cell_type": "code",
   "execution_count": 21,
   "metadata": {},
   "outputs": [],
   "source": [
    "df_unique = pd.DataFrame(columns=['service', 'outageId', 'time', 'pst', 'message', 'type', 'resolved', 'premier'])\n",
    "for entry in unique:\n",
    "    arr = []\n",
    "    arr.append(entry.split(':')[1].split(',')[0].strip())\n",
    "    arr.append(entry.split(':')[2].split(',')[0].strip())\n",
    "    arr.append(entry.split(':')[3].split(',')[0].strip())\n",
    "    arr.append(entry.split('message:')[0].split('pst: ')[1].split(',')[:-1])\n",
    "    arr.append(entry.split('type:')[0].split('message:')[1].split(',')[:-1])\n",
    "    arr.append(entry.split('resolved:')[0].split('type:')[1].split(',')[:-1])\n",
    "    arr.append(entry.split('premier:')[0].split('resolved:')[1].split(',')[:-1])\n",
    "    arr.append(entry.split(':')[-1].split(',')[0].strip().replace('}','').replace('[',''))\n",
    "    df_unique.loc[len(df_unique)] = arr"
   ]
  },
  {
   "cell_type": "code",
   "execution_count": 22,
   "metadata": {
    "scrolled": true
   },
   "outputs": [
    {
     "data": {
      "text/html": [
       "<div>\n",
       "<style scoped>\n",
       "    .dataframe tbody tr th:only-of-type {\n",
       "        vertical-align: middle;\n",
       "    }\n",
       "\n",
       "    .dataframe tbody tr th {\n",
       "        vertical-align: top;\n",
       "    }\n",
       "\n",
       "    .dataframe thead th {\n",
       "        text-align: right;\n",
       "    }\n",
       "</style>\n",
       "<table border=\"1\" class=\"dataframe\">\n",
       "  <thead>\n",
       "    <tr style=\"text-align: right;\">\n",
       "      <th></th>\n",
       "      <th>service</th>\n",
       "      <th>outageId</th>\n",
       "      <th>time</th>\n",
       "      <th>pst</th>\n",
       "      <th>message</th>\n",
       "      <th>type</th>\n",
       "      <th>resolved</th>\n",
       "      <th>premier</th>\n",
       "    </tr>\n",
       "  </thead>\n",
       "  <tbody>\n",
       "    <tr>\n",
       "      <th>0</th>\n",
       "      <td>22</td>\n",
       "      <td>9b03916dfbdc9710283f467403264d16</td>\n",
       "      <td>1572232860000</td>\n",
       "      <td>[October 27,  2019 8:21:00 PM PDT]</td>\n",
       "      <td>[ We are continuing to investigate this issue....</td>\n",
       "      <td>[ 1]</td>\n",
       "      <td>[ True]</td>\n",
       "      <td>False</td>\n",
       "    </tr>\n",
       "    <tr>\n",
       "      <th>1</th>\n",
       "      <td>0</td>\n",
       "      <td>51b20fb9ba3b898c8236936fca17fc8f</td>\n",
       "      <td>1576748940000</td>\n",
       "      <td>[December 19,  2019 1:49:00 AM PST]</td>\n",
       "      <td>[ Our team is continuing to investigate this i...</td>\n",
       "      <td>[ 1]</td>\n",
       "      <td>[ True]</td>\n",
       "      <td>False</td>\n",
       "    </tr>\n",
       "    <tr>\n",
       "      <th>2</th>\n",
       "      <td>4</td>\n",
       "      <td>fcc552c5af396475ac90ebb7278829c3</td>\n",
       "      <td>1579723140000</td>\n",
       "      <td>[January 22,  2020 11:59:00 AM PST]</td>\n",
       "      <td>[ The problem with Google Drive should be reso...</td>\n",
       "      <td>[ 3]</td>\n",
       "      <td>[ True]</td>\n",
       "      <td>Please have affected users re-authenticate to ...</td>\n",
       "    </tr>\n",
       "    <tr>\n",
       "      <th>3</th>\n",
       "      <td>1</td>\n",
       "      <td>036ce0c8fec1393dabdec4e39bed9437</td>\n",
       "      <td>1586361480000</td>\n",
       "      <td>[April 8,  2020 8:58:00 AM PDT]</td>\n",
       "      <td>[ The problem with Gmail should be resolved. W...</td>\n",
       "      <td>[ 3]</td>\n",
       "      <td>[ True]</td>\n",
       "      <td>False</td>\n",
       "    </tr>\n",
       "    <tr>\n",
       "      <th>4</th>\n",
       "      <td>1</td>\n",
       "      <td>74a7efa47b9de665d02699bbe9dd11fc</td>\n",
       "      <td>1559518200000</td>\n",
       "      <td>[June 2,  2019 4:30:00 PM PDT]</td>\n",
       "      <td>[ The problem with Gmail should be resolved. W...</td>\n",
       "      <td>[ 3]</td>\n",
       "      <td>[ True]</td>\n",
       "      <td>False</td>\n",
       "    </tr>\n",
       "    <tr>\n",
       "      <th>...</th>\n",
       "      <td>...</td>\n",
       "      <td>...</td>\n",
       "      <td>...</td>\n",
       "      <td>...</td>\n",
       "      <td>...</td>\n",
       "      <td>...</td>\n",
       "      <td>...</td>\n",
       "      <td>...</td>\n",
       "    </tr>\n",
       "    <tr>\n",
       "      <th>544</th>\n",
       "      <td>23</td>\n",
       "      <td>74a7efa47b9de665d02699bbe9dd11fc</td>\n",
       "      <td>1559505060000</td>\n",
       "      <td>[June 2,  2019 12:51:00 PM PDT]</td>\n",
       "      <td>[ We are continuing to investigate this issue....</td>\n",
       "      <td>[ 2]</td>\n",
       "      <td>[ True]</td>\n",
       "      <td>False</td>\n",
       "    </tr>\n",
       "    <tr>\n",
       "      <th>545</th>\n",
       "      <td>0</td>\n",
       "      <td>4ef64f90d3c93afd1379f0c02be9803d</td>\n",
       "      <td>1586394480000</td>\n",
       "      <td>[April 8,  2020 6:08:00 PM PDT]</td>\n",
       "      <td>[ Our team is continuing to investigate this i...</td>\n",
       "      <td>[ 1]</td>\n",
       "      <td>[ False]</td>\n",
       "      <td>Work continues to resolve the issue for all re...</td>\n",
       "    </tr>\n",
       "    <tr>\n",
       "      <th>546</th>\n",
       "      <td>43</td>\n",
       "      <td>74a7efa47b9de665d02699bbe9dd11fc</td>\n",
       "      <td>1559518200000</td>\n",
       "      <td>[June 2,  2019 4:30:00 PM PDT]</td>\n",
       "      <td>[ The problem with Google Keep should be resol...</td>\n",
       "      <td>[ 3]</td>\n",
       "      <td>[ True]</td>\n",
       "      <td>False</td>\n",
       "    </tr>\n",
       "    <tr>\n",
       "      <th>547</th>\n",
       "      <td>37</td>\n",
       "      <td>4c6bd4230eac0ebd373c300b0846601b</td>\n",
       "      <td>1506373800000</td>\n",
       "      <td>[September 25,  2017 2:10:00 PM PDT]</td>\n",
       "      <td>[ The problem with Google Vault should be reso...</td>\n",
       "      <td>[ 3]</td>\n",
       "      <td>[ True]</td>\n",
       "      <td>False</td>\n",
       "    </tr>\n",
       "    <tr>\n",
       "      <th>548</th>\n",
       "      <td>6</td>\n",
       "      <td>1bac5e7a50db851d55b9d50a04512ed0</td>\n",
       "      <td>1585238220000</td>\n",
       "      <td>[March 26,  2020 8:57:00 AM PDT]</td>\n",
       "      <td>[ \"Were investigating reports of an issue with...</td>\n",
       "      <td>[ 1]</td>\n",
       "      <td>[ True]</td>\n",
       "      <td>False</td>\n",
       "    </tr>\n",
       "  </tbody>\n",
       "</table>\n",
       "<p>549 rows × 8 columns</p>\n",
       "</div>"
      ],
      "text/plain": [
       "    service                          outageId           time  \\\n",
       "0        22  9b03916dfbdc9710283f467403264d16  1572232860000   \n",
       "1         0  51b20fb9ba3b898c8236936fca17fc8f  1576748940000   \n",
       "2         4  fcc552c5af396475ac90ebb7278829c3  1579723140000   \n",
       "3         1  036ce0c8fec1393dabdec4e39bed9437  1586361480000   \n",
       "4         1  74a7efa47b9de665d02699bbe9dd11fc  1559518200000   \n",
       "..      ...                               ...            ...   \n",
       "544      23  74a7efa47b9de665d02699bbe9dd11fc  1559505060000   \n",
       "545       0  4ef64f90d3c93afd1379f0c02be9803d  1586394480000   \n",
       "546      43  74a7efa47b9de665d02699bbe9dd11fc  1559518200000   \n",
       "547      37  4c6bd4230eac0ebd373c300b0846601b  1506373800000   \n",
       "548       6  1bac5e7a50db851d55b9d50a04512ed0  1585238220000   \n",
       "\n",
       "                                      pst  \\\n",
       "0      [October 27,  2019 8:21:00 PM PDT]   \n",
       "1     [December 19,  2019 1:49:00 AM PST]   \n",
       "2     [January 22,  2020 11:59:00 AM PST]   \n",
       "3         [April 8,  2020 8:58:00 AM PDT]   \n",
       "4          [June 2,  2019 4:30:00 PM PDT]   \n",
       "..                                    ...   \n",
       "544       [June 2,  2019 12:51:00 PM PDT]   \n",
       "545       [April 8,  2020 6:08:00 PM PDT]   \n",
       "546        [June 2,  2019 4:30:00 PM PDT]   \n",
       "547  [September 25,  2017 2:10:00 PM PDT]   \n",
       "548      [March 26,  2020 8:57:00 AM PDT]   \n",
       "\n",
       "                                               message  type  resolved  \\\n",
       "0    [ We are continuing to investigate this issue....  [ 1]   [ True]   \n",
       "1    [ Our team is continuing to investigate this i...  [ 1]   [ True]   \n",
       "2    [ The problem with Google Drive should be reso...  [ 3]   [ True]   \n",
       "3    [ The problem with Gmail should be resolved. W...  [ 3]   [ True]   \n",
       "4    [ The problem with Gmail should be resolved. W...  [ 3]   [ True]   \n",
       "..                                                 ...   ...       ...   \n",
       "544  [ We are continuing to investigate this issue....  [ 2]   [ True]   \n",
       "545  [ Our team is continuing to investigate this i...  [ 1]  [ False]   \n",
       "546  [ The problem with Google Keep should be resol...  [ 3]   [ True]   \n",
       "547  [ The problem with Google Vault should be reso...  [ 3]   [ True]   \n",
       "548  [ \"Were investigating reports of an issue with...  [ 1]   [ True]   \n",
       "\n",
       "                                               premier  \n",
       "0                                                False  \n",
       "1                                                False  \n",
       "2    Please have affected users re-authenticate to ...  \n",
       "3                                                False  \n",
       "4                                                False  \n",
       "..                                                 ...  \n",
       "544                                              False  \n",
       "545  Work continues to resolve the issue for all re...  \n",
       "546                                              False  \n",
       "547                                              False  \n",
       "548                                              False  \n",
       "\n",
       "[549 rows x 8 columns]"
      ]
     },
     "execution_count": 22,
     "metadata": {},
     "output_type": "execute_result"
    }
   ],
   "source": [
    "df_unique"
   ]
  },
  {
   "cell_type": "code",
   "execution_count": 23,
   "metadata": {},
   "outputs": [
    {
     "name": "stdout",
     "output_type": "stream",
     "text": [
      "0.22545647621154785\n"
     ]
    }
   ],
   "source": [
    "print(end_time - start_time)"
   ]
  },
  {
   "cell_type": "code",
   "execution_count": 24,
   "metadata": {},
   "outputs": [],
   "source": [
    "df_unique.to_csv(r'/home/shane/Documents/thesis/output/parsed/final/cloud-google-apps.csv', index=False)"
   ]
  },
  {
   "cell_type": "code",
   "execution_count": null,
   "metadata": {},
   "outputs": [],
   "source": []
  }
 ],
 "metadata": {
  "kernelspec": {
   "display_name": "Python 3",
   "language": "python",
   "name": "python3"
  },
  "language_info": {
   "codemirror_mode": {
    "name": "ipython",
    "version": 3
   },
   "file_extension": ".py",
   "mimetype": "text/x-python",
   "name": "python",
   "nbconvert_exporter": "python",
   "pygments_lexer": "ipython3",
   "version": "3.8.5"
  }
 },
 "nbformat": 4,
 "nbformat_minor": 4
}
