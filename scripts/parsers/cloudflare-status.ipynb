{
 "cells": [
  {
   "cell_type": "code",
   "execution_count": 1,
   "metadata": {},
   "outputs": [],
   "source": [
    "import time\n",
    "import glob as glob\n",
    "from zipfile import ZipFile\n",
    "from bs4 import BeautifulSoup\n",
    "import dateutil.parser as dparser\n",
    "from datetime import datetime\n",
    "import pandas as pd\n",
    "import multiprocessing as mp\n",
    "import numpy as np"
   ]
  },
  {
   "cell_type": "code",
   "execution_count": 2,
   "metadata": {},
   "outputs": [],
   "source": [
    "# root_dir = '/media/shane/cloud-availability-sacheen-2020-05-11/cloudflare-status' # one directory\n",
    "# root_dir = '/media/shane/cloud-availability-sacheen-2020-05-11/cloudflare-status/2019/20196' # subset of above\n",
    "root_dir = '/media/shane/cloud-availability-sacheen-2020-05-11/cloudflare-status*' # all directories"
   ]
  },
  {
   "cell_type": "code",
   "execution_count": 3,
   "metadata": {},
   "outputs": [],
   "source": [
    "def extract_html_data(html_doc):\n",
    "    soup = BeautifulSoup(html_doc, 'html.parser')\n",
    "    result = []\n",
    "    \n",
    "    try:\n",
    "        for status in soup.find_all('div', {'class': 'component-inner-container'}):\n",
    "            region = ' '.join(status.find('span').text.split())\n",
    "            result.append([region, status['data-component-status']])\n",
    "    except:\n",
    "        result.append('?')\n",
    "\n",
    "    return [result]"
   ]
  },
  {
   "cell_type": "code",
   "execution_count": 4,
   "metadata": {
    "scrolled": true
   },
   "outputs": [],
   "source": [
    "def read_file(file):\n",
    "    source = file.split('/')[4]\n",
    "    archive = ZipFile(file, 'r')\n",
    "    namelist = archive.namelist()\n",
    "    ret = []\n",
    "    for item in namelist:\n",
    "        if 'html' in item and 'history' not in item:\n",
    "            html = archive.read(item)\n",
    "            service = item.split('/')[1].split('.')[0]\n",
    "            ts = item.split('/')[0]\n",
    "            data = extract_html_data(html)\n",
    "            data.insert(0, ts)\n",
    "            data.insert(0, service)\n",
    "            data.insert(0, source)\n",
    "            ret.append(data)\n",
    "    archive.close()\n",
    "    return(ret)"
   ]
  },
  {
   "cell_type": "code",
   "execution_count": null,
   "metadata": {
    "scrolled": true
   },
   "outputs": [],
   "source": [
    "files = glob.glob(root_dir + '/**/*.zip', recursive=True)\n",
    "pool = mp.Pool(mp.cpu_count())\n",
    "start_time = time.time()\n",
    "results = pool.map(read_file, [file for file in files])\n",
    "pool.close()\n",
    "end_time = time.time()"
   ]
  },
  {
   "cell_type": "code",
   "execution_count": null,
   "metadata": {},
   "outputs": [],
   "source": [
    "print(end_time - start_time)"
   ]
  },
  {
   "cell_type": "code",
   "execution_count": null,
   "metadata": {
    "scrolled": true
   },
   "outputs": [],
   "source": [
    "res = []\n",
    "for outer in results:\n",
    "    for inner in outer:\n",
    "        res.append(inner)\n",
    "print(len(res))"
   ]
  },
  {
   "cell_type": "code",
   "execution_count": null,
   "metadata": {
    "scrolled": true
   },
   "outputs": [],
   "source": [
    "column_names = ['source','service','timestamp','status']\n",
    "df = pd.DataFrame(res, columns=column_names)\n",
    "df.head(50)"
   ]
  },
  {
   "cell_type": "code",
   "execution_count": null,
   "metadata": {},
   "outputs": [],
   "source": [
    "df.to_csv(r'/home/shane/Documents/thesis/output/cloudflare-status.csv', index=False)"
   ]
  },
  {
   "cell_type": "code",
   "execution_count": null,
   "metadata": {},
   "outputs": [],
   "source": []
  }
 ],
 "metadata": {
  "kernelspec": {
   "display_name": "Python 3",
   "language": "python",
   "name": "python3"
  },
  "language_info": {
   "codemirror_mode": {
    "name": "ipython",
    "version": 3
   },
   "file_extension": ".py",
   "mimetype": "text/x-python",
   "name": "python",
   "nbconvert_exporter": "python",
   "pygments_lexer": "ipython3",
   "version": "3.8.5"
  }
 },
 "nbformat": 4,
 "nbformat_minor": 4
}
