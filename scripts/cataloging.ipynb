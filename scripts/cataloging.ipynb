{
 "cells": [
  {
   "cell_type": "code",
   "execution_count": 3,
   "metadata": {},
   "outputs": [],
   "source": [
    "import os\n",
    "import io\n",
    "import glob as glob\n",
    "from zipfile import ZipFile\n",
    "from collections import defaultdict "
   ]
  },
  {
   "cell_type": "code",
   "execution_count": 4,
   "metadata": {
    "scrolled": false
   },
   "outputs": [],
   "source": [
    "files = glob.glob('/media/shane/cloud-availability-sacheen-2020-05-11/**/*.zip', recursive=True)\n",
    "res = defaultdict(list)\n",
    "for f in files:\n",
    "    f = f.split('/')\n",
    "    source = f[4]\n",
    "    year = f[5]\n",
    "    month = f[6].split('.')[0]\n",
    "    date = [int(year), int(month[4:])]\n",
    "    res[source].append(date)"
   ]
  },
  {
   "cell_type": "code",
   "execution_count": 5,
   "metadata": {
    "scrolled": true
   },
   "outputs": [
    {
     "name": "stdout",
     "output_type": "stream",
     "text": [
      "downdetector-deu-germany [2017, 10] [2018, 9]\n",
      "downdetector-pol-poland [2017, 10] [2018, 9]\n",
      "downdetector-nzl-new-zealand [2017, 10] [2018, 9]\n",
      "downdetector-bra-brazil [2017, 10] [2018, 9]\n",
      "downdetector-are-united-arab-emirates [2017, 10] [2018, 9]\n",
      "downdetector-gbr-great-britain [2017, 10] [2018, 9]\n",
      "downdetector-ita-italy [2017, 10] [2018, 9]\n",
      "github-status [2019, 5] [2020, 6]\n",
      "downdetector-can-canada [2017, 10] [2018, 9]\n",
      "nintendo [2020, 5] [2020, 6]\n",
      "cloud-google-apps [2017, 11] [2020, 6]\n",
      "downdetector [2017, 10] [2018, 9]\n",
      "downdetector-fin-finland [2017, 10] [2018, 9]\n",
      "cloud-google-cloud-platform [2017, 11] [2020, 6]\n",
      "discord [2020, 3] [2020, 6]\n",
      "downdetector-nld-netherlands [2017, 10] [2018, 9]\n",
      "downdetector-mex-mexico [2017, 10] [2018, 9]\n",
      "cloud-microsoft-azure [2017, 11] [2020, 6]\n",
      "downdetector-prt-portugal [2017, 10] [2018, 9]\n",
      "downdetector-ind-india [2017, 10] [2018, 9]\n",
      "downdetector-irl-ireland [2017, 10] [2018, 9]\n",
      "downdetector-fra-france [2017, 10] [2018, 9]\n",
      "downdetector-den-denmark [2017, 10] [2018, 9]\n",
      "downdetector-rus-russia [2017, 10] [2018, 9]\n",
      "downrightnow [2017, 10] [2020, 6]\n",
      "atlassian [2020, 3] [2020, 6]\n",
      "downdetector-chl-chile [2017, 10] [2018, 9]\n",
      "downdetector-zaf-south-africa [2017, 10] [2018, 9]\n",
      "cloudflare-status [2019, 6] [2020, 6]\n",
      "cloud-amazon-web-services [2017, 11] [2020, 6]\n",
      "slack [2020, 3] [2020, 6]\n",
      "downdetector-swe-sweden [2017, 10] [2018, 9]\n",
      "outage.report [2019, 4] [2020, 6]\n",
      "downdetector-bel-belgium [2017, 10] [2018, 9]\n",
      "gpanel [2019, 6] [2020, 6]\n",
      "downdetector-sgp-singapore [2017, 10] [2018, 9]\n",
      "downdetector-arg-argentina [2017, 10] [2018, 9]\n",
      "downdetector-aut-austria [2017, 10] [2018, 9]\n",
      "minecraft [2020, 3] [2020, 6]\n",
      "docker [2020, 3] [2020, 6]\n",
      "downdetector-esp-spain [2017, 10] [2018, 9]\n",
      "cloud-apple-consumer [2017, 11] [2020, 6]\n",
      "downdetector-aus-australia [2017, 10] [2018, 9]\n",
      "downdetector-nor-norway [2017, 10] [2018, 9]\n",
      "downdetector-jpn-japan [2017, 10] [2018, 9]\n",
      "downdetector-che-switzerland [2017, 10] [2018, 9]\n"
     ]
    }
   ],
   "source": [
    "# print sorted list of files with date ranges\n",
    "for k in res:\n",
    "    print(k, sorted(res[k])[0], sorted(res[k]).pop())"
   ]
  },
  {
   "cell_type": "code",
   "execution_count": 10,
   "metadata": {
    "scrolled": true
   },
   "outputs": [],
   "source": [
    "# find empty zip files for removal\n",
    "for f in files:\n",
    "    archive = ZipFile(f, 'r')\n",
    "    namelist = archive.namelist()\n",
    "    if len(namelist) == 1:\n",
    "        print(f, namelist)\n",
    "#     print(f)"
   ]
  },
  {
   "cell_type": "code",
   "execution_count": 9,
   "metadata": {},
   "outputs": [
    {
     "name": "stdout",
     "output_type": "stream",
     "text": [
      "['downdetector-deu-germany', 'downdetector-pol-poland', 'downdetector-nzl-new-zealand', 'downdetector-bra-brazil', 'downdetector-are-united-arab-emirates', 'downdetector-gbr-great-britain', 'downdetector-ita-italy', 'github-status', 'downdetector-can-canada', 'nintendo', 'cloud-google-apps', 'downdetector', 'downdetector-fin-finland', 'cloud-google-cloud-platform', 'discord', 'downdetector-nld-netherlands', 'downdetector-mex-mexico', 'cloud-microsoft-azure', 'downdetector-prt-portugal', 'downdetector-ind-india', 'downdetector-irl-ireland', 'downdetector-fra-france', 'downdetector-den-denmark', 'downdetector-rus-russia', 'downrightnow', 'atlassian', 'downdetector-chl-chile', 'to_remove2.txt', 'downdetector-zaf-south-africa', 'cloudflare-status', 'cloud-amazon-web-services', 'slack', 'downdetector-swe-sweden', 'outage.report', 'downdetector-bel-belgium', 'gpanel', 'downdetector-sgp-singapore', 'downdetector-arg-argentina', 'to_remove.txt', 'downdetector-aut-austria', 'minecraft', 'docker', 'downdetector-esp-spain', 'cloud-apple-consumer', 'downdetector-aus-australia', 'downdetector-nor-norway', 'downdetector-jpn-japan', 'downdetector-che-switzerland']\n"
     ]
    }
   ],
   "source": [
    "# list data sources\n",
    "arr = []\n",
    "dirs = glob.glob('/media/shane/cloud-availability-sacheen-2020-05-11/*')\n",
    "for d in dirs:\n",
    "    arr.append(d.split('/')[4])\n",
    "print(arr)"
   ]
  },
  {
   "cell_type": "code",
   "execution_count": 11,
   "metadata": {
    "scrolled": false
   },
   "outputs": [
    {
     "name": "stdout",
     "output_type": "stream",
     "text": [
      "downdetector-deu-germany \t {'reddit.html', 'spotify.html', 'netflix.html', 'airbnb.html', 'amazon.html', 'youtube.html', 'snapchat.html', 'slack.html', 'zynga.html'}\n",
      "downdetector-pol-poland \t {'spotify.html', 'netflix.html', 'amazon.html', 'youtube.html', 'snapchat.html'}\n",
      "downdetector-nzl-new-zealand \t {'reddit.html', 'spotify.html', 'pinterest.html', 'netflix.html', 'youtube.html', 'snapchat.html'}\n",
      "downdetector-bra-brazil \t {'spotify.html', 'netflix.html', 'amazon.html', 'youtube.html', 'snapchat.html'}\n",
      "downdetector-are-united-arab-emirates \t {'netflix.html', 'snapchat.html', 'youtube.html'}\n",
      "downdetector-gbr-great-britain \t {'reddit.html', 'spotify.html', 'pinterest.html', 'netflix.html', 'airbnb.html', 'amazon.html', 'youtube.html', 'snapchat.html', 'slack.html', 'zynga.html'}\n",
      "downdetector-ita-italy \t {'spotify.html', 'netflix.html', 'amazon.html', 'youtube.html', 'snapchat.html'}\n",
      "github-status \t {'global-status.html'}\n",
      "downdetector-can-canada \t {'reddit.html', 'spotify.html', 'pinterest.html', 'netflix.html', 'amazon.html', 'youtube.html', 'snapchat.html', 'slack.html', 'zynga.html'}\n",
      "nintendo \t {'global-status.html'}\n",
      "cloud-google-apps \t {'json-feed.html'}\n",
      "downdetector \t {'reddit.html', 'spotify.html', 'pinterest.html', 'netflix.html', 'airbnb.html', 'amazon.html', 'youtube.html', 'snapchat.html', 'slack.html', 'zynga.html', 'lyft.html'}\n",
      "downdetector-fin-finland \t {'netflix.html', 'snapchat.html', 'youtube.html'}\n",
      "cloud-google-cloud-platform \t {'json-feed.html', 'status-dashboard.html'}\n",
      "discord \t {'global-status.html'}\n",
      "downdetector-nld-netherlands \t {'spotify.html', 'netflix.html', 'airbnb.html', 'youtube.html', 'snapchat.html'}\n",
      "downdetector-mex-mexico \t {'spotify.html', 'netflix.html', 'amazon.html', 'youtube.html', 'snapchat.html'}\n",
      "cloud-microsoft-azure \t {'history.html', 'status-dashboard.html'}\n",
      "downdetector-prt-portugal \t {'spotify.html', 'youtube.html'}\n",
      "downdetector-ind-india \t {'amazon.html', 'youtube.html'}\n",
      "downdetector-irl-ireland \t {'spotify.html', 'pinterest.html', 'netflix.html', 'amazon.html', 'youtube.html', 'snapchat.html'}\n",
      "downdetector-fra-france \t {'spotify.html', 'pinterest.html', 'netflix.html', 'amazon.html', 'youtube.html', 'snapchat.html', 'zynga.html'}\n",
      "downdetector-den-denmark \t {'spotify.html', 'netflix.html', 'amazon.html', 'youtube.html', 'snapchat.html'}\n",
      "downdetector-rus-russia \t {'youtube.html'}\n",
      "downrightnow \t {'facebook.html', 'blogger.html', 'tumblr.html', 'skype.html', 'linkedin.html', 'netflix.html', 'ning.html', 'typepad.html', 'foursquare.html', 'youtube.html', 'paypal.html', 'twitter.html', 'gmail.html', 'yahoomail.html', 'livejournal.html', 'hotmail.html'}\n",
      "atlassian \t {'access.html', 'jira-core.html', 'trello.html', 'jira-software.html', 'bitbucket.html', 'jira-align.html', 'support.html', 'statuspage.html', 'opsgenie.html', 'developers.html', 'jira-service-desk.html', 'partners.html', 'confluence.html'}\n",
      "downdetector-chl-chile \t {'spotify.html', 'netflix.html', 'youtube.html', 'snapchat.html'}\n",
      "to_remove2.txt \t set()\n",
      "downdetector-zaf-south-africa \t {'pinterest.html', 'netflix.html', 'amazon.html', 'youtube.html', 'snapchat.html'}\n",
      "cloudflare-status \t {'global-status.html', 'history.html'}\n",
      "cloud-amazon-web-services \t {'json-feed.html', 'global-status.html'}\n",
      "slack \t {'global-status.html', 'rss-feed.html'}\n",
      "downdetector-swe-sweden \t {'reddit.html', 'spotify.html', 'netflix.html', 'amazon.html', 'youtube.html', 'snapchat.html'}\n",
      "outage.report \t {'facebook.html', 'skype.html', 'netflix.html', 'facebook-messenger.html', 'youtube.html', 'twitter.html', 'overview.html', 'snapchat.html', 'instagram.html', 'github.html', 'gmail.html', 'apple-servers.html', 'whatsapp.html'}\n",
      "downdetector-bel-belgium \t {'spotify.html', 'netflix.html', 'youtube.html', 'snapchat.html'}\n",
      "gpanel \t {'xss-feed.html', 'global-status.html'}\n",
      "downdetector-sgp-singapore \t {'spotify.html', 'netflix.html', 'youtube.html', 'snapchat.html'}\n",
      "downdetector-arg-argentina \t {'spotify.html', 'netflix.html', 'youtube.html', 'snapchat.html'}\n",
      "to_remove.txt \t set()\n",
      "downdetector-aut-austria \t {'spotify.html', 'netflix.html', 'amazon.html', 'youtube.html', 'snapchat.html'}\n",
      "minecraft \t {'twitter.html'}\n",
      "docker \t {'global-status.html'}\n",
      "downdetector-esp-spain \t {'spotify.html', 'netflix.html', 'amazon.html', 'youtube.html', 'snapchat.html'}\n",
      "cloud-apple-consumer \t {'system-status.html'}\n",
      "downdetector-aus-australia \t {'reddit.html', 'spotify.html', 'pinterest.html', 'netflix.html', 'airbnb.html', 'amazon.html', 'youtube.html', 'snapchat.html', 'slack.html'}\n",
      "downdetector-nor-norway \t {'netflix.html', 'snapchat.html', 'youtube.html'}\n",
      "downdetector-jpn-japan \t {'amazon.html', 'youtube.html'}\n",
      "downdetector-che-switzerland \t {'spotify.html', 'netflix.html', 'youtube.html', 'snapchat.html'}\n"
     ]
    }
   ],
   "source": [
    "# for each source, find unique files in deepest subfolder\n",
    "for d in arr:\n",
    "    files = glob.glob('/media/shane/cloud-availability-sacheen-2020-05-11/'+d+'/**/*.zip', recursive=True)\n",
    "    res2 = set()\n",
    "    for f in files:\n",
    "        archive = ZipFile(f, 'r')\n",
    "        namelist = archive.namelist()\n",
    "        for item in namelist:\n",
    "            try:\n",
    "                res2.add(item.split('/')[1])\n",
    "            except:\n",
    "                pass\n",
    "    res2.discard('')\n",
    "    print(d, '\\t', res2)"
   ]
  },
  {
   "cell_type": "code",
   "execution_count": null,
   "metadata": {},
   "outputs": [],
   "source": []
  }
 ],
 "metadata": {
  "kernelspec": {
   "display_name": "Python 3",
   "language": "python",
   "name": "python3"
  },
  "language_info": {
   "codemirror_mode": {
    "name": "ipython",
    "version": 3
   },
   "file_extension": ".py",
   "mimetype": "text/x-python",
   "name": "python",
   "nbconvert_exporter": "python",
   "pygments_lexer": "ipython3",
   "version": "3.8.5"
  }
 },
 "nbformat": 4,
 "nbformat_minor": 4
}
