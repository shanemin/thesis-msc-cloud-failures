{
 "cells": [
  {
   "cell_type": "markdown",
   "metadata": {},
   "source": [
    "# A _dirty notebook_ for initial data exploration"
   ]
  },
  {
   "cell_type": "code",
   "execution_count": 1,
   "metadata": {},
   "outputs": [],
   "source": [
    "import os\n",
    "import io\n",
    "import glob as glob\n",
    "from zipfile import ZipFile\n",
    "from collections import defaultdict "
   ]
  },
  {
   "cell_type": "code",
   "execution_count": 2,
   "metadata": {
    "scrolled": true
   },
   "outputs": [
    {
     "ename": "KeyboardInterrupt",
     "evalue": "",
     "output_type": "error",
     "traceback": [
      "\u001b[0;31m---------------------------------------------------------------------------\u001b[0m",
      "\u001b[0;31mKeyboardInterrupt\u001b[0m                         Traceback (most recent call last)",
      "\u001b[0;32m<ipython-input-2-88f77db51186>\u001b[0m in \u001b[0;36m<module>\u001b[0;34m\u001b[0m\n\u001b[0;32m----> 1\u001b[0;31m \u001b[0mfiles\u001b[0m \u001b[0;34m=\u001b[0m \u001b[0mglob\u001b[0m\u001b[0;34m.\u001b[0m\u001b[0mglob\u001b[0m\u001b[0;34m(\u001b[0m\u001b[0;34m'/media/shane/cloud-availability-sacheen-2020-05-11/**/*.zip'\u001b[0m\u001b[0;34m,\u001b[0m \u001b[0mrecursive\u001b[0m\u001b[0;34m=\u001b[0m\u001b[0;32mTrue\u001b[0m\u001b[0;34m)\u001b[0m\u001b[0;34m\u001b[0m\u001b[0;34m\u001b[0m\u001b[0m\n\u001b[0m\u001b[1;32m      2\u001b[0m \u001b[0mres\u001b[0m \u001b[0;34m=\u001b[0m \u001b[0mdefaultdict\u001b[0m\u001b[0;34m(\u001b[0m\u001b[0mlist\u001b[0m\u001b[0;34m)\u001b[0m\u001b[0;34m\u001b[0m\u001b[0;34m\u001b[0m\u001b[0m\n\u001b[1;32m      3\u001b[0m \u001b[0;32mfor\u001b[0m \u001b[0mf\u001b[0m \u001b[0;32min\u001b[0m \u001b[0mfiles\u001b[0m\u001b[0;34m:\u001b[0m\u001b[0;34m\u001b[0m\u001b[0;34m\u001b[0m\u001b[0m\n\u001b[1;32m      4\u001b[0m     \u001b[0mf\u001b[0m \u001b[0;34m=\u001b[0m \u001b[0mf\u001b[0m\u001b[0;34m.\u001b[0m\u001b[0msplit\u001b[0m\u001b[0;34m(\u001b[0m\u001b[0;34m'/'\u001b[0m\u001b[0;34m)\u001b[0m\u001b[0;34m\u001b[0m\u001b[0;34m\u001b[0m\u001b[0m\n\u001b[1;32m      5\u001b[0m     \u001b[0msource\u001b[0m \u001b[0;34m=\u001b[0m \u001b[0mf\u001b[0m\u001b[0;34m[\u001b[0m\u001b[0;36m4\u001b[0m\u001b[0;34m]\u001b[0m\u001b[0;34m\u001b[0m\u001b[0;34m\u001b[0m\u001b[0m\n",
      "\u001b[0;32m/usr/lib/python3.8/glob.py\u001b[0m in \u001b[0;36mglob\u001b[0;34m(pathname, recursive)\u001b[0m\n\u001b[1;32m     19\u001b[0m     \u001b[0mzero\u001b[0m \u001b[0;32mor\u001b[0m \u001b[0mmore\u001b[0m \u001b[0mdirectories\u001b[0m \u001b[0;32mand\u001b[0m \u001b[0msubdirectories\u001b[0m\u001b[0;34m.\u001b[0m\u001b[0;34m\u001b[0m\u001b[0;34m\u001b[0m\u001b[0m\n\u001b[1;32m     20\u001b[0m     \"\"\"\n\u001b[0;32m---> 21\u001b[0;31m     \u001b[0;32mreturn\u001b[0m \u001b[0mlist\u001b[0m\u001b[0;34m(\u001b[0m\u001b[0miglob\u001b[0m\u001b[0;34m(\u001b[0m\u001b[0mpathname\u001b[0m\u001b[0;34m,\u001b[0m \u001b[0mrecursive\u001b[0m\u001b[0;34m=\u001b[0m\u001b[0mrecursive\u001b[0m\u001b[0;34m)\u001b[0m\u001b[0;34m)\u001b[0m\u001b[0;34m\u001b[0m\u001b[0;34m\u001b[0m\u001b[0m\n\u001b[0m\u001b[1;32m     22\u001b[0m \u001b[0;34m\u001b[0m\u001b[0m\n\u001b[1;32m     23\u001b[0m \u001b[0;32mdef\u001b[0m \u001b[0miglob\u001b[0m\u001b[0;34m(\u001b[0m\u001b[0mpathname\u001b[0m\u001b[0;34m,\u001b[0m \u001b[0;34m*\u001b[0m\u001b[0;34m,\u001b[0m \u001b[0mrecursive\u001b[0m\u001b[0;34m=\u001b[0m\u001b[0;32mFalse\u001b[0m\u001b[0;34m)\u001b[0m\u001b[0;34m:\u001b[0m\u001b[0;34m\u001b[0m\u001b[0;34m\u001b[0m\u001b[0m\n",
      "\u001b[0;32m/usr/lib/python3.8/glob.py\u001b[0m in \u001b[0;36m_iglob\u001b[0;34m(pathname, recursive, dironly)\u001b[0m\n\u001b[1;32m     71\u001b[0m     \u001b[0;32melse\u001b[0m\u001b[0;34m:\u001b[0m\u001b[0;34m\u001b[0m\u001b[0;34m\u001b[0m\u001b[0m\n\u001b[1;32m     72\u001b[0m         \u001b[0mglob_in_dir\u001b[0m \u001b[0;34m=\u001b[0m \u001b[0m_glob0\u001b[0m\u001b[0;34m\u001b[0m\u001b[0;34m\u001b[0m\u001b[0m\n\u001b[0;32m---> 73\u001b[0;31m     \u001b[0;32mfor\u001b[0m \u001b[0mdirname\u001b[0m \u001b[0;32min\u001b[0m \u001b[0mdirs\u001b[0m\u001b[0;34m:\u001b[0m\u001b[0;34m\u001b[0m\u001b[0;34m\u001b[0m\u001b[0m\n\u001b[0m\u001b[1;32m     74\u001b[0m         \u001b[0;32mfor\u001b[0m \u001b[0mname\u001b[0m \u001b[0;32min\u001b[0m \u001b[0mglob_in_dir\u001b[0m\u001b[0;34m(\u001b[0m\u001b[0mdirname\u001b[0m\u001b[0;34m,\u001b[0m \u001b[0mbasename\u001b[0m\u001b[0;34m,\u001b[0m \u001b[0mdironly\u001b[0m\u001b[0;34m)\u001b[0m\u001b[0;34m:\u001b[0m\u001b[0;34m\u001b[0m\u001b[0;34m\u001b[0m\u001b[0m\n\u001b[1;32m     75\u001b[0m             \u001b[0;32myield\u001b[0m \u001b[0mos\u001b[0m\u001b[0;34m.\u001b[0m\u001b[0mpath\u001b[0m\u001b[0;34m.\u001b[0m\u001b[0mjoin\u001b[0m\u001b[0;34m(\u001b[0m\u001b[0mdirname\u001b[0m\u001b[0;34m,\u001b[0m \u001b[0mname\u001b[0m\u001b[0;34m)\u001b[0m\u001b[0;34m\u001b[0m\u001b[0;34m\u001b[0m\u001b[0m\n",
      "\u001b[0;32m/usr/lib/python3.8/glob.py\u001b[0m in \u001b[0;36m_iglob\u001b[0;34m(pathname, recursive, dironly)\u001b[0m\n\u001b[1;32m     72\u001b[0m         \u001b[0mglob_in_dir\u001b[0m \u001b[0;34m=\u001b[0m \u001b[0m_glob0\u001b[0m\u001b[0;34m\u001b[0m\u001b[0;34m\u001b[0m\u001b[0m\n\u001b[1;32m     73\u001b[0m     \u001b[0;32mfor\u001b[0m \u001b[0mdirname\u001b[0m \u001b[0;32min\u001b[0m \u001b[0mdirs\u001b[0m\u001b[0;34m:\u001b[0m\u001b[0;34m\u001b[0m\u001b[0;34m\u001b[0m\u001b[0m\n\u001b[0;32m---> 74\u001b[0;31m         \u001b[0;32mfor\u001b[0m \u001b[0mname\u001b[0m \u001b[0;32min\u001b[0m \u001b[0mglob_in_dir\u001b[0m\u001b[0;34m(\u001b[0m\u001b[0mdirname\u001b[0m\u001b[0;34m,\u001b[0m \u001b[0mbasename\u001b[0m\u001b[0;34m,\u001b[0m \u001b[0mdironly\u001b[0m\u001b[0;34m)\u001b[0m\u001b[0;34m:\u001b[0m\u001b[0;34m\u001b[0m\u001b[0;34m\u001b[0m\u001b[0m\n\u001b[0m\u001b[1;32m     75\u001b[0m             \u001b[0;32myield\u001b[0m \u001b[0mos\u001b[0m\u001b[0;34m.\u001b[0m\u001b[0mpath\u001b[0m\u001b[0;34m.\u001b[0m\u001b[0mjoin\u001b[0m\u001b[0;34m(\u001b[0m\u001b[0mdirname\u001b[0m\u001b[0;34m,\u001b[0m \u001b[0mname\u001b[0m\u001b[0;34m)\u001b[0m\u001b[0;34m\u001b[0m\u001b[0;34m\u001b[0m\u001b[0m\n\u001b[1;32m     76\u001b[0m \u001b[0;34m\u001b[0m\u001b[0m\n",
      "\u001b[0;32m/usr/lib/python3.8/glob.py\u001b[0m in \u001b[0;36m_glob2\u001b[0;34m(dirname, pattern, dironly)\u001b[0m\n\u001b[1;32m    110\u001b[0m     \u001b[0;32massert\u001b[0m \u001b[0m_isrecursive\u001b[0m\u001b[0;34m(\u001b[0m\u001b[0mpattern\u001b[0m\u001b[0;34m)\u001b[0m\u001b[0;34m\u001b[0m\u001b[0;34m\u001b[0m\u001b[0m\n\u001b[1;32m    111\u001b[0m     \u001b[0;32myield\u001b[0m \u001b[0mpattern\u001b[0m\u001b[0;34m[\u001b[0m\u001b[0;34m:\u001b[0m\u001b[0;36m0\u001b[0m\u001b[0;34m]\u001b[0m\u001b[0;34m\u001b[0m\u001b[0;34m\u001b[0m\u001b[0m\n\u001b[0;32m--> 112\u001b[0;31m     \u001b[0;32myield\u001b[0m \u001b[0;32mfrom\u001b[0m \u001b[0m_rlistdir\u001b[0m\u001b[0;34m(\u001b[0m\u001b[0mdirname\u001b[0m\u001b[0;34m,\u001b[0m \u001b[0mdironly\u001b[0m\u001b[0;34m)\u001b[0m\u001b[0;34m\u001b[0m\u001b[0;34m\u001b[0m\u001b[0m\n\u001b[0m\u001b[1;32m    113\u001b[0m \u001b[0;34m\u001b[0m\u001b[0m\n\u001b[1;32m    114\u001b[0m \u001b[0;31m# If dironly is false, yields all file names inside a directory.\u001b[0m\u001b[0;34m\u001b[0m\u001b[0;34m\u001b[0m\u001b[0;34m\u001b[0m\u001b[0m\n",
      "\u001b[0;32m/usr/lib/python3.8/glob.py\u001b[0m in \u001b[0;36m_rlistdir\u001b[0;34m(dirname, dironly)\u001b[0m\n\u001b[1;32m    138\u001b[0m             \u001b[0;32myield\u001b[0m \u001b[0mx\u001b[0m\u001b[0;34m\u001b[0m\u001b[0;34m\u001b[0m\u001b[0m\n\u001b[1;32m    139\u001b[0m             \u001b[0mpath\u001b[0m \u001b[0;34m=\u001b[0m \u001b[0mos\u001b[0m\u001b[0;34m.\u001b[0m\u001b[0mpath\u001b[0m\u001b[0;34m.\u001b[0m\u001b[0mjoin\u001b[0m\u001b[0;34m(\u001b[0m\u001b[0mdirname\u001b[0m\u001b[0;34m,\u001b[0m \u001b[0mx\u001b[0m\u001b[0;34m)\u001b[0m \u001b[0;32mif\u001b[0m \u001b[0mdirname\u001b[0m \u001b[0;32melse\u001b[0m \u001b[0mx\u001b[0m\u001b[0;34m\u001b[0m\u001b[0;34m\u001b[0m\u001b[0m\n\u001b[0;32m--> 140\u001b[0;31m             \u001b[0;32mfor\u001b[0m \u001b[0my\u001b[0m \u001b[0;32min\u001b[0m \u001b[0m_rlistdir\u001b[0m\u001b[0;34m(\u001b[0m\u001b[0mpath\u001b[0m\u001b[0;34m,\u001b[0m \u001b[0mdironly\u001b[0m\u001b[0;34m)\u001b[0m\u001b[0;34m:\u001b[0m\u001b[0;34m\u001b[0m\u001b[0;34m\u001b[0m\u001b[0m\n\u001b[0m\u001b[1;32m    141\u001b[0m                 \u001b[0;32myield\u001b[0m \u001b[0mos\u001b[0m\u001b[0;34m.\u001b[0m\u001b[0mpath\u001b[0m\u001b[0;34m.\u001b[0m\u001b[0mjoin\u001b[0m\u001b[0;34m(\u001b[0m\u001b[0mx\u001b[0m\u001b[0;34m,\u001b[0m \u001b[0my\u001b[0m\u001b[0;34m)\u001b[0m\u001b[0;34m\u001b[0m\u001b[0;34m\u001b[0m\u001b[0m\n\u001b[1;32m    142\u001b[0m \u001b[0;34m\u001b[0m\u001b[0m\n",
      "\u001b[0;32m/usr/lib/python3.8/glob.py\u001b[0m in \u001b[0;36m_rlistdir\u001b[0;34m(dirname, dironly)\u001b[0m\n\u001b[1;32m    138\u001b[0m             \u001b[0;32myield\u001b[0m \u001b[0mx\u001b[0m\u001b[0;34m\u001b[0m\u001b[0;34m\u001b[0m\u001b[0m\n\u001b[1;32m    139\u001b[0m             \u001b[0mpath\u001b[0m \u001b[0;34m=\u001b[0m \u001b[0mos\u001b[0m\u001b[0;34m.\u001b[0m\u001b[0mpath\u001b[0m\u001b[0;34m.\u001b[0m\u001b[0mjoin\u001b[0m\u001b[0;34m(\u001b[0m\u001b[0mdirname\u001b[0m\u001b[0;34m,\u001b[0m \u001b[0mx\u001b[0m\u001b[0;34m)\u001b[0m \u001b[0;32mif\u001b[0m \u001b[0mdirname\u001b[0m \u001b[0;32melse\u001b[0m \u001b[0mx\u001b[0m\u001b[0;34m\u001b[0m\u001b[0;34m\u001b[0m\u001b[0m\n\u001b[0;32m--> 140\u001b[0;31m             \u001b[0;32mfor\u001b[0m \u001b[0my\u001b[0m \u001b[0;32min\u001b[0m \u001b[0m_rlistdir\u001b[0m\u001b[0;34m(\u001b[0m\u001b[0mpath\u001b[0m\u001b[0;34m,\u001b[0m \u001b[0mdironly\u001b[0m\u001b[0;34m)\u001b[0m\u001b[0;34m:\u001b[0m\u001b[0;34m\u001b[0m\u001b[0;34m\u001b[0m\u001b[0m\n\u001b[0m\u001b[1;32m    141\u001b[0m                 \u001b[0;32myield\u001b[0m \u001b[0mos\u001b[0m\u001b[0;34m.\u001b[0m\u001b[0mpath\u001b[0m\u001b[0;34m.\u001b[0m\u001b[0mjoin\u001b[0m\u001b[0;34m(\u001b[0m\u001b[0mx\u001b[0m\u001b[0;34m,\u001b[0m \u001b[0my\u001b[0m\u001b[0;34m)\u001b[0m\u001b[0;34m\u001b[0m\u001b[0;34m\u001b[0m\u001b[0m\n\u001b[1;32m    142\u001b[0m \u001b[0;34m\u001b[0m\u001b[0m\n",
      "\u001b[0;32m/usr/lib/python3.8/glob.py\u001b[0m in \u001b[0;36m_rlistdir\u001b[0;34m(dirname, dironly)\u001b[0m\n\u001b[1;32m    138\u001b[0m             \u001b[0;32myield\u001b[0m \u001b[0mx\u001b[0m\u001b[0;34m\u001b[0m\u001b[0;34m\u001b[0m\u001b[0m\n\u001b[1;32m    139\u001b[0m             \u001b[0mpath\u001b[0m \u001b[0;34m=\u001b[0m \u001b[0mos\u001b[0m\u001b[0;34m.\u001b[0m\u001b[0mpath\u001b[0m\u001b[0;34m.\u001b[0m\u001b[0mjoin\u001b[0m\u001b[0;34m(\u001b[0m\u001b[0mdirname\u001b[0m\u001b[0;34m,\u001b[0m \u001b[0mx\u001b[0m\u001b[0;34m)\u001b[0m \u001b[0;32mif\u001b[0m \u001b[0mdirname\u001b[0m \u001b[0;32melse\u001b[0m \u001b[0mx\u001b[0m\u001b[0;34m\u001b[0m\u001b[0;34m\u001b[0m\u001b[0m\n\u001b[0;32m--> 140\u001b[0;31m             \u001b[0;32mfor\u001b[0m \u001b[0my\u001b[0m \u001b[0;32min\u001b[0m \u001b[0m_rlistdir\u001b[0m\u001b[0;34m(\u001b[0m\u001b[0mpath\u001b[0m\u001b[0;34m,\u001b[0m \u001b[0mdironly\u001b[0m\u001b[0;34m)\u001b[0m\u001b[0;34m:\u001b[0m\u001b[0;34m\u001b[0m\u001b[0;34m\u001b[0m\u001b[0m\n\u001b[0m\u001b[1;32m    141\u001b[0m                 \u001b[0;32myield\u001b[0m \u001b[0mos\u001b[0m\u001b[0;34m.\u001b[0m\u001b[0mpath\u001b[0m\u001b[0;34m.\u001b[0m\u001b[0mjoin\u001b[0m\u001b[0;34m(\u001b[0m\u001b[0mx\u001b[0m\u001b[0;34m,\u001b[0m \u001b[0my\u001b[0m\u001b[0;34m)\u001b[0m\u001b[0;34m\u001b[0m\u001b[0;34m\u001b[0m\u001b[0m\n\u001b[1;32m    142\u001b[0m \u001b[0;34m\u001b[0m\u001b[0m\n",
      "\u001b[0;32m/usr/lib/python3.8/glob.py\u001b[0m in \u001b[0;36m_rlistdir\u001b[0;34m(dirname, dironly)\u001b[0m\n\u001b[1;32m    138\u001b[0m             \u001b[0;32myield\u001b[0m \u001b[0mx\u001b[0m\u001b[0;34m\u001b[0m\u001b[0;34m\u001b[0m\u001b[0m\n\u001b[1;32m    139\u001b[0m             \u001b[0mpath\u001b[0m \u001b[0;34m=\u001b[0m \u001b[0mos\u001b[0m\u001b[0;34m.\u001b[0m\u001b[0mpath\u001b[0m\u001b[0;34m.\u001b[0m\u001b[0mjoin\u001b[0m\u001b[0;34m(\u001b[0m\u001b[0mdirname\u001b[0m\u001b[0;34m,\u001b[0m \u001b[0mx\u001b[0m\u001b[0;34m)\u001b[0m \u001b[0;32mif\u001b[0m \u001b[0mdirname\u001b[0m \u001b[0;32melse\u001b[0m \u001b[0mx\u001b[0m\u001b[0;34m\u001b[0m\u001b[0;34m\u001b[0m\u001b[0m\n\u001b[0;32m--> 140\u001b[0;31m             \u001b[0;32mfor\u001b[0m \u001b[0my\u001b[0m \u001b[0;32min\u001b[0m \u001b[0m_rlistdir\u001b[0m\u001b[0;34m(\u001b[0m\u001b[0mpath\u001b[0m\u001b[0;34m,\u001b[0m \u001b[0mdironly\u001b[0m\u001b[0;34m)\u001b[0m\u001b[0;34m:\u001b[0m\u001b[0;34m\u001b[0m\u001b[0;34m\u001b[0m\u001b[0m\n\u001b[0m\u001b[1;32m    141\u001b[0m                 \u001b[0;32myield\u001b[0m \u001b[0mos\u001b[0m\u001b[0;34m.\u001b[0m\u001b[0mpath\u001b[0m\u001b[0;34m.\u001b[0m\u001b[0mjoin\u001b[0m\u001b[0;34m(\u001b[0m\u001b[0mx\u001b[0m\u001b[0;34m,\u001b[0m \u001b[0my\u001b[0m\u001b[0;34m)\u001b[0m\u001b[0;34m\u001b[0m\u001b[0;34m\u001b[0m\u001b[0m\n\u001b[1;32m    142\u001b[0m \u001b[0;34m\u001b[0m\u001b[0m\n",
      "\u001b[0;32m/usr/lib/python3.8/glob.py\u001b[0m in \u001b[0;36m_rlistdir\u001b[0;34m(dirname, dironly)\u001b[0m\n\u001b[1;32m    138\u001b[0m             \u001b[0;32myield\u001b[0m \u001b[0mx\u001b[0m\u001b[0;34m\u001b[0m\u001b[0;34m\u001b[0m\u001b[0m\n\u001b[1;32m    139\u001b[0m             \u001b[0mpath\u001b[0m \u001b[0;34m=\u001b[0m \u001b[0mos\u001b[0m\u001b[0;34m.\u001b[0m\u001b[0mpath\u001b[0m\u001b[0;34m.\u001b[0m\u001b[0mjoin\u001b[0m\u001b[0;34m(\u001b[0m\u001b[0mdirname\u001b[0m\u001b[0;34m,\u001b[0m \u001b[0mx\u001b[0m\u001b[0;34m)\u001b[0m \u001b[0;32mif\u001b[0m \u001b[0mdirname\u001b[0m \u001b[0;32melse\u001b[0m \u001b[0mx\u001b[0m\u001b[0;34m\u001b[0m\u001b[0;34m\u001b[0m\u001b[0m\n\u001b[0;32m--> 140\u001b[0;31m             \u001b[0;32mfor\u001b[0m \u001b[0my\u001b[0m \u001b[0;32min\u001b[0m \u001b[0m_rlistdir\u001b[0m\u001b[0;34m(\u001b[0m\u001b[0mpath\u001b[0m\u001b[0;34m,\u001b[0m \u001b[0mdironly\u001b[0m\u001b[0;34m)\u001b[0m\u001b[0;34m:\u001b[0m\u001b[0;34m\u001b[0m\u001b[0;34m\u001b[0m\u001b[0m\n\u001b[0m\u001b[1;32m    141\u001b[0m                 \u001b[0;32myield\u001b[0m \u001b[0mos\u001b[0m\u001b[0;34m.\u001b[0m\u001b[0mpath\u001b[0m\u001b[0;34m.\u001b[0m\u001b[0mjoin\u001b[0m\u001b[0;34m(\u001b[0m\u001b[0mx\u001b[0m\u001b[0;34m,\u001b[0m \u001b[0my\u001b[0m\u001b[0;34m)\u001b[0m\u001b[0;34m\u001b[0m\u001b[0;34m\u001b[0m\u001b[0m\n\u001b[1;32m    142\u001b[0m \u001b[0;34m\u001b[0m\u001b[0m\n",
      "\u001b[0;32m/usr/lib/python3.8/glob.py\u001b[0m in \u001b[0;36m_rlistdir\u001b[0;34m(dirname, dironly)\u001b[0m\n\u001b[1;32m    133\u001b[0m \u001b[0;31m# Recursively yields relative pathnames inside a literal directory.\u001b[0m\u001b[0;34m\u001b[0m\u001b[0;34m\u001b[0m\u001b[0;34m\u001b[0m\u001b[0m\n\u001b[1;32m    134\u001b[0m \u001b[0;32mdef\u001b[0m \u001b[0m_rlistdir\u001b[0m\u001b[0;34m(\u001b[0m\u001b[0mdirname\u001b[0m\u001b[0;34m,\u001b[0m \u001b[0mdironly\u001b[0m\u001b[0;34m)\u001b[0m\u001b[0;34m:\u001b[0m\u001b[0;34m\u001b[0m\u001b[0;34m\u001b[0m\u001b[0m\n\u001b[0;32m--> 135\u001b[0;31m     \u001b[0mnames\u001b[0m \u001b[0;34m=\u001b[0m \u001b[0mlist\u001b[0m\u001b[0;34m(\u001b[0m\u001b[0m_iterdir\u001b[0m\u001b[0;34m(\u001b[0m\u001b[0mdirname\u001b[0m\u001b[0;34m,\u001b[0m \u001b[0mdironly\u001b[0m\u001b[0;34m)\u001b[0m\u001b[0;34m)\u001b[0m\u001b[0;34m\u001b[0m\u001b[0;34m\u001b[0m\u001b[0m\n\u001b[0m\u001b[1;32m    136\u001b[0m     \u001b[0;32mfor\u001b[0m \u001b[0mx\u001b[0m \u001b[0;32min\u001b[0m \u001b[0mnames\u001b[0m\u001b[0;34m:\u001b[0m\u001b[0;34m\u001b[0m\u001b[0;34m\u001b[0m\u001b[0m\n\u001b[1;32m    137\u001b[0m         \u001b[0;32mif\u001b[0m \u001b[0;32mnot\u001b[0m \u001b[0m_ishidden\u001b[0m\u001b[0;34m(\u001b[0m\u001b[0mx\u001b[0m\u001b[0;34m)\u001b[0m\u001b[0;34m:\u001b[0m\u001b[0;34m\u001b[0m\u001b[0;34m\u001b[0m\u001b[0m\n",
      "\u001b[0;32m/usr/lib/python3.8/glob.py\u001b[0m in \u001b[0;36m_iterdir\u001b[0;34m(dirname, dironly)\u001b[0m\n\u001b[1;32m    121\u001b[0m             \u001b[0mdirname\u001b[0m \u001b[0;34m=\u001b[0m \u001b[0mos\u001b[0m\u001b[0;34m.\u001b[0m\u001b[0mcurdir\u001b[0m\u001b[0;34m\u001b[0m\u001b[0;34m\u001b[0m\u001b[0m\n\u001b[1;32m    122\u001b[0m     \u001b[0;32mtry\u001b[0m\u001b[0;34m:\u001b[0m\u001b[0;34m\u001b[0m\u001b[0;34m\u001b[0m\u001b[0m\n\u001b[0;32m--> 123\u001b[0;31m         \u001b[0;32mwith\u001b[0m \u001b[0mos\u001b[0m\u001b[0;34m.\u001b[0m\u001b[0mscandir\u001b[0m\u001b[0;34m(\u001b[0m\u001b[0mdirname\u001b[0m\u001b[0;34m)\u001b[0m \u001b[0;32mas\u001b[0m \u001b[0mit\u001b[0m\u001b[0;34m:\u001b[0m\u001b[0;34m\u001b[0m\u001b[0;34m\u001b[0m\u001b[0m\n\u001b[0m\u001b[1;32m    124\u001b[0m             \u001b[0;32mfor\u001b[0m \u001b[0mentry\u001b[0m \u001b[0;32min\u001b[0m \u001b[0mit\u001b[0m\u001b[0;34m:\u001b[0m\u001b[0;34m\u001b[0m\u001b[0;34m\u001b[0m\u001b[0m\n\u001b[1;32m    125\u001b[0m                 \u001b[0;32mtry\u001b[0m\u001b[0;34m:\u001b[0m\u001b[0;34m\u001b[0m\u001b[0;34m\u001b[0m\u001b[0m\n",
      "\u001b[0;31mKeyboardInterrupt\u001b[0m: "
     ]
    }
   ],
   "source": [
    "files = glob.glob('/media/shane/cloud-availability-sacheen-2020-05-11/**/*.zip', recursive=True)\n",
    "res = defaultdict(list)\n",
    "for f in files:\n",
    "    f = f.split('/')\n",
    "    source = f[4]\n",
    "    year = f[5]\n",
    "    month = f[6].split('.')[0]\n",
    "    date = [int(year), int(month[4:])]\n",
    "    res[source].append(date)"
   ]
  },
  {
   "cell_type": "code",
   "execution_count": 5,
   "metadata": {
    "scrolled": true
   },
   "outputs": [
    {
     "name": "stdout",
     "output_type": "stream",
     "text": [
      "downdetector-deu-germany [2017, 10] [2018, 9]\n",
      "downdetector-pol-poland [2017, 10] [2018, 9]\n",
      "downdetector-nzl-new-zealand [2017, 10] [2018, 9]\n",
      "downdetector-bra-brazil [2017, 10] [2018, 9]\n",
      "downdetector-are-united-arab-emirates [2017, 10] [2018, 9]\n",
      "downdetector-gbr-great-britain [2017, 10] [2018, 9]\n",
      "downdetector-ita-italy [2017, 10] [2018, 9]\n",
      "github-status [2019, 5] [2020, 6]\n",
      "downdetector-can-canada [2017, 10] [2018, 9]\n",
      "nintendo [2020, 5] [2020, 6]\n",
      "cloud-google-apps [2017, 11] [2020, 6]\n",
      "downdetector [2017, 10] [2018, 9]\n",
      "downdetector-fin-finland [2017, 10] [2018, 9]\n",
      "cloud-google-cloud-platform [2017, 11] [2020, 6]\n",
      "discord [2020, 3] [2020, 6]\n",
      "downdetector-nld-netherlands [2017, 10] [2018, 9]\n",
      "downdetector-mex-mexico [2017, 10] [2018, 9]\n",
      "cloud-microsoft-azure [2017, 11] [2020, 6]\n",
      "downdetector-prt-portugal [2017, 10] [2018, 9]\n",
      "downdetector-ind-india [2017, 10] [2018, 9]\n",
      "downdetector-irl-ireland [2017, 10] [2018, 9]\n",
      "downdetector-fra-france [2017, 10] [2018, 9]\n",
      "downdetector-den-denmark [2017, 10] [2018, 9]\n",
      "downdetector-rus-russia [2017, 10] [2018, 9]\n",
      "downrightnow [2017, 10] [2020, 6]\n",
      "atlassian [2020, 3] [2020, 6]\n",
      "downdetector-chl-chile [2017, 10] [2018, 9]\n",
      "downdetector-zaf-south-africa [2017, 10] [2018, 9]\n",
      "cloudflare-status [2019, 6] [2020, 6]\n",
      "cloud-amazon-web-services [2017, 11] [2020, 6]\n",
      "slack [2020, 3] [2020, 6]\n",
      "downdetector-swe-sweden [2017, 10] [2018, 9]\n",
      "outage.report [2019, 4] [2020, 6]\n",
      "downdetector-bel-belgium [2017, 10] [2018, 9]\n",
      "gpanel [2019, 6] [2020, 6]\n",
      "downdetector-sgp-singapore [2017, 10] [2018, 9]\n",
      "downdetector-arg-argentina [2017, 10] [2018, 9]\n",
      "downdetector-aut-austria [2017, 10] [2018, 9]\n",
      "minecraft [2020, 3] [2020, 6]\n",
      "docker [2020, 3] [2020, 6]\n",
      "downdetector-esp-spain [2017, 10] [2018, 9]\n",
      "cloud-apple-consumer [2017, 11] [2020, 6]\n",
      "downdetector-aus-australia [2017, 10] [2018, 9]\n",
      "downdetector-nor-norway [2017, 10] [2018, 9]\n",
      "downdetector-jpn-japan [2017, 10] [2018, 9]\n",
      "downdetector-che-switzerland [2017, 10] [2018, 9]\n"
     ]
    }
   ],
   "source": [
    "# print sorted list of files with date ranges\n",
    "for k in res:\n",
    "    print(k, sorted(res[k])[0], sorted(res[k]).pop())"
   ]
  },
  {
   "cell_type": "code",
   "execution_count": 10,
   "metadata": {
    "scrolled": true
   },
   "outputs": [],
   "source": [
    "# find empty zip files for removal\n",
    "for f in files:\n",
    "    archive = ZipFile(f, 'r')\n",
    "    namelist = archive.namelist()\n",
    "    if len(namelist) == 1:\n",
    "        print(f, namelist)\n",
    "#     print(f)"
   ]
  },
  {
   "cell_type": "code",
   "execution_count": 9,
   "metadata": {},
   "outputs": [
    {
     "name": "stdout",
     "output_type": "stream",
     "text": [
      "['downdetector-deu-germany', 'downdetector-pol-poland', 'downdetector-nzl-new-zealand', 'downdetector-bra-brazil', 'downdetector-are-united-arab-emirates', 'downdetector-gbr-great-britain', 'downdetector-ita-italy', 'github-status', 'downdetector-can-canada', 'nintendo', 'cloud-google-apps', 'downdetector', 'downdetector-fin-finland', 'cloud-google-cloud-platform', 'discord', 'downdetector-nld-netherlands', 'downdetector-mex-mexico', 'cloud-microsoft-azure', 'downdetector-prt-portugal', 'downdetector-ind-india', 'downdetector-irl-ireland', 'downdetector-fra-france', 'downdetector-den-denmark', 'downdetector-rus-russia', 'downrightnow', 'atlassian', 'downdetector-chl-chile', 'to_remove2.txt', 'downdetector-zaf-south-africa', 'cloudflare-status', 'cloud-amazon-web-services', 'slack', 'downdetector-swe-sweden', 'outage.report', 'downdetector-bel-belgium', 'gpanel', 'downdetector-sgp-singapore', 'downdetector-arg-argentina', 'to_remove.txt', 'downdetector-aut-austria', 'minecraft', 'docker', 'downdetector-esp-spain', 'cloud-apple-consumer', 'downdetector-aus-australia', 'downdetector-nor-norway', 'downdetector-jpn-japan', 'downdetector-che-switzerland']\n"
     ]
    }
   ],
   "source": [
    "# list data sources\n",
    "arr = []\n",
    "dirs = glob.glob('/media/shane/cloud-availability-sacheen-2020-05-11/*')\n",
    "for d in dirs:\n",
    "    arr.append(d.split('/')[4])\n",
    "print(arr)"
   ]
  },
  {
   "cell_type": "code",
   "execution_count": 5,
   "metadata": {},
   "outputs": [],
   "source": [
    "arr = ['downdetector-deu-germany', 'downdetector-pol-poland', 'downdetector-nzl-new-zealand', 'downdetector-bra-brazil', 'downdetector-are-united-arab-emirates', 'downdetector-gbr-great-britain', 'downdetector-ita-italy', 'github-status', 'downdetector-can-canada', 'nintendo', 'cloud-google-apps', 'downdetector', 'downdetector-fin-finland', 'cloud-google-cloud-platform', 'discord', 'downdetector-nld-netherlands', 'downdetector-mex-mexico', 'cloud-microsoft-azure', 'downdetector-prt-portugal', 'downdetector-ind-india', 'downdetector-irl-ireland', 'downdetector-fra-france', 'downdetector-den-denmark', 'downdetector-rus-russia', 'downrightnow', 'atlassian', 'downdetector-chl-chile', 'to_remove2.txt', 'downdetector-zaf-south-africa', 'cloudflare-status', 'cloud-amazon-web-services', 'slack', 'downdetector-swe-sweden', 'outage.report', 'downdetector-bel-belgium', 'gpanel', 'downdetector-sgp-singapore', 'downdetector-arg-argentina', 'to_remove.txt', 'downdetector-aut-austria', 'minecraft', 'docker', 'downdetector-esp-spain', 'cloud-apple-consumer', 'downdetector-aus-australia', 'downdetector-nor-norway', 'downdetector-jpn-japan', 'downdetector-che-switzerland']"
   ]
  },
  {
   "cell_type": "code",
   "execution_count": 4,
   "metadata": {
    "scrolled": true
   },
   "outputs": [
    {
     "name": "stdout",
     "output_type": "stream",
     "text": [
      "downdetector-deu-germany \t {'zynga.html', 'reddit.html', 'netflix.html', 'airbnb.html', 'snapchat.html', 'spotify.html', 'slack.html', 'youtube.html', 'amazon.html'}\n",
      "downdetector-pol-poland \t {'netflix.html', 'snapchat.html', 'spotify.html', 'youtube.html', 'amazon.html'}\n",
      "downdetector-nzl-new-zealand \t {'reddit.html', 'pinterest.html', 'netflix.html', 'snapchat.html', 'spotify.html', 'youtube.html'}\n",
      "downdetector-bra-brazil \t {'netflix.html', 'snapchat.html', 'spotify.html', 'youtube.html', 'amazon.html'}\n",
      "downdetector-are-united-arab-emirates \t {'snapchat.html', 'youtube.html', 'netflix.html'}\n",
      "downdetector-gbr-great-britain \t {'zynga.html', 'reddit.html', 'pinterest.html', 'netflix.html', 'airbnb.html', 'snapchat.html', 'spotify.html', 'slack.html', 'youtube.html', 'amazon.html'}\n",
      "downdetector-ita-italy \t {'netflix.html', 'snapchat.html', 'spotify.html', 'youtube.html', 'amazon.html'}\n",
      "github-status \t {'global-status.html'}\n",
      "downdetector-can-canada \t {'zynga.html', 'reddit.html', 'pinterest.html', 'netflix.html', 'snapchat.html', 'spotify.html', 'slack.html', 'youtube.html', 'amazon.html'}\n",
      "nintendo \t {'global-status.html'}\n",
      "cloud-google-apps \t {'json-feed.html'}\n",
      "downdetector \t {'zynga.html', 'lyft.html', 'reddit.html', 'pinterest.html', 'netflix.html', 'airbnb.html', 'snapchat.html', 'spotify.html', 'slack.html', 'youtube.html', 'amazon.html'}\n",
      "downdetector-fin-finland \t {'snapchat.html', 'youtube.html', 'netflix.html'}\n",
      "cloud-google-cloud-platform \t {'status-dashboard.html', 'json-feed.html'}\n",
      "discord \t {'global-status.html'}\n",
      "downdetector-nld-netherlands \t {'netflix.html', 'airbnb.html', 'snapchat.html', 'spotify.html', 'youtube.html'}\n",
      "downdetector-mex-mexico \t {'netflix.html', 'snapchat.html', 'spotify.html', 'youtube.html', 'amazon.html'}\n",
      "cloud-microsoft-azure \t {'status-dashboard.html', 'history.html'}\n",
      "downdetector-prt-portugal \t {'youtube.html', 'spotify.html'}\n",
      "downdetector-ind-india \t {'youtube.html', 'amazon.html'}\n",
      "downdetector-irl-ireland \t {'pinterest.html', 'netflix.html', 'snapchat.html', 'spotify.html', 'youtube.html', 'amazon.html'}\n",
      "downdetector-fra-france \t {'zynga.html', 'pinterest.html', 'netflix.html', 'snapchat.html', 'spotify.html', 'youtube.html', 'amazon.html'}\n",
      "downdetector-den-denmark \t {'netflix.html', 'snapchat.html', 'spotify.html', 'youtube.html', 'amazon.html'}\n",
      "downdetector-rus-russia \t {'youtube.html'}\n",
      "downrightnow \t {'ning.html', 'yahoomail.html', 'paypal.html', 'gmail.html', 'typepad.html', 'twitter.html', 'livejournal.html', 'linkedin.html', 'netflix.html', 'skype.html', 'foursquare.html', 'tumblr.html', 'facebook.html', 'blogger.html', 'hotmail.html', 'youtube.html'}\n",
      "atlassian \t {'jira-core.html', 'bitbucket.html', 'statuspage.html', 'trello.html', 'access.html', 'support.html', 'developers.html', 'confluence.html', 'partners.html', 'jira-align.html', 'jira-software.html', 'jira-service-desk.html', 'opsgenie.html'}\n",
      "downdetector-chl-chile \t {'netflix.html', 'snapchat.html', 'spotify.html', 'youtube.html'}\n",
      "to_remove2.txt \t set()\n",
      "downdetector-zaf-south-africa \t {'netflix.html', 'pinterest.html', 'snapchat.html', 'youtube.html', 'amazon.html'}\n",
      "cloudflare-status \t {'global-status.html', 'history.html'}\n",
      "cloud-amazon-web-services \t {'global-status.html', 'json-feed.html'}\n",
      "slack \t {'rss-feed.html', 'global-status.html'}\n",
      "downdetector-swe-sweden \t {'reddit.html', 'netflix.html', 'snapchat.html', 'spotify.html', 'youtube.html', 'amazon.html'}\n",
      "outage.report \t {'facebook-messenger.html', 'instagram.html', 'gmail.html', 'twitter.html', 'netflix.html', 'skype.html', 'snapchat.html', 'whatsapp.html', 'facebook.html', 'apple-servers.html', 'github.html', 'youtube.html', 'overview.html'}\n",
      "downdetector-bel-belgium \t {'netflix.html', 'snapchat.html', 'spotify.html', 'youtube.html'}\n",
      "gpanel \t {'global-status.html', 'xss-feed.html'}\n",
      "downdetector-sgp-singapore \t {'netflix.html', 'snapchat.html', 'spotify.html', 'youtube.html'}\n",
      "downdetector-arg-argentina \t {'netflix.html', 'snapchat.html', 'spotify.html', 'youtube.html'}\n",
      "to_remove.txt \t set()\n",
      "downdetector-aut-austria \t {'netflix.html', 'snapchat.html', 'spotify.html', 'youtube.html', 'amazon.html'}\n",
      "minecraft \t {'twitter.html'}\n",
      "docker \t {'global-status.html'}\n",
      "downdetector-esp-spain \t {'netflix.html', 'snapchat.html', 'spotify.html', 'youtube.html', 'amazon.html'}\n",
      "cloud-apple-consumer \t {'system-status.html'}\n",
      "downdetector-aus-australia \t {'reddit.html', 'pinterest.html', 'netflix.html', 'airbnb.html', 'snapchat.html', 'spotify.html', 'slack.html', 'youtube.html', 'amazon.html'}\n",
      "downdetector-nor-norway \t {'snapchat.html', 'youtube.html', 'netflix.html'}\n",
      "downdetector-jpn-japan \t {'youtube.html', 'amazon.html'}\n",
      "downdetector-che-switzerland \t {'netflix.html', 'snapchat.html', 'spotify.html', 'youtube.html'}\n"
     ]
    }
   ],
   "source": [
    "# for each source, find unique files in deepest subfolder\n",
    "for d in arr:\n",
    "    files = glob.glob('/media/shane/cloud-availability-sacheen-2020-05-11/'+d+'/**/*.zip', recursive=True)\n",
    "    service_per_source = set()\n",
    "    for f in files:\n",
    "        archive = ZipFile(f, 'r')\n",
    "        namelist = archive.namelist()\n",
    "        for item in namelist:\n",
    "            try:\n",
    "                service_per_source.add(item.split('/')[1])\n",
    "            except:\n",
    "                pass\n",
    "    service_per_source.discard('')\n",
    "    print(d, '\\t', service_per_source)"
   ]
  },
  {
   "cell_type": "code",
   "execution_count": 8,
   "metadata": {},
   "outputs": [
    {
     "name": "stdout",
     "output_type": "stream",
     "text": [
      "{'xss-feed', 'lyft', 'developers', 'facebook-messenger', 'trello', 'netflix', 'facebook', 'reddit', 'hotmail', 'ning', 'bitbucket', 'paypal', 'confluence', 'opsgenie', 'status-dashboard', 'blogger', 'snapchat', 'github', 'linkedin', 'system-status', 'json-feed', 'rss-feed', 'statuspage', 'twitter', 'whatsapp', 'apple-servers', 'slack', 'typepad', 'skype', 'tumblr', 'yahoomail', 'jira-service-desk', 'support', 'zynga', 'youtube', 'jira-core', 'gmail', 'overview', 'partners', 'access', 'global-status', 'jira-software', 'amazon', 'spotify', 'airbnb', 'history', 'foursquare', 'pinterest', 'jira-align', 'instagram', 'livejournal'}\n"
     ]
    }
   ],
   "source": [
    "# find unique services for all sources\n",
    "services_all = set()\n",
    "for d in arr:\n",
    "    files = glob.glob('/media/shane/cloud-availability-sacheen-2020-05-11/'+d+'/**/*.zip', recursive=True)\n",
    "    for f in files:\n",
    "        archive = ZipFile(f, 'r')\n",
    "        namelist = archive.namelist()\n",
    "        for item in namelist:\n",
    "            try:\n",
    "                services_all.add(item.split('/')[1].split('.')[0])\n",
    "            except:\n",
    "                pass\n",
    "services_all.discard('')\n",
    "print(services_all)"
   ]
  },
  {
   "cell_type": "code",
   "execution_count": 41,
   "metadata": {},
   "outputs": [],
   "source": [
    "# Alexa Top50 as of May 03, 2021\n",
    "alexa_top50 = set(['google','youtube','tmall','baidu','qq','sohu','facebook','taobao','360','jd','amazon','yahoo','wikipedia','weibo','sina','zoom','xinhuanet','live','reddit','netflix','microsoft','office','panda','zhanqi','instagram','alipay','google','csdn','vk','myshopify','bing','okezone','microsoftonline','yahoo','twitch','naver','bongacams','ebay','twitter','adobe','amazon','aliexpress','tianya','huanqiu','yy','aparat','apple','amazon','stackoverflow','17ok'])"
   ]
  },
  {
   "cell_type": "markdown",
   "metadata": {},
   "source": [
    "#### TODO (Cell Below): \n",
    " - approximate search matching (e.g. yahoomail vs yahoo)\n",
    " - include directory names?"
   ]
  },
  {
   "cell_type": "code",
   "execution_count": 42,
   "metadata": {},
   "outputs": [
    {
     "name": "stdout",
     "output_type": "stream",
     "text": [
      "Services in Alexa Top50: 7 {'youtube', 'amazon', 'netflix', 'facebook', 'reddit', 'twitter', 'instagram'}\n",
      "Services not in Alexa Top50 44 {'xss-feed', 'lyft', 'developers', 'facebook-messenger', 'trello', 'hotmail', 'ning', 'bitbucket', 'paypal', 'confluence', 'opsgenie', 'status-dashboard', 'blogger', 'snapchat', 'github', 'linkedin', 'system-status', 'json-feed', 'rss-feed', 'statuspage', 'whatsapp', 'apple-servers', 'slack', 'typepad', 'skype', 'tumblr', 'yahoomail', 'jira-service-desk', 'support', 'zynga', 'jira-core', 'gmail', 'overview', 'partners', 'access', 'global-status', 'jira-software', 'spotify', 'airbnb', 'history', 'foursquare', 'pinterest', 'jira-align', 'livejournal'}\n"
     ]
    }
   ],
   "source": [
    "in_alexa_top50 = set()\n",
    "for service in services_all:\n",
    "    if service.lower() in alexa_top50:\n",
    "        in_alexa_top50.add(service)\n",
    "print('Services in Alexa Top50:', len(in_alexa_top50), in_alexa_top50)\n",
    "print('Services not in Alexa Top50', len(services_all.difference(alexa_top50)), services_all.difference(in_alexa_top50))"
   ]
  },
  {
   "cell_type": "code",
   "execution_count": null,
   "metadata": {},
   "outputs": [],
   "source": []
  }
 ],
 "metadata": {
  "kernelspec": {
   "display_name": "Python 3",
   "language": "python",
   "name": "python3"
  },
  "language_info": {
   "codemirror_mode": {
    "name": "ipython",
    "version": 3
   },
   "file_extension": ".py",
   "mimetype": "text/x-python",
   "name": "python",
   "nbconvert_exporter": "python",
   "pygments_lexer": "ipython3",
   "version": "3.8.5"
  }
 },
 "nbformat": 4,
 "nbformat_minor": 4
}
