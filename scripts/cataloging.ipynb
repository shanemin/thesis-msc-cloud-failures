{
 "cells": [
  {
   "cell_type": "markdown",
   "metadata": {},
   "source": [
    "# A _dirty notebook_ for initial data exploration"
   ]
  },
  {
   "cell_type": "code",
   "execution_count": 1,
   "metadata": {},
   "outputs": [],
   "source": [
    "import os\n",
    "import io\n",
    "import glob as glob\n",
    "from zipfile import ZipFile\n",
    "from collections import defaultdict "
   ]
  },
  {
   "cell_type": "code",
   "execution_count": 3,
   "metadata": {
    "scrolled": true
   },
   "outputs": [],
   "source": [
    "files = glob.glob('/media/shane/cloud-availability-sacheen-2020-05-11/**/*.zip', recursive=True)\n",
    "res = defaultdict(list)\n",
    "for f in files:\n",
    "    f = f.split('/')\n",
    "    source = f[4]\n",
    "    year = f[5]\n",
    "    month = f[6]\n",
    "    day = f[7].split('.')[0]\n",
    "    date = [int(year), int(month[4:]), int(day[6:])]\n",
    "    res[source].append(date)"
   ]
  },
  {
   "cell_type": "code",
   "execution_count": 4,
   "metadata": {
    "scrolled": true
   },
   "outputs": [
    {
     "name": "stdout",
     "output_type": "stream",
     "text": [
      "downdetector-deu-germany [2017, 10, 30] [2018, 9, 18]\n",
      "downdetector-pol-poland [2017, 10, 30] [2018, 9, 18]\n",
      "downdetector-nzl-new-zealand [2017, 10, 30] [2018, 9, 18]\n",
      "downdetector-bra-brazil [2017, 10, 30] [2018, 9, 18]\n",
      "downdetector-are-united-arab-emirates [2017, 10, 30] [2018, 9, 18]\n",
      "downdetector-gbr-great-britain [2017, 10, 30] [2018, 9, 18]\n",
      "downdetector-ita-italy [2017, 10, 30] [2018, 9, 18]\n",
      "github-status [2019, 5, 7] [2020, 6, 10]\n",
      "downdetector-can-canada [2017, 10, 30] [2018, 9, 18]\n",
      "nintendo [2020, 5, 10] [2020, 6, 10]\n",
      "cloud-google-apps [2017, 11, 22] [2020, 6, 10]\n",
      "downdetector [2017, 10, 23] [2018, 9, 18]\n",
      "downdetector-fin-finland [2017, 10, 30] [2018, 9, 18]\n",
      "cloud-google-cloud-platform [2017, 11, 1] [2020, 6, 10]\n",
      "discord [2020, 3, 26] [2020, 6, 10]\n",
      "downdetector-nld-netherlands [2017, 10, 30] [2018, 9, 18]\n",
      "downdetector-mex-mexico [2017, 10, 30] [2018, 9, 18]\n",
      "cloud-microsoft-azure [2017, 11, 22] [2020, 6, 10]\n",
      "downdetector-prt-portugal [2017, 10, 30] [2018, 9, 18]\n",
      "downdetector-ind-india [2017, 10, 30] [2018, 9, 18]\n",
      "downdetector-irl-ireland [2017, 10, 30] [2018, 9, 18]\n",
      "downdetector-fra-france [2017, 10, 30] [2018, 9, 18]\n",
      "downdetector-den-denmark [2017, 10, 30] [2018, 9, 18]\n",
      "downdetector-rus-russia [2017, 10, 30] [2018, 9, 18]\n",
      "downrightnow [2017, 10, 23] [2020, 6, 10]\n",
      "atlassian [2020, 3, 26] [2020, 6, 10]\n",
      "downdetector-chl-chile [2017, 10, 30] [2018, 9, 18]\n",
      "downdetector-zaf-south-africa [2017, 10, 30] [2018, 9, 18]\n",
      "cloudflare-status [2019, 6, 25] [2020, 6, 10]\n",
      "cloud-amazon-web-services [2017, 11, 1] [2020, 6, 10]\n",
      "slack [2020, 3, 26] [2020, 6, 10]\n",
      "downdetector-swe-sweden [2017, 10, 30] [2018, 9, 18]\n",
      "outage.report [2019, 4, 15] [2020, 6, 10]\n",
      "downdetector-bel-belgium [2017, 10, 30] [2018, 9, 18]\n",
      "gpanel [2019, 6, 25] [2020, 6, 10]\n",
      "downdetector-sgp-singapore [2017, 10, 30] [2018, 9, 18]\n",
      "downdetector-arg-argentina [2017, 10, 30] [2018, 9, 18]\n",
      "downdetector-aut-austria [2017, 10, 30] [2018, 9, 18]\n",
      "minecraft [2020, 3, 26] [2020, 6, 10]\n",
      "docker [2020, 3, 26] [2020, 6, 10]\n",
      "downdetector-esp-spain [2017, 10, 30] [2018, 9, 18]\n",
      "cloud-apple-consumer [2017, 11, 22] [2020, 6, 10]\n",
      "downdetector-aus-australia [2017, 10, 30] [2018, 9, 18]\n",
      "downdetector-nor-norway [2017, 10, 30] [2018, 9, 18]\n",
      "downdetector-jpn-japan [2017, 10, 30] [2018, 9, 18]\n",
      "downdetector-che-switzerland [2017, 10, 30] [2018, 9, 18]\n"
     ]
    }
   ],
   "source": [
    "# print sorted list of files with date ranges\n",
    "for k in res:\n",
    "    print(k, sorted(res[k])[0], sorted(res[k]).pop())"
   ]
  },
  {
   "cell_type": "code",
   "execution_count": 4,
   "metadata": {
    "scrolled": true
   },
   "outputs": [
    {
     "name": "stdout",
     "output_type": "stream",
     "text": [
      "17242 0\n"
     ]
    }
   ],
   "source": [
    "# find empty zip files for removal\n",
    "counter_zips = 0\n",
    "counter_removed = 0\n",
    "for f in files:\n",
    "    archive = ZipFile(f, 'r')\n",
    "    namelist = archive.namelist()\n",
    "    counter_zips += 1\n",
    "    if len(namelist) == 1:\n",
    "        counter_removed += 1\n",
    "        print(f, namelist)\n",
    "print(counter_zips, counter_removed)"
   ]
  },
  {
   "cell_type": "code",
   "execution_count": 7,
   "metadata": {},
   "outputs": [
    {
     "name": "stdout",
     "output_type": "stream",
     "text": [
      "46 ['downdetector-deu-germany', 'downdetector-pol-poland', 'downdetector-nzl-new-zealand', 'downdetector-bra-brazil', 'downdetector-are-united-arab-emirates', 'downdetector-gbr-great-britain', 'downdetector-ita-italy', 'github-status', 'downdetector-can-canada', 'nintendo', 'cloud-google-apps', 'downdetector', 'downdetector-fin-finland', 'cloud-google-cloud-platform', 'discord', 'downdetector-nld-netherlands', 'downdetector-mex-mexico', 'cloud-microsoft-azure', 'downdetector-prt-portugal', 'downdetector-ind-india', 'downdetector-irl-ireland', 'downdetector-fra-france', 'downdetector-den-denmark', 'downdetector-rus-russia', 'downrightnow', 'atlassian', 'downdetector-chl-chile', 'downdetector-zaf-south-africa', 'cloudflare-status', 'cloud-amazon-web-services', 'slack', 'downdetector-swe-sweden', 'outage.report', 'downdetector-bel-belgium', 'gpanel', 'downdetector-sgp-singapore', 'downdetector-arg-argentina', 'downdetector-aut-austria', 'minecraft', 'docker', 'downdetector-esp-spain', 'cloud-apple-consumer', 'downdetector-aus-australia', 'downdetector-nor-norway', 'downdetector-jpn-japan', 'downdetector-che-switzerland']\n"
     ]
    }
   ],
   "source": [
    "# list data sources\n",
    "arr = []\n",
    "dirs = glob.glob('/media/shane/cloud-availability-sacheen-2020-05-11/*')\n",
    "for d in dirs:\n",
    "    if 'remove' not in d:\n",
    "        arr.append(d.split('/')[4])\n",
    "print(len(arr), arr)"
   ]
  },
  {
   "cell_type": "code",
   "execution_count": 8,
   "metadata": {},
   "outputs": [],
   "source": [
    "arr = ['downdetector-deu-germany', 'downdetector-pol-poland', 'downdetector-nzl-new-zealand', 'downdetector-bra-brazil', 'downdetector-are-united-arab-emirates', 'downdetector-gbr-great-britain', 'downdetector-ita-italy', 'github-status', 'downdetector-can-canada', 'nintendo', 'cloud-google-apps', 'downdetector', 'downdetector-fin-finland', 'cloud-google-cloud-platform', 'discord', 'downdetector-nld-netherlands', 'downdetector-mex-mexico', 'cloud-microsoft-azure', 'downdetector-prt-portugal', 'downdetector-ind-india', 'downdetector-irl-ireland', 'downdetector-fra-france', 'downdetector-den-denmark', 'downdetector-rus-russia', 'downrightnow', 'atlassian', 'downdetector-chl-chile', 'downdetector-zaf-south-africa', 'cloudflare-status', 'cloud-amazon-web-services', 'slack', 'downdetector-swe-sweden', 'outage.report', 'downdetector-bel-belgium', 'gpanel', 'downdetector-sgp-singapore', 'downdetector-arg-argentina', 'downdetector-aut-austria', 'minecraft', 'docker', 'downdetector-esp-spain', 'cloud-apple-consumer', 'downdetector-aus-australia', 'downdetector-nor-norway', 'downdetector-jpn-japan', 'downdetector-che-switzerland']"
   ]
  },
  {
   "cell_type": "code",
   "execution_count": 9,
   "metadata": {
    "scrolled": true
   },
   "outputs": [
    {
     "name": "stdout",
     "output_type": "stream",
     "text": [
      "downdetector-deu-germany \t {'zynga.html', 'amazon.html', 'snapchat.html', 'reddit.html', 'netflix.html', 'slack.html', 'spotify.html', 'airbnb.html', 'youtube.html'}\n",
      "downdetector-pol-poland \t {'amazon.html', 'snapchat.html', 'netflix.html', 'spotify.html', 'youtube.html'}\n",
      "downdetector-nzl-new-zealand \t {'pinterest.html', 'snapchat.html', 'reddit.html', 'netflix.html', 'spotify.html', 'youtube.html'}\n",
      "downdetector-bra-brazil \t {'amazon.html', 'snapchat.html', 'netflix.html', 'spotify.html', 'youtube.html'}\n",
      "downdetector-are-united-arab-emirates \t {'netflix.html', 'snapchat.html', 'youtube.html'}\n",
      "downdetector-gbr-great-britain \t {'zynga.html', 'amazon.html', 'pinterest.html', 'snapchat.html', 'reddit.html', 'netflix.html', 'slack.html', 'spotify.html', 'airbnb.html', 'youtube.html'}\n",
      "downdetector-ita-italy \t {'amazon.html', 'snapchat.html', 'netflix.html', 'spotify.html', 'youtube.html'}\n",
      "github-status \t {'global-status.html'}\n",
      "downdetector-can-canada \t {'zynga.html', 'amazon.html', 'pinterest.html', 'snapchat.html', 'reddit.html', 'netflix.html', 'slack.html', 'spotify.html', 'youtube.html'}\n",
      "nintendo \t {'global-status.html'}\n",
      "cloud-google-apps \t {'json-feed.html'}\n",
      "downdetector \t {'zynga.html', 'amazon.html', 'pinterest.html', 'snapchat.html', 'reddit.html', 'netflix.html', 'lyft.html', 'slack.html', 'spotify.html', 'airbnb.html', 'youtube.html'}\n",
      "downdetector-fin-finland \t {'netflix.html', 'snapchat.html', 'youtube.html'}\n",
      "cloud-google-cloud-platform \t {'status-dashboard.html', 'json-feed.html'}\n",
      "discord \t {'global-status.html'}\n",
      "downdetector-nld-netherlands \t {'snapchat.html', 'netflix.html', 'spotify.html', 'airbnb.html', 'youtube.html'}\n",
      "downdetector-mex-mexico \t {'amazon.html', 'snapchat.html', 'netflix.html', 'spotify.html', 'youtube.html'}\n",
      "cloud-microsoft-azure \t {'status-dashboard.html', 'history.html'}\n",
      "downdetector-prt-portugal \t {'spotify.html', 'youtube.html'}\n",
      "downdetector-ind-india \t {'amazon.html', 'youtube.html'}\n",
      "downdetector-irl-ireland \t {'amazon.html', 'pinterest.html', 'snapchat.html', 'netflix.html', 'spotify.html', 'youtube.html'}\n",
      "downdetector-fra-france \t {'zynga.html', 'amazon.html', 'pinterest.html', 'snapchat.html', 'netflix.html', 'spotify.html', 'youtube.html'}\n",
      "downdetector-den-denmark \t {'amazon.html', 'snapchat.html', 'netflix.html', 'spotify.html', 'youtube.html'}\n",
      "downdetector-rus-russia \t {'youtube.html'}\n",
      "downrightnow \t {'foursquare.html', 'hotmail.html', 'skype.html', 'yahoomail.html', 'linkedin.html', 'paypal.html', 'twitter.html', 'blogger.html', 'tumblr.html', 'typepad.html', 'netflix.html', 'livejournal.html', 'ning.html', 'facebook.html', 'gmail.html', 'youtube.html'}\n",
      "atlassian \t {'partners.html', 'bitbucket.html', 'jira-service-desk.html', 'jira-core.html', 'support.html', 'developers.html', 'access.html', 'opsgenie.html', 'confluence.html', 'statuspage.html', 'trello.html', 'jira-align.html', 'jira-software.html'}\n",
      "downdetector-chl-chile \t {'snapchat.html', 'netflix.html', 'spotify.html', 'youtube.html'}\n",
      "downdetector-zaf-south-africa \t {'amazon.html', 'pinterest.html', 'snapchat.html', 'netflix.html', 'youtube.html'}\n",
      "cloudflare-status \t {'history.html', 'global-status.html'}\n",
      "cloud-amazon-web-services \t {'json-feed.html', 'global-status.html'}\n",
      "slack \t {'global-status.html', 'rss-feed.html'}\n",
      "downdetector-swe-sweden \t {'amazon.html', 'snapchat.html', 'reddit.html', 'netflix.html', 'spotify.html', 'youtube.html'}\n",
      "outage.report \t {'github.html', 'skype.html', 'overview.html', 'twitter.html', 'snapchat.html', 'facebook-messenger.html', 'instagram.html', 'apple-servers.html', 'netflix.html', 'facebook.html', 'gmail.html', 'whatsapp.html', 'youtube.html'}\n",
      "downdetector-bel-belgium \t {'snapchat.html', 'netflix.html', 'spotify.html', 'youtube.html'}\n",
      "gpanel \t {'xss-feed.html', 'global-status.html'}\n",
      "downdetector-sgp-singapore \t {'snapchat.html', 'netflix.html', 'spotify.html', 'youtube.html'}\n",
      "downdetector-arg-argentina \t {'snapchat.html', 'netflix.html', 'spotify.html', 'youtube.html'}\n",
      "downdetector-aut-austria \t {'amazon.html', 'snapchat.html', 'netflix.html', 'spotify.html', 'youtube.html'}\n",
      "minecraft \t {'twitter.html'}\n",
      "docker \t {'global-status.html'}\n",
      "downdetector-esp-spain \t {'amazon.html', 'snapchat.html', 'netflix.html', 'spotify.html', 'youtube.html'}\n",
      "cloud-apple-consumer \t {'system-status.html'}\n",
      "downdetector-aus-australia \t {'amazon.html', 'pinterest.html', 'snapchat.html', 'reddit.html', 'netflix.html', 'slack.html', 'spotify.html', 'airbnb.html', 'youtube.html'}\n",
      "downdetector-nor-norway \t {'netflix.html', 'snapchat.html', 'youtube.html'}\n",
      "downdetector-jpn-japan \t {'amazon.html', 'youtube.html'}\n",
      "downdetector-che-switzerland \t {'snapchat.html', 'netflix.html', 'spotify.html', 'youtube.html'}\n"
     ]
    }
   ],
   "source": [
    "# for each source, find unique files in deepest subfolder\n",
    "for d in arr:\n",
    "    files = glob.glob('/media/shane/cloud-availability-sacheen-2020-05-11/'+d+'/**/*.zip', recursive=True)\n",
    "    service_per_source = set()\n",
    "    for f in files:\n",
    "        archive = ZipFile(f, 'r')\n",
    "        namelist = archive.namelist()\n",
    "        for item in namelist:\n",
    "            try:\n",
    "                service_per_source.add(item.split('/')[1])\n",
    "            except:\n",
    "                pass\n",
    "    service_per_source.discard('')\n",
    "    print(d, '\\t', service_per_source)"
   ]
  },
  {
   "cell_type": "code",
   "execution_count": 10,
   "metadata": {},
   "outputs": [
    {
     "name": "stdout",
     "output_type": "stream",
     "text": [
      "{'overview', 'jira-software', 'twitter', 'system-status', 'instagram', 'pinterest', 'global-status', 'paypal', 'zynga', 'ning', 'facebook', 'blogger', 'spotify', 'livejournal', 'slack', 'jira-core', 'opsgenie', 'github', 'netflix', 'history', 'rss-feed', 'skype', 'lyft', 'youtube', 'facebook-messenger', 'amazon', 'apple-servers', 'access', 'json-feed', 'reddit', 'developers', 'linkedin', 'foursquare', 'confluence', 'tumblr', 'hotmail', 'airbnb', 'support', 'statuspage', 'bitbucket', 'trello', 'partners', 'whatsapp', 'xss-feed', 'snapchat', 'typepad', 'gmail', 'yahoomail', 'status-dashboard', 'jira-service-desk', 'jira-align'}\n"
     ]
    }
   ],
   "source": [
    "# find unique services for all sources\n",
    "services_all = set()\n",
    "for d in arr:\n",
    "    files = glob.glob('/media/shane/cloud-availability-sacheen-2020-05-11/'+d+'/**/*.zip', recursive=True)\n",
    "    for f in files:\n",
    "        archive = ZipFile(f, 'r')\n",
    "        namelist = archive.namelist()\n",
    "        for item in namelist:\n",
    "            try:\n",
    "                services_all.add(item.split('/')[1].split('.')[0])\n",
    "            except:\n",
    "                pass\n",
    "services_all.discard('')\n",
    "print(services_all)"
   ]
  },
  {
   "cell_type": "code",
   "execution_count": 14,
   "metadata": {},
   "outputs": [
    {
     "name": "stdout",
     "output_type": "stream",
     "text": [
      "55 {'apple-consumer', 'overview', 'jira-software', 'twitter', 'google-cloud-platform', 'instagram', 'minecraft', 'pinterest', 'nintendo', 'paypal', 'zynga', 'microsoft-azure', 'docker', 'ning', 'facebook', 'jira-core', 'spotify', 'livejournal', 'slack', 'blogger', 'opsgenie', 'github', 'netflix', 'skype', 'youtube', 'lyft', 'google-apps', 'facebook-messenger', 'amazon', 'discord', 'apple-servers', 'access', 'reddit', 'developers', 'foursquare', 'confluence', 'linkedin', 'tumblr', 'hotmail', 'cloudfare', 'airbnb', 'support', 'statuspage', 'bitbucket', 'trello', 'partners', 'whatsapp', 'snapchat', 'typepad', 'gmail', 'gpanel', 'yahoomail', 'amazon-web-services', 'jira-service-desk', 'jira-align'}\n"
     ]
    }
   ],
   "source": [
    "# find all unique service types\n",
    "x = ['jira-service-desk','statuspage','support','jira-core','trello','bitbucket','access','developers','jira-software','jira-align','opsgenie','confluence','partners',\n",
    "'amazon-web-services',\n",
    "'apple-consumer',\n",
    "'cloudfare',\n",
    "'google-apps',\n",
    "'google-cloud-platform',\n",
    "'microsoft-azure',\n",
    "'discord',\n",
    "'docker',\n",
    "'netflix','youtube','slack','airbnb','snapchat','spotify','zynga','amazon','pinterest','lyft','reddit',\n",
    "'youtube','netflix','snapchat',\n",
    "'netflix','youtube','snapchat','spotify',\n",
    "'netflix','youtube','slack','airbnb','snapchat','spotify','amazon','pinterest','reddit',\n",
    "'netflix','youtube','snapchat','spotify','amazon',\n",
    "'netflix','youtube','snapchat','spotify',\n",
    "'netflix','youtube','snapchat','spotify','amazon',\n",
    "'netflix','youtube','slack','snapchat','spotify','zynga','amazon','pinterest','reddit',\n",
    "'netflix','youtube','snapchat','spotify',\n",
    "'netflix','youtube','snapchat','spotify',\n",
    "'netflix','youtube','snapchat','spotify','amazon',\n",
    "'netflix','youtube','slack','airbnb','snapchat','spotify','zynga','amazon','reddit',\n",
    "'netflix','youtube','snapchat','spotify','amazon',\n",
    "'youtube','netflix','snapchat',\n",
    "'netflix','youtube','snapchat','spotify','zynga','amazon','pinterest',\n",
    "'netflix','youtube','slack','airbnb','snapchat','spotify','zynga','amazon','pinterest','reddit',\n",
    "'amazon','youtube',\n",
    "'netflix','youtube','snapchat','spotify','amazon','pinterest',\n",
    "'netflix','youtube','snapchat','spotify','amazon',\n",
    "'amazon','youtube',\n",
    "'netflix','youtube','snapchat','spotify','amazon',\n",
    "'netflix','youtube','airbnb','snapchat','spotify',\n",
    "'youtube','netflix','snapchat',\n",
    "'netflix','youtube','snapchat','spotify','pinterest','reddit',\n",
    "'netflix','youtube','snapchat','spotify','amazon',\n",
    "'spotify','youtube',\n",
    "'youtube',\n",
    "'netflix','youtube','snapchat','spotify',\n",
    "'netflix','youtube','snapchat','spotify','amazon','reddit',\n",
    "'netflix','youtube','snapchat','amazon','pinterest',\n",
    "'tumblr','gmail','netflix','foursquare','skype','youtube','facebook','twitter','hotmail','yahoomail','livejournal','blogger','typepad','linkedin','paypal','ning',\n",
    "'github',\n",
    "'gpanel',\n",
    "'minecraft',\n",
    "'nintendo',\n",
    "'gmail','facebook-messenger','netflix','instagram','whatsapp','skype','github','youtube','twitter','snapchat','apple-servers','overview','facebook',\n",
    "'slack']\n",
    "unq = set()\n",
    "for y in x:\n",
    "    unq.add(y)\n",
    "print(len(unq), unq)"
   ]
  },
  {
   "cell_type": "code",
   "execution_count": null,
   "metadata": {},
   "outputs": [],
   "source": [
    "# unique services for downdetector\n"
   ]
  },
  {
   "cell_type": "code",
   "execution_count": 15,
   "metadata": {},
   "outputs": [
    {
     "name": "stdout",
     "output_type": "stream",
     "text": [
      "{'airbnb', 'spotify', 'slack', 'lyft', 'reddit', 'pinterest', 'netflix', 'snapchat', 'zynga', 'youtube', 'amazon'}\n"
     ]
    }
   ],
   "source": [
    "dd = ['netflix', 'youtube', 'slack', 'airbnb', 'snapchat', 'spotify', 'zynga', 'amazon', 'pinterest', 'lyft', 'reddit',\n",
    "'youtube', 'netflix', 'snapchat',\n",
    "'netflix', 'youtube', 'snapchat', 'spotify',\n",
    "'netflix', 'youtube', 'slack', 'airbnb', 'snapchat', 'spotify', 'amazon', 'pinterest', 'reddit',\n",
    "'netflix', 'youtube', 'snapchat', 'spotify', 'amazon',\n",
    "'netflix', 'youtube', 'snapchat', 'spotify',\n",
    "'netflix', 'youtube', 'snapchat', 'spotify', 'amazon',\n",
    "'netflix', 'youtube', 'slack', 'snapchat', 'spotify', 'zynga', 'amazon', 'pinterest', 'reddit',\n",
    "'netflix', 'youtube', 'snapchat', 'spotify',\n",
    "'netflix', 'youtube', 'snapchat', 'spotify',\n",
    "'netflix', 'youtube', 'snapchat', 'spotify', 'amazon',\n",
    "'netflix', 'youtube', 'slack', 'airbnb', 'snapchat', 'spotify', 'zynga', 'amazon', 'reddit',\n",
    "'netflix', 'youtube', 'snapchat', 'spotify', 'amazon',\n",
    "'youtube', 'netflix', 'snapchat',\n",
    "'netflix', 'youtube', 'snapchat', 'spotify', 'zynga', 'amazon', 'pinterest',\n",
    "'netflix', 'youtube', 'slack', 'airbnb', 'snapchat', 'spotify', 'zynga', 'amazon', 'pinterest', 'reddit',\n",
    "'amazon', 'youtube',\n",
    "'netflix', 'youtube', 'snapchat', 'spotify', 'amazon', 'pinterest',\n",
    "'netflix', 'youtube', 'snapchat', 'spotify', 'amazon',\n",
    "'amazon', 'youtube',\n",
    "'netflix', 'youtube', 'snapchat', 'spotify', 'amazon',\n",
    "'netflix', 'youtube', 'airbnb', 'snapchat', 'spotify',\n",
    "'youtube', 'netflix', 'snapchat',\n",
    "'netflix', 'youtube', 'snapchat', 'spotify', 'pinterest', 'reddit',\n",
    "'netflix', 'youtube', 'snapchat', 'spotify', 'amazon',\n",
    "'spotify', 'youtube',\n",
    "'youtube',\n",
    "'netflix', 'youtube', 'snapchat', 'spotify',\n",
    "'netflix', 'youtube', 'snapchat', 'spotify', 'amazon', 'reddit',\n",
    "'netflix', 'youtube', 'snapchat', 'amazon', 'pinterest']\n",
    "\n",
    "ddset = set()\n",
    "for d in dd:\n",
    "    ddset.add(d)\n",
    "print(ddset)"
   ]
  },
  {
   "cell_type": "code",
   "execution_count": null,
   "metadata": {},
   "outputs": [],
   "source": []
  },
  {
   "cell_type": "code",
   "execution_count": 41,
   "metadata": {},
   "outputs": [],
   "source": [
    "# Alexa Top50 as of May 03, 2021\n",
    "alexa_top50 = set(['google','youtube','tmall','baidu','qq','sohu','facebook','taobao','360','jd','amazon','yahoo','wikipedia','weibo','sina','zoom','xinhuanet','live','reddit','netflix','microsoft','office','panda','zhanqi','instagram','alipay','google','csdn','vk','myshopify','bing','okezone','microsoftonline','yahoo','twitch','naver','bongacams','ebay','twitter','adobe','amazon','aliexpress','tianya','huanqiu','yy','aparat','apple','amazon','stackoverflow','17ok'])"
   ]
  },
  {
   "cell_type": "markdown",
   "metadata": {},
   "source": [
    "#### TODO (Cell Below): \n",
    " - approximate search matching (e.g. yahoomail vs yahoo)\n",
    " - include directory names?"
   ]
  },
  {
   "cell_type": "code",
   "execution_count": 42,
   "metadata": {},
   "outputs": [
    {
     "name": "stdout",
     "output_type": "stream",
     "text": [
      "Services in Alexa Top50: 7 {'youtube', 'amazon', 'netflix', 'facebook', 'reddit', 'twitter', 'instagram'}\n",
      "Services not in Alexa Top50 44 {'xss-feed', 'lyft', 'developers', 'facebook-messenger', 'trello', 'hotmail', 'ning', 'bitbucket', 'paypal', 'confluence', 'opsgenie', 'status-dashboard', 'blogger', 'snapchat', 'github', 'linkedin', 'system-status', 'json-feed', 'rss-feed', 'statuspage', 'whatsapp', 'apple-servers', 'slack', 'typepad', 'skype', 'tumblr', 'yahoomail', 'jira-service-desk', 'support', 'zynga', 'jira-core', 'gmail', 'overview', 'partners', 'access', 'global-status', 'jira-software', 'spotify', 'airbnb', 'history', 'foursquare', 'pinterest', 'jira-align', 'livejournal'}\n"
     ]
    }
   ],
   "source": [
    "in_alexa_top50 = set()\n",
    "for service in services_all:\n",
    "    if service.lower() in alexa_top50:\n",
    "        in_alexa_top50.add(service)\n",
    "print('Services in Alexa Top50:', len(in_alexa_top50), in_alexa_top50)\n",
    "print('Services not in Alexa Top50', len(services_all.difference(alexa_top50)), services_all.difference(in_alexa_top50))"
   ]
  },
  {
   "cell_type": "code",
   "execution_count": null,
   "metadata": {},
   "outputs": [],
   "source": []
  }
 ],
 "metadata": {
  "kernelspec": {
   "display_name": "Python 3",
   "language": "python",
   "name": "python3"
  },
  "language_info": {
   "codemirror_mode": {
    "name": "ipython",
    "version": 3
   },
   "file_extension": ".py",
   "mimetype": "text/x-python",
   "name": "python",
   "nbconvert_exporter": "python",
   "pygments_lexer": "ipython3",
   "version": "3.8.10"
  }
 },
 "nbformat": 4,
 "nbformat_minor": 4
}
