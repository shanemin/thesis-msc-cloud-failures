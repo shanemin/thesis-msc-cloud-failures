{
 "cells": [
  {
   "cell_type": "code",
   "execution_count": 65,
   "metadata": {},
   "outputs": [],
   "source": [
    "import pandas as pd\n",
    "import numpy as np\n",
    "import matplotlib.pyplot as plt"
   ]
  },
  {
   "cell_type": "code",
   "execution_count": 2,
   "metadata": {
    "scrolled": true
   },
   "outputs": [
    {
     "data": {
      "text/html": [
       "<div>\n",
       "<style scoped>\n",
       "    .dataframe tbody tr th:only-of-type {\n",
       "        vertical-align: middle;\n",
       "    }\n",
       "\n",
       "    .dataframe tbody tr th {\n",
       "        vertical-align: top;\n",
       "    }\n",
       "\n",
       "    .dataframe thead th {\n",
       "        text-align: right;\n",
       "    }\n",
       "</style>\n",
       "<table border=\"1\" class=\"dataframe\">\n",
       "  <thead>\n",
       "    <tr style=\"text-align: right;\">\n",
       "      <th></th>\n",
       "      <th>SERVICE</th>\n",
       "      <th>NOTE</th>\n",
       "      <th>SELF_STATUS_PAGE</th>\n",
       "      <th>SELF_STATUS_SOURCE</th>\n",
       "      <th>SOURCES</th>\n",
       "      <th>ALEXA_POS</th>\n",
       "      <th>MOZ_POS</th>\n",
       "      <th>RANKRANGER_POS</th>\n",
       "      <th>AHREFS_POS</th>\n",
       "      <th>SIMILARWEB_ALL</th>\n",
       "      <th>SIMILARWEB_POS_CAT1</th>\n",
       "      <th>SIMILARWEB_POS_CAT2</th>\n",
       "    </tr>\n",
       "  </thead>\n",
       "  <tbody>\n",
       "    <tr>\n",
       "      <th>0</th>\n",
       "      <td>lyft</td>\n",
       "      <td>NaN</td>\n",
       "      <td>N</td>\n",
       "      <td>-</td>\n",
       "      <td>0,1,2,3</td>\n",
       "      <td>NaN</td>\n",
       "      <td>NaN</td>\n",
       "      <td>NaN</td>\n",
       "      <td>NaN</td>\n",
       "      <td>NaN</td>\n",
       "      <td>46 Travel-and-tourism</td>\n",
       "      <td>46 health</td>\n",
       "    </tr>\n",
       "    <tr>\n",
       "      <th>1</th>\n",
       "      <td>facebook-messenger</td>\n",
       "      <td>NaN</td>\n",
       "      <td>Y</td>\n",
       "      <td>facebook</td>\n",
       "      <td>0,4,5,3,6,1</td>\n",
       "      <td>NaN</td>\n",
       "      <td>NaN</td>\n",
       "      <td>NaN</td>\n",
       "      <td>NaN</td>\n",
       "      <td>NaN</td>\n",
       "      <td>NaN</td>\n",
       "      <td>NaN</td>\n",
       "    </tr>\n",
       "    <tr>\n",
       "      <th>2</th>\n",
       "      <td>trello</td>\n",
       "      <td>NaN</td>\n",
       "      <td>Y</td>\n",
       "      <td>statuspage</td>\n",
       "      <td>0,7,5,3</td>\n",
       "      <td>NaN</td>\n",
       "      <td>NaN</td>\n",
       "      <td>NaN</td>\n",
       "      <td>NaN</td>\n",
       "      <td>NaN</td>\n",
       "      <td>NaN</td>\n",
       "      <td>NaN</td>\n",
       "    </tr>\n",
       "    <tr>\n",
       "      <th>3</th>\n",
       "      <td>netflix</td>\n",
       "      <td>NaN</td>\n",
       "      <td>Y</td>\n",
       "      <td>netflix</td>\n",
       "      <td>0,5,4,10,1,9</td>\n",
       "      <td>20.0</td>\n",
       "      <td>195.0</td>\n",
       "      <td>30.0</td>\n",
       "      <td>14.0</td>\n",
       "      <td>16.0</td>\n",
       "      <td>2 arts-and-entertainment</td>\n",
       "      <td>NaN</td>\n",
       "    </tr>\n",
       "    <tr>\n",
       "      <th>4</th>\n",
       "      <td>facebook</td>\n",
       "      <td>NaN</td>\n",
       "      <td>Y</td>\n",
       "      <td>facebook</td>\n",
       "      <td>0,7,10,5,4,3,1</td>\n",
       "      <td>6.0</td>\n",
       "      <td>31.0</td>\n",
       "      <td>2.0</td>\n",
       "      <td>2.0</td>\n",
       "      <td>3.0</td>\n",
       "      <td>2 computers-electronics-and-technology</td>\n",
       "      <td>NaN</td>\n",
       "    </tr>\n",
       "  </tbody>\n",
       "</table>\n",
       "</div>"
      ],
      "text/plain": [
       "              SERVICE NOTE SELF_STATUS_PAGE SELF_STATUS_SOURCE  \\\n",
       "0                lyft  NaN                N                  -   \n",
       "1  facebook-messenger  NaN                Y           facebook   \n",
       "2              trello  NaN                Y         statuspage   \n",
       "3             netflix  NaN                Y            netflix   \n",
       "4            facebook  NaN                Y           facebook   \n",
       "\n",
       "          SOURCES  ALEXA_POS  MOZ_POS  RANKRANGER_POS  AHREFS_POS  \\\n",
       "0         0,1,2,3        NaN      NaN             NaN         NaN   \n",
       "1     0,4,5,3,6,1        NaN      NaN             NaN         NaN   \n",
       "2         0,7,5,3        NaN      NaN             NaN         NaN   \n",
       "3    0,5,4,10,1,9       20.0    195.0            30.0        14.0   \n",
       "4  0,7,10,5,4,3,1        6.0     31.0             2.0         2.0   \n",
       "\n",
       "   SIMILARWEB_ALL                     SIMILARWEB_POS_CAT1 SIMILARWEB_POS_CAT2  \n",
       "0             NaN                   46 Travel-and-tourism           46 health  \n",
       "1             NaN                                     NaN                 NaN  \n",
       "2             NaN                                     NaN                 NaN  \n",
       "3            16.0                2 arts-and-entertainment                 NaN  \n",
       "4             3.0  2 computers-electronics-and-technology                 NaN  "
      ]
     },
     "execution_count": 2,
     "metadata": {},
     "output_type": "execute_result"
    }
   ],
   "source": [
    "df = pd.read_csv('../output/status_sources.csv')\n",
    "df.head()"
   ]
  },
  {
   "cell_type": "markdown",
   "metadata": {},
   "source": [
    "### Third-Party Sources of Information"
   ]
  },
  {
   "cell_type": "code",
   "execution_count": 3,
   "metadata": {},
   "outputs": [
    {
     "name": "stdout",
     "output_type": "stream",
     "text": [
      "{'0': 32, '1': 15, '2': 6, '3': 15, '4': 17, '5': 30, '6': 1, '7': 12, '10': 13, '9': 1, '11': 5, '13': 2, '14': 2, '15': 1, '16': 1, '17': 1, '18': 1}\n"
     ]
    }
   ],
   "source": [
    "# count occurrences of third party sources\n",
    "tps_counts = {}\n",
    "for row in df['SOURCES']:\n",
    "    for tps in row.split(','):\n",
    "        if tps not in tps_counts.keys():\n",
    "            tps_counts.update({tps : 1})\n",
    "        else:\n",
    "            tps_counts[tps] += 1\n",
    "print(tps_counts)"
   ]
  },
  {
   "cell_type": "code",
   "execution_count": 4,
   "metadata": {},
   "outputs": [
    {
     "name": "stdout",
     "output_type": "stream",
     "text": [
      "{'downdetector': 32, 'isitdownrightnow': 30, 'istheservicedown': 17, 'servicesdown': 15, 'outage.report': 15, 'downrightnow': 13, 'statusgator': 12, 'updownradar': 6, 'downforeveryoneorjustme': 5, 'isdown.app': 2, 'uptime': 2, 'downhunter': 1, 'netflixdown': 1, 'updownreport': 1, 'cloudharmony': 1, 'downinspector': 1, 'statusticker': 1}\n"
     ]
    }
   ],
   "source": [
    "# update the key names to the actual third party source\n",
    "new_keys = [['downdetector','0'],['servicesdown','1'],['updownradar','2'],['outage.report','3'],['istheservicedown','4'],['isitdownrightnow','5'],['downhunter','6'],['statusgator','7'],['netflixdown','9'],['downrightnow','10'],['downforeveryoneorjustme','11'],['isdown.app','13'],['uptime','14'],['updownreport','15'],['cloudharmony','16'],['downinspector','17'],['statusticker','18']]\n",
    "for entry in new_keys:\n",
    "    tps_counts[entry[0]] = tps_counts.pop(entry[1])\n",
    "tps_counts = dict(sorted(tps_counts.items(), key=lambda item: item[1], reverse=True))\n",
    "print(tps_counts)"
   ]
  },
  {
   "cell_type": "code",
   "execution_count": 5,
   "metadata": {},
   "outputs": [
    {
     "data": {
      "image/png": "[encoded data removed]",
      "text/plain": [
       "<Figure size 432x288 with 1 Axes>"
      ]
     },
     "metadata": {
      "needs_background": "light"
     },
     "output_type": "display_data"
    }
   ],
   "source": [
    "plt.bar(range(len(tps_counts)), list(tps_counts.values()), align='center')\n",
    "plt.xticks(range(len(tps_counts)), list(tps_counts.keys()), rotation=90)\n",
    "plt.show()"
   ]
  },
  {
   "cell_type": "markdown",
   "metadata": {},
   "source": [
    "### Website rankings"
   ]
  },
  {
   "cell_type": "code",
   "execution_count": 48,
   "metadata": {},
   "outputs": [
    {
     "data": {
      "text/html": [
       "<div>\n",
       "<style scoped>\n",
       "    .dataframe tbody tr th:only-of-type {\n",
       "        vertical-align: middle;\n",
       "    }\n",
       "\n",
       "    .dataframe tbody tr th {\n",
       "        vertical-align: top;\n",
       "    }\n",
       "\n",
       "    .dataframe thead th {\n",
       "        text-align: right;\n",
       "    }\n",
       "</style>\n",
       "<table border=\"1\" class=\"dataframe\">\n",
       "  <thead>\n",
       "    <tr style=\"text-align: right;\">\n",
       "      <th></th>\n",
       "      <th>Alexa Top 50</th>\n",
       "      <th>Moz Top 500</th>\n",
       "      <th>RankRanger Top 100</th>\n",
       "      <th>Ahrefs Top 100</th>\n",
       "      <th>SimilarWeb</th>\n",
       "    </tr>\n",
       "    <tr>\n",
       "      <th>SERVICE</th>\n",
       "      <th></th>\n",
       "      <th></th>\n",
       "      <th></th>\n",
       "      <th></th>\n",
       "      <th></th>\n",
       "    </tr>\n",
       "  </thead>\n",
       "  <tbody>\n",
       "    <tr>\n",
       "      <th>netflix</th>\n",
       "      <td>20.0</td>\n",
       "      <td>195.0</td>\n",
       "      <td>30.0</td>\n",
       "      <td>14.0</td>\n",
       "      <td>16.0</td>\n",
       "    </tr>\n",
       "    <tr>\n",
       "      <th>facebook</th>\n",
       "      <td>6.0</td>\n",
       "      <td>31.0</td>\n",
       "      <td>2.0</td>\n",
       "      <td>2.0</td>\n",
       "      <td>3.0</td>\n",
       "    </tr>\n",
       "    <tr>\n",
       "      <th>reddit</th>\n",
       "      <td>19.0</td>\n",
       "      <td>NaN</td>\n",
       "      <td>NaN</td>\n",
       "      <td>20.0</td>\n",
       "      <td>19.0</td>\n",
       "    </tr>\n",
       "    <tr>\n",
       "      <th>hotmail</th>\n",
       "      <td>18.0</td>\n",
       "      <td>46.0</td>\n",
       "      <td>NaN</td>\n",
       "      <td>8.0</td>\n",
       "      <td>15.0</td>\n",
       "    </tr>\n",
       "    <tr>\n",
       "      <th>paypal</th>\n",
       "      <td>NaN</td>\n",
       "      <td>75.0</td>\n",
       "      <td>NaN</td>\n",
       "      <td>63.0</td>\n",
       "      <td>NaN</td>\n",
       "    </tr>\n",
       "  </tbody>\n",
       "</table>\n",
       "</div>"
      ],
      "text/plain": [
       "          Alexa Top 50  Moz Top 500  RankRanger Top 100  Ahrefs Top 100  \\\n",
       "SERVICE                                                                   \n",
       "netflix           20.0        195.0                30.0            14.0   \n",
       "facebook           6.0         31.0                 2.0             2.0   \n",
       "reddit            19.0          NaN                 NaN            20.0   \n",
       "hotmail           18.0         46.0                 NaN             8.0   \n",
       "paypal             NaN         75.0                 NaN            63.0   \n",
       "\n",
       "          SimilarWeb  \n",
       "SERVICE               \n",
       "netflix         16.0  \n",
       "facebook         3.0  \n",
       "reddit          19.0  \n",
       "hotmail         15.0  \n",
       "paypal           NaN  "
      ]
     },
     "execution_count": 48,
     "metadata": {},
     "output_type": "execute_result"
    }
   ],
   "source": [
    "df_ranks = df.iloc[:, 5:10].copy()\n",
    "df_ranks = df_ranks.set_index(df['SERVICE'])\n",
    "df_ranks.columns = ['Alexa Top 50', 'Moz Top 500', 'RankRanger Top 100', 'Ahrefs Top 100', 'SimilarWeb']\n",
    "df_ranks.dropna(how='all', inplace=True)\n",
    "df_ranks.head()"
   ]
  },
  {
   "cell_type": "code",
   "execution_count": 56,
   "metadata": {},
   "outputs": [
    {
     "name": "stderr",
     "output_type": "stream",
     "text": [
      "<ipython-input-56-a7b18da1af15>:2: MatplotlibDeprecationWarning: Adding an axes using the same arguments as a previous axes currently reuses the earlier instance.  In a future version, a new instance will always be created and returned.  Meanwhile, this warning can be suppressed, and the future behavior ensured, by passing a unique label to each axes instance.\n",
      "  ax = plt.subplot(111)\n"
     ]
    },
    {
     "data": {
      "image/png": "[encoded data removed]",
      "text/plain": [
       "<Figure size 432x288 with 1 Axes>"
      ]
     },
     "metadata": {
      "needs_background": "light"
     },
     "output_type": "display_data"
    }
   ],
   "source": [
    "df_ranks.plot(style=['+','.','x','*','^'], linestyle='none')\n",
    "ax = plt.subplot(111)\n",
    "plt.xticks(range(len(df_ranks.index)), df_ranks.index, rotation=90)\n",
    "box = ax.get_position()\n",
    "ax.set_position([box.x0, box.y0 + box.height * 0.1, box.width, box.height * 0.9])\n",
    "ax.legend(loc='center left', bbox_to_anchor=(1, 0.5))\n",
    "plt.show()"
   ]
  },
  {
   "cell_type": "code",
   "execution_count": 69,
   "metadata": {
    "scrolled": true
   },
   "outputs": [
    {
     "data": {
      "text/html": [
       "<div>\n",
       "<style scoped>\n",
       "    .dataframe tbody tr th:only-of-type {\n",
       "        vertical-align: middle;\n",
       "    }\n",
       "\n",
       "    .dataframe tbody tr th {\n",
       "        vertical-align: top;\n",
       "    }\n",
       "\n",
       "    .dataframe thead th {\n",
       "        text-align: right;\n",
       "    }\n",
       "</style>\n",
       "<table border=\"1\" class=\"dataframe\">\n",
       "  <thead>\n",
       "    <tr style=\"text-align: right;\">\n",
       "      <th></th>\n",
       "      <th>Alexa Top 50</th>\n",
       "      <th>Moz Top 500</th>\n",
       "      <th>RankRanger Top 100</th>\n",
       "      <th>Ahrefs Top 100</th>\n",
       "      <th>SimilarWeb</th>\n",
       "    </tr>\n",
       "    <tr>\n",
       "      <th>SERVICE</th>\n",
       "      <th></th>\n",
       "      <th></th>\n",
       "      <th></th>\n",
       "      <th></th>\n",
       "      <th></th>\n",
       "    </tr>\n",
       "  </thead>\n",
       "  <tbody>\n",
       "    <tr>\n",
       "      <th>netflix</th>\n",
       "      <td>20.0</td>\n",
       "      <td>NaN</td>\n",
       "      <td>30.0</td>\n",
       "      <td>14.0</td>\n",
       "      <td>16.0</td>\n",
       "    </tr>\n",
       "    <tr>\n",
       "      <th>facebook</th>\n",
       "      <td>6.0</td>\n",
       "      <td>31.0</td>\n",
       "      <td>2.0</td>\n",
       "      <td>2.0</td>\n",
       "      <td>3.0</td>\n",
       "    </tr>\n",
       "    <tr>\n",
       "      <th>reddit</th>\n",
       "      <td>19.0</td>\n",
       "      <td>NaN</td>\n",
       "      <td>NaN</td>\n",
       "      <td>20.0</td>\n",
       "      <td>19.0</td>\n",
       "    </tr>\n",
       "    <tr>\n",
       "      <th>hotmail</th>\n",
       "      <td>18.0</td>\n",
       "      <td>46.0</td>\n",
       "      <td>NaN</td>\n",
       "      <td>8.0</td>\n",
       "      <td>15.0</td>\n",
       "    </tr>\n",
       "    <tr>\n",
       "      <th>paypal</th>\n",
       "      <td>NaN</td>\n",
       "      <td>75.0</td>\n",
       "      <td>NaN</td>\n",
       "      <td>63.0</td>\n",
       "      <td>NaN</td>\n",
       "    </tr>\n",
       "  </tbody>\n",
       "</table>\n",
       "</div>"
      ],
      "text/plain": [
       "          Alexa Top 50  Moz Top 500  RankRanger Top 100  Ahrefs Top 100  \\\n",
       "SERVICE                                                                   \n",
       "netflix           20.0          NaN                30.0            14.0   \n",
       "facebook           6.0         31.0                 2.0             2.0   \n",
       "reddit            19.0          NaN                 NaN            20.0   \n",
       "hotmail           18.0         46.0                 NaN             8.0   \n",
       "paypal             NaN         75.0                 NaN            63.0   \n",
       "\n",
       "          SimilarWeb  \n",
       "SERVICE               \n",
       "netflix         16.0  \n",
       "facebook         3.0  \n",
       "reddit          19.0  \n",
       "hotmail         15.0  \n",
       "paypal           NaN  "
      ]
     },
     "execution_count": 69,
     "metadata": {},
     "output_type": "execute_result"
    }
   ],
   "source": [
    "# lets plot only the top 100's\n",
    "df_100 = df_ranks.apply(lambda x: [y if y <= 100 else np.nan for y in x])\n",
    "df_100.dropna(how='all', inplace=True)\n",
    "df_100.head()"
   ]
  },
  {
   "cell_type": "code",
   "execution_count": 70,
   "metadata": {},
   "outputs": [
    {
     "name": "stderr",
     "output_type": "stream",
     "text": [
      "<ipython-input-70-e723924e5551>:2: MatplotlibDeprecationWarning: Adding an axes using the same arguments as a previous axes currently reuses the earlier instance.  In a future version, a new instance will always be created and returned.  Meanwhile, this warning can be suppressed, and the future behavior ensured, by passing a unique label to each axes instance.\n",
      "  ax = plt.subplot(111)\n"
     ]
    },
    {
     "data": {
      "image/png": "[encoded data removed]",
      "text/plain": [
       "<Figure size 432x288 with 1 Axes>"
      ]
     },
     "metadata": {
      "needs_background": "light"
     },
     "output_type": "display_data"
    }
   ],
   "source": [
    "df_100.plot(style=['+','.','x','*','^'], linestyle='none')\n",
    "ax = plt.subplot(111)\n",
    "plt.xticks(range(len(df_100.index)), df_100.index, rotation=90)\n",
    "box = ax.get_position()\n",
    "ax.set_position([box.x0, box.y0 + box.height * 0.1, box.width, box.height * 0.9])\n",
    "ax.legend(loc='center left', bbox_to_anchor=(1, 0.5))\n",
    "plt.show()"
   ]
  },
  {
   "cell_type": "code",
   "execution_count": null,
   "metadata": {},
   "outputs": [],
   "source": []
  }
 ],
 "metadata": {
  "kernelspec": {
   "display_name": "Python 3",
   "language": "python",
   "name": "python3"
  },
  "language_info": {
   "codemirror_mode": {
    "name": "ipython",
    "version": 3
   },
   "file_extension": ".py",
   "mimetype": "text/x-python",
   "name": "python",
   "nbconvert_exporter": "python",
   "pygments_lexer": "ipython3",
   "version": "3.8.5"
  }
 },
 "nbformat": 4,
 "nbformat_minor": 4
}
