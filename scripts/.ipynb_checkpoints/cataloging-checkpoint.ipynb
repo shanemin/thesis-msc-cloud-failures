{
 "cells": [
  {
   "cell_type": "code",
   "execution_count": 3,
   "metadata": {},
   "outputs": [],
   "source": [
    "import os\n",
    "import io\n",
    "import glob as glob\n",
    "from zipfile import ZipFile\n",
    "from collections import defaultdict "
   ]
  },
  {
   "cell_type": "code",
   "execution_count": 4,
   "metadata": {
    "scrolled": false
   },
   "outputs": [],
   "source": [
    "files = glob.glob('/media/shane/cloud-availability-sacheen-2020-05-11/**/*.zip', recursive=True)\n",
    "res = defaultdict(list)\n",
    "for f in files:\n",
    "    f = f.split('/')\n",
    "    source = f[4]\n",
    "    year = f[5]\n",
    "    month = f[6].split('.')[0]\n",
    "    date = [int(year), int(month[4:])]\n",
    "    res[source].append(date)"
   ]
  },
  {
   "cell_type": "code",
   "execution_count": 5,
   "metadata": {
    "scrolled": true
   },
   "outputs": [
    {
     "name": "stdout",
     "output_type": "stream",
     "text": [
      "downdetector-deu-germany [2017, 10] [2018, 9]\n",
      "downdetector-pol-poland [2017, 10] [2018, 9]\n",
      "downdetector-nzl-new-zealand [2017, 10] [2018, 9]\n",
      "downdetector-bra-brazil [2017, 10] [2018, 9]\n",
      "downdetector-are-united-arab-emirates [2017, 10] [2018, 9]\n",
      "downdetector-gbr-great-britain [2017, 10] [2018, 9]\n",
      "downdetector-ita-italy [2017, 10] [2018, 9]\n",
      "github-status [2019, 5] [2020, 6]\n",
      "downdetector-can-canada [2017, 10] [2018, 9]\n",
      "nintendo [2020, 5] [2020, 6]\n",
      "cloud-google-apps [2017, 11] [2020, 6]\n",
      "downdetector [2017, 10] [2018, 9]\n",
      "downdetector-fin-finland [2017, 10] [2018, 9]\n",
      "cloud-google-cloud-platform [2017, 11] [2020, 6]\n",
      "discord [2020, 3] [2020, 6]\n",
      "downdetector-nld-netherlands [2017, 10] [2018, 9]\n",
      "downdetector-mex-mexico [2017, 10] [2018, 9]\n",
      "cloud-microsoft-azure [2017, 11] [2020, 6]\n",
      "downdetector-prt-portugal [2017, 10] [2018, 9]\n",
      "downdetector-ind-india [2017, 10] [2018, 9]\n",
      "downdetector-irl-ireland [2017, 10] [2018, 9]\n",
      "downdetector-fra-france [2017, 10] [2018, 9]\n",
      "downdetector-den-denmark [2017, 10] [2018, 9]\n",
      "downdetector-rus-russia [2017, 10] [2018, 9]\n",
      "downrightnow [2017, 10] [2020, 6]\n",
      "atlassian [2020, 3] [2020, 6]\n",
      "downdetector-chl-chile [2017, 10] [2018, 9]\n",
      "downdetector-zaf-south-africa [2017, 10] [2018, 9]\n",
      "cloudflare-status [2019, 6] [2020, 6]\n",
      "cloud-amazon-web-services [2017, 11] [2020, 6]\n",
      "slack [2020, 3] [2020, 6]\n",
      "downdetector-swe-sweden [2017, 10] [2018, 9]\n",
      "outage.report [2019, 4] [2020, 6]\n",
      "downdetector-bel-belgium [2017, 10] [2018, 9]\n",
      "gpanel [2019, 6] [2020, 6]\n",
      "downdetector-sgp-singapore [2017, 10] [2018, 9]\n",
      "downdetector-arg-argentina [2017, 10] [2018, 9]\n",
      "downdetector-aut-austria [2017, 10] [2018, 9]\n",
      "minecraft [2020, 3] [2020, 6]\n",
      "docker [2020, 3] [2020, 6]\n",
      "downdetector-esp-spain [2017, 10] [2018, 9]\n",
      "cloud-apple-consumer [2017, 11] [2020, 6]\n",
      "downdetector-aus-australia [2017, 10] [2018, 9]\n",
      "downdetector-nor-norway [2017, 10] [2018, 9]\n",
      "downdetector-jpn-japan [2017, 10] [2018, 9]\n",
      "downdetector-che-switzerland [2017, 10] [2018, 9]\n"
     ]
    }
   ],
   "source": [
    "# print sorted list of files with date ranges\n",
    "for k in res:\n",
    "    print(k, sorted(res[k])[0], sorted(res[k]).pop())"
   ]
  },
  {
   "cell_type": "code",
   "execution_count": 8,
   "metadata": {
    "scrolled": true
   },
   "outputs": [],
   "source": [
    "# find empty zip files for removal\n",
    "for f in files:\n",
    "    archive = ZipFile(f, 'r')\n",
    "    files2 = archive.namelist()\n",
    "    if len(files2) == 1:\n",
    "        print(f, files2)\n",
    "#     print(f)"
   ]
  },
  {
   "cell_type": "code",
   "execution_count": 9,
   "metadata": {},
   "outputs": [
    {
     "name": "stdout",
     "output_type": "stream",
     "text": [
      "['downdetector-deu-germany', 'downdetector-pol-poland', 'downdetector-nzl-new-zealand', 'downdetector-bra-brazil', 'downdetector-are-united-arab-emirates', 'downdetector-gbr-great-britain', 'downdetector-ita-italy', 'github-status', 'downdetector-can-canada', 'nintendo', 'cloud-google-apps', 'downdetector', 'downdetector-fin-finland', 'cloud-google-cloud-platform', 'discord', 'downdetector-nld-netherlands', 'downdetector-mex-mexico', 'cloud-microsoft-azure', 'downdetector-prt-portugal', 'downdetector-ind-india', 'downdetector-irl-ireland', 'downdetector-fra-france', 'downdetector-den-denmark', 'downdetector-rus-russia', 'downrightnow', 'atlassian', 'downdetector-chl-chile', 'to_remove2.txt', 'downdetector-zaf-south-africa', 'cloudflare-status', 'cloud-amazon-web-services', 'slack', 'downdetector-swe-sweden', 'outage.report', 'downdetector-bel-belgium', 'gpanel', 'downdetector-sgp-singapore', 'downdetector-arg-argentina', 'to_remove.txt', 'downdetector-aut-austria', 'minecraft', 'docker', 'downdetector-esp-spain', 'cloud-apple-consumer', 'downdetector-aus-australia', 'downdetector-nor-norway', 'downdetector-jpn-japan', 'downdetector-che-switzerland']\n"
     ]
    }
   ],
   "source": [
    "# list data sources\n",
    "arr = []\n",
    "dirs = glob.glob('/media/shane/cloud-availability-sacheen-2020-05-11/*')\n",
    "for d in dirs:\n",
    "    arr.append(d.split('/')[4])\n",
    "print(arr)"
   ]
  },
  {
   "cell_type": "code",
   "execution_count": 48,
   "metadata": {
    "scrolled": false
   },
   "outputs": [
    {
     "name": "stdout",
     "output_type": "stream",
     "text": [
      "atlassian \t {'jira-service-desk.html', 'statuspage.html', 'support.html', 'jira-core.html', 'trello.html', 'bitbucket.html', 'access.html', 'developers.html', 'jira-software.html', 'jira-align.html', 'opsgenie.html', 'confluence.html', 'partners.html'}\n",
      "downdetector-can-canada \t {'netflix.html', 'youtube.html', 'slack.html', 'snapchat.html', 'spotify.html', 'zynga.html', 'amazon.html', 'pinterest.html', 'reddit.html'}\n",
      "downdetector-nzl-new-zealand \t {'netflix.html', 'youtube.html', 'snapchat.html', 'spotify.html', 'pinterest.html', 'reddit.html'}\n",
      "cloud-amazon-web-services \t {'global-status.html', 'json-feed.html'}\n",
      "downdetector-che-switzerland \t {'netflix.html', 'youtube.html', 'snapchat.html', 'spotify.html'}\n",
      "downdetector-pol-poland \t {'netflix.html', 'youtube.html', 'snapchat.html', 'spotify.html', 'amazon.html'}\n",
      "cloud-apple-consumer \t {'system-status.html'}\n",
      "downdetector-chl-chile \t {'netflix.html', 'youtube.html', 'snapchat.html', 'spotify.html'}\n",
      "downdetector-prt-portugal \t {'spotify.html', 'youtube.html'}\n",
      "cloudflare-status \t {'global-status.html', 'history.html'}\n",
      "downdetector-den-denmark \t {'netflix.html', 'youtube.html', 'snapchat.html', 'spotify.html', 'amazon.html'}\n",
      "downdetector-rus-russia \t {'youtube.html'}\n",
      "cloud-google-apps \t {'json-feed.html'}\n",
      "downdetector-deu-germany \t {'netflix.html', 'youtube.html', 'slack.html', 'airbnb.html', 'snapchat.html', 'spotify.html', 'zynga.html', 'amazon.html', 'reddit.html'}\n",
      "downdetector-sgp-singapore \t {'netflix.html', 'youtube.html', 'snapchat.html', 'spotify.html'}\n",
      "cloud-google-cloud-platform \t {'json-feed.html', 'status-dashboard.html'}\n",
      "downdetector-esp-spain \t {'netflix.html', 'youtube.html', 'snapchat.html', 'spotify.html', 'amazon.html'}\n",
      "downdetector-swe-sweden \t {'netflix.html', 'youtube.html', 'snapchat.html', 'spotify.html', 'amazon.html', 'reddit.html'}\n",
      "cloud-microsoft-azure \t {'history.html', 'status-dashboard.html'}\n",
      "downdetector-fin-finland \t {'youtube.html', 'netflix.html', 'snapchat.html'}\n",
      "downdetector-zaf-south-africa \t {'netflix.html', 'youtube.html', 'snapchat.html', 'amazon.html', 'pinterest.html'}\n",
      "discord \t {'global-status.html'}\n",
      "downdetector-fra-france \t {'netflix.html', 'youtube.html', 'snapchat.html', 'spotify.html', 'zynga.html', 'amazon.html', 'pinterest.html'}\n",
      "downrightnow \t {'tumblr.html', 'gmail.html', 'netflix.html', 'foursquare.html', 'skype.html', 'youtube.html', 'facebook.html', 'twitter.html', 'hotmail.html', 'yahoomail.html', 'livejournal.html', 'blogger.html', 'typepad.html', 'linkedin.html', 'paypal.html', 'ning.html'}\n",
      "docker \t {'global-status.html'}\n",
      "downdetector-gbr-great-britain \t {'netflix.html', 'youtube.html', 'slack.html', 'airbnb.html', 'snapchat.html', 'spotify.html', 'zynga.html', 'amazon.html', 'pinterest.html', 'reddit.html'}\n",
      "github-status \t {'global-status.html'}\n",
      "downdetector \t {'netflix.html', 'youtube.html', 'slack.html', 'airbnb.html', 'snapchat.html', 'spotify.html', 'zynga.html', 'amazon.html', 'pinterest.html', 'lyft.html', 'reddit.html'}\n",
      "downdetector-ind-india \t {'amazon.html', 'youtube.html'}\n",
      "gpanel \t {'xss-feed.html', 'global-status.html'}\n",
      "downdetector-are-united-arab-emirates \t {'youtube.html', 'netflix.html', 'snapchat.html'}\n",
      "downdetector-irl-ireland \t {'netflix.html', 'youtube.html', 'snapchat.html', 'spotify.html', 'amazon.html', 'pinterest.html'}\n",
      "minecraft \t {'twitter.html'}\n",
      "downdetector-arg-argentina \t {'netflix.html', 'youtube.html', 'snapchat.html', 'spotify.html'}\n",
      "downdetector-ita-italy \t {'netflix.html', 'youtube.html', 'snapchat.html', 'spotify.html', 'amazon.html'}\n",
      "nintendo \t {'global-status.html'}\n",
      "downdetector-aus-australia \t {'netflix.html', 'youtube.html', 'slack.html', 'airbnb.html', 'snapchat.html', 'spotify.html', 'amazon.html', 'pinterest.html', 'reddit.html'}\n",
      "downdetector-jpn-japan \t {'amazon.html', 'youtube.html'}\n",
      "outage.report \t {'gmail.html', 'facebook-messenger.html', 'netflix.html', 'instagram.html', 'whatsapp.html', 'skype.html', 'github.html', 'youtube.html', 'twitter.html', 'snapchat.html', 'apple-servers.html', 'overview.html', 'facebook.html'}\n",
      "downdetector-aut-austria \t {'netflix.html', 'youtube.html', 'snapchat.html', 'spotify.html', 'amazon.html'}\n",
      "downdetector-mex-mexico \t {'netflix.html', 'youtube.html', 'snapchat.html', 'spotify.html', 'amazon.html'}\n",
      "slack \t {'rss-feed.html', 'global-status.html'}\n",
      "downdetector-bel-belgium \t {'netflix.html', 'youtube.html', 'snapchat.html', 'spotify.html'}\n",
      "downdetector-nld-netherlands \t {'netflix.html', 'youtube.html', 'airbnb.html', 'snapchat.html', 'spotify.html'}\n",
      "downdetector-bra-brazil \t {'netflix.html', 'youtube.html', 'snapchat.html', 'spotify.html', 'amazon.html'}\n",
      "downdetector-nor-norway \t {'youtube.html', 'netflix.html', 'snapchat.html'}\n"
     ]
    }
   ],
   "source": [
    "# for each source, find unique files in deepest subfolder\n",
    "for d in arr:\n",
    "    files = glob.glob('/media/shane/cloud-availability-sacheen-2020-05-11/'+d+'/**/*.zip', recursive=True)\n",
    "    res2 = set()\n",
    "    for f in files:\n",
    "        archive = ZipFile(f, 'r')\n",
    "        files2 = archive.namelist()\n",
    "        for item in files2:\n",
    "            try:\n",
    "                res2.add(item.split('/')[1])\n",
    "            except:\n",
    "                pass\n",
    "    res2.discard('')\n",
    "    print(d, '\\t', res2)"
   ]
  },
  {
   "cell_type": "code",
   "execution_count": null,
   "metadata": {},
   "outputs": [],
   "source": []
  }
 ],
 "metadata": {
  "kernelspec": {
   "display_name": "Python 3",
   "language": "python",
   "name": "python3"
  },
  "language_info": {
   "codemirror_mode": {
    "name": "ipython",
    "version": 3
   },
   "file_extension": ".py",
   "mimetype": "text/x-python",
   "name": "python",
   "nbconvert_exporter": "python",
   "pygments_lexer": "ipython3",
   "version": "3.8.5"
  }
 },
 "nbformat": 4,
 "nbformat_minor": 4
}
