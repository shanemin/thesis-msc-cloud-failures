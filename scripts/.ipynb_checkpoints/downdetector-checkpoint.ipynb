{
 "cells": [
  {
   "cell_type": "code",
   "execution_count": 9,
   "metadata": {},
   "outputs": [],
   "source": [
    "import time\n",
    "import glob as glob\n",
    "from zipfile import ZipFile\n",
    "from bs4 import BeautifulSoup\n",
    "import dateutil.parser as dparser\n",
    "from datetime import datetime\n",
    "import pandas as pd\n",
    "import multiprocessing as mp\n",
    "import numpy as np"
   ]
  },
  {
   "cell_type": "code",
   "execution_count": 10,
   "metadata": {},
   "outputs": [],
   "source": [
    "# root_dir = '/media/shane/cloud-availability-sacheen-2020-05-11/downdetector' # one directory\n",
    "# root_dir = '/media/shane/cloud-availability-sacheen-2020-05-11/downdetector/2017/201711' # subset of above\n",
    "root_dir = '/media/shane/cloud-availability-sacheen-2020-05-11/downdetector*' # all directories"
   ]
  },
  {
   "cell_type": "code",
   "execution_count": 11,
   "metadata": {},
   "outputs": [],
   "source": [
    "def extract_html_data(html_doc, source, service):\n",
    "    soup = BeautifulSoup(html_doc, 'html.parser')\n",
    "    result = []\n",
    "    \n",
    "    result.append(source)\n",
    "    result.append(service)\n",
    "    \n",
    "    timestamp = soup.find('meta', attrs={'name':'generated'})\n",
    "    result.append(timestamp.get('content'))\n",
    "    \n",
    "    # status of the service in last 24hrs (no problems, possible problems, problems)\n",
    "    for status in soup.find_all(\"div\", {\"class\": \"alert\"}):\n",
    "        result.append(' '.join(status.text.split()))\n",
    "    \n",
    "    # time since problems started (empty unless problems are ongoing)\n",
    "    for problems_since in soup.find_all(\"div\", {\"class\": \"event\"}):\n",
    "        try:\n",
    "            status = ' '.join(problems_since.text.split())\n",
    "            date = str(dparser.parse(status, fuzzy=True))\n",
    "            result.append([date.split()[0].split('-')[1:], date.split()[1]])\n",
    "        except:\n",
    "            # some months are apparently out of range\n",
    "            result.append('')\n",
    "    \n",
    "    # TECHNICAL DEBT: problems_since is not appended if tag does not exist in the html_doc\n",
    "    if len(result) != 5:\n",
    "        result.append('')\n",
    "    \n",
    "    # most reported problems at this time\n",
    "    mrp = []\n",
    "    for most_reported in soup.find_all(\"li\"):\n",
    "        if '%' in most_reported.text:\n",
    "            mrp.append(' '.join(most_reported.text.split()))\n",
    "    result.append(mrp)\n",
    "\n",
    "    return result"
   ]
  },
  {
   "cell_type": "code",
   "execution_count": 12,
   "metadata": {
    "scrolled": true
   },
   "outputs": [],
   "source": [
    "def read_file(file):\n",
    "    source = file.split('/')[4]\n",
    "    archive = ZipFile(file, 'r')\n",
    "    namelist = archive.namelist()\n",
    "    ret = []\n",
    "    for item in namelist:\n",
    "        if 'html' in item:\n",
    "            html = archive.read(item)\n",
    "            service = item.split('/')[1].split('.')[0]\n",
    "            data = extract_html_data(html, source, service)\n",
    "            ret.append(data)\n",
    "    archive.close()\n",
    "    return(ret)"
   ]
  },
  {
   "cell_type": "code",
   "execution_count": 13,
   "metadata": {
    "scrolled": true
   },
   "outputs": [
    {
     "name": "stderr",
     "output_type": "stream",
     "text": [
      "/usr/lib/python3/dist-packages/dateutil/parser/_parser.py:1199: UnknownTimezoneWarning: tzname EST identified but not understood.  Pass `tzinfos` argument in order to correctly return a timezone-aware datetime.  In a future version, this will raise an exception.\n",
      "  warnings.warn(\"tzname {tzname} identified but not understood.  \"\n",
      "/usr/lib/python3/dist-packages/dateutil/parser/_parser.py:1199: UnknownTimezoneWarning: tzname EDT identified but not understood.  Pass `tzinfos` argument in order to correctly return a timezone-aware datetime.  In a future version, this will raise an exception.\n",
      "  warnings.warn(\"tzname {tzname} identified but not understood.  \"\n",
      "/usr/lib/python3/dist-packages/dateutil/parser/_parser.py:1199: UnknownTimezoneWarning: tzname EST identified but not understood.  Pass `tzinfos` argument in order to correctly return a timezone-aware datetime.  In a future version, this will raise an exception.\n",
      "  warnings.warn(\"tzname {tzname} identified but not understood.  \"\n",
      "/usr/lib/python3/dist-packages/dateutil/parser/_parser.py:1199: UnknownTimezoneWarning: tzname EDT identified but not understood.  Pass `tzinfos` argument in order to correctly return a timezone-aware datetime.  In a future version, this will raise an exception.\n",
      "  warnings.warn(\"tzname {tzname} identified but not understood.  \"\n",
      "/usr/lib/python3/dist-packages/dateutil/parser/_parser.py:1199: UnknownTimezoneWarning: tzname IP identified but not understood.  Pass `tzinfos` argument in order to correctly return a timezone-aware datetime.  In a future version, this will raise an exception.\n",
      "  warnings.warn(\"tzname {tzname} identified but not understood.  \"\n",
      "/usr/lib/python3/dist-packages/dateutil/parser/_parser.py:1199: UnknownTimezoneWarning: tzname EDT identified but not understood.  Pass `tzinfos` argument in order to correctly return a timezone-aware datetime.  In a future version, this will raise an exception.\n",
      "  warnings.warn(\"tzname {tzname} identified but not understood.  \"\n",
      "/usr/lib/python3/dist-packages/dateutil/parser/_parser.py:1199: UnknownTimezoneWarning: tzname GST identified but not understood.  Pass `tzinfos` argument in order to correctly return a timezone-aware datetime.  In a future version, this will raise an exception.\n",
      "  warnings.warn(\"tzname {tzname} identified but not understood.  \"\n",
      "/usr/lib/python3/dist-packages/dateutil/parser/_parser.py:1199: UnknownTimezoneWarning: tzname EDT identified but not understood.  Pass `tzinfos` argument in order to correctly return a timezone-aware datetime.  In a future version, this will raise an exception.\n",
      "  warnings.warn(\"tzname {tzname} identified but not understood.  \"\n",
      "/usr/lib/python3/dist-packages/dateutil/parser/_parser.py:1199: UnknownTimezoneWarning: tzname EST identified but not understood.  Pass `tzinfos` argument in order to correctly return a timezone-aware datetime.  In a future version, this will raise an exception.\n",
      "  warnings.warn(\"tzname {tzname} identified but not understood.  \"\n",
      "/usr/lib/python3/dist-packages/dateutil/parser/_parser.py:1199: UnknownTimezoneWarning: tzname IP identified but not understood.  Pass `tzinfos` argument in order to correctly return a timezone-aware datetime.  In a future version, this will raise an exception.\n",
      "  warnings.warn(\"tzname {tzname} identified but not understood.  \"\n",
      "/usr/lib/python3/dist-packages/dateutil/parser/_parser.py:1199: UnknownTimezoneWarning: tzname AP identified but not understood.  Pass `tzinfos` argument in order to correctly return a timezone-aware datetime.  In a future version, this will raise an exception.\n",
      "  warnings.warn(\"tzname {tzname} identified but not understood.  \"\n",
      "/usr/lib/python3/dist-packages/dateutil/parser/_parser.py:1199: UnknownTimezoneWarning: tzname FM identified but not understood.  Pass `tzinfos` argument in order to correctly return a timezone-aware datetime.  In a future version, this will raise an exception.\n",
      "  warnings.warn(\"tzname {tzname} identified but not understood.  \"\n",
      "/usr/lib/python3/dist-packages/dateutil/parser/_parser.py:1199: UnknownTimezoneWarning: tzname EM identified but not understood.  Pass `tzinfos` argument in order to correctly return a timezone-aware datetime.  In a future version, this will raise an exception.\n",
      "  warnings.warn(\"tzname {tzname} identified but not understood.  \"\n",
      "/usr/lib/python3/dist-packages/dateutil/parser/_parser.py:1199: UnknownTimezoneWarning: tzname FM identified but not understood.  Pass `tzinfos` argument in order to correctly return a timezone-aware datetime.  In a future version, this will raise an exception.\n",
      "  warnings.warn(\"tzname {tzname} identified but not understood.  \"\n",
      "/usr/lib/python3/dist-packages/dateutil/parser/_parser.py:1199: UnknownTimezoneWarning: tzname FM identified but not understood.  Pass `tzinfos` argument in order to correctly return a timezone-aware datetime.  In a future version, this will raise an exception.\n",
      "  warnings.warn(\"tzname {tzname} identified but not understood.  \"\n",
      "/usr/lib/python3/dist-packages/dateutil/parser/_parser.py:1199: UnknownTimezoneWarning: tzname EM identified but not understood.  Pass `tzinfos` argument in order to correctly return a timezone-aware datetime.  In a future version, this will raise an exception.\n",
      "  warnings.warn(\"tzname {tzname} identified but not understood.  \"\n",
      "/usr/lib/python3/dist-packages/dateutil/parser/_parser.py:1199: UnknownTimezoneWarning: tzname EST identified but not understood.  Pass `tzinfos` argument in order to correctly return a timezone-aware datetime.  In a future version, this will raise an exception.\n",
      "  warnings.warn(\"tzname {tzname} identified but not understood.  \"\n",
      "/usr/lib/python3/dist-packages/dateutil/parser/_parser.py:1199: UnknownTimezoneWarning: tzname EST identified but not understood.  Pass `tzinfos` argument in order to correctly return a timezone-aware datetime.  In a future version, this will raise an exception.\n",
      "  warnings.warn(\"tzname {tzname} identified but not understood.  \"\n",
      "/usr/lib/python3/dist-packages/dateutil/parser/_parser.py:1199: UnknownTimezoneWarning: tzname JST identified but not understood.  Pass `tzinfos` argument in order to correctly return a timezone-aware datetime.  In a future version, this will raise an exception.\n",
      "  warnings.warn(\"tzname {tzname} identified but not understood.  \"\n",
      "/usr/lib/python3/dist-packages/dateutil/parser/_parser.py:1199: UnknownTimezoneWarning: tzname JST identified but not understood.  Pass `tzinfos` argument in order to correctly return a timezone-aware datetime.  In a future version, this will raise an exception.\n",
      "  warnings.warn(\"tzname {tzname} identified but not understood.  \"\n",
      "/usr/lib/python3/dist-packages/dateutil/parser/_parser.py:1199: UnknownTimezoneWarning: tzname JST identified but not understood.  Pass `tzinfos` argument in order to correctly return a timezone-aware datetime.  In a future version, this will raise an exception.\n",
      "  warnings.warn(\"tzname {tzname} identified but not understood.  \"\n"
     ]
    },
    {
     "name": "stdout",
     "output_type": "stream",
     "text": [
      "3627.567561864853\n"
     ]
    }
   ],
   "source": [
    "files = glob.glob(root_dir + '/**/*.zip', recursive=True)\n",
    "pool = mp.Pool(mp.cpu_count())\n",
    "\n",
    "start_time = time.time()\n",
    "results = pool.map(read_file, [file for file in files])\n",
    "pool.close()\n",
    "end_time = time.time()\n",
    "\n",
    "print(end_time - start_time)"
   ]
  },
  {
   "cell_type": "code",
   "execution_count": 14,
   "metadata": {
    "scrolled": true
   },
   "outputs": [],
   "source": [
    "res = []\n",
    "for outer in results:\n",
    "    for inner in outer:\n",
    "        res.append(inner)"
   ]
  },
  {
   "cell_type": "code",
   "execution_count": 15,
   "metadata": {
    "scrolled": true
   },
   "outputs": [
    {
     "data": {
      "text/plain": [
       "<bound method NDFrame.head of                               source   service  \\\n",
       "0           downdetector-deu-germany   spotify   \n",
       "1           downdetector-deu-germany    reddit   \n",
       "2           downdetector-deu-germany   youtube   \n",
       "3           downdetector-deu-germany     zynga   \n",
       "4           downdetector-deu-germany    airbnb   \n",
       "...                              ...       ...   \n",
       "323703  downdetector-che-switzerland   spotify   \n",
       "323704  downdetector-che-switzerland   youtube   \n",
       "323705  downdetector-che-switzerland   netflix   \n",
       "323706  downdetector-che-switzerland  snapchat   \n",
       "323707  downdetector-che-switzerland   netflix   \n",
       "\n",
       "                               timestamp                              status  \\\n",
       "0       2017-11-21T20:00:45.027659+01:00                 Störung bei Spotify   \n",
       "1       2017-11-21T20:01:17.940977+01:00            Keine Störung bei Reddit   \n",
       "2       2017-11-21T20:00:19.627327+01:00  Möglicherweise Störung bei Youtube   \n",
       "3       2017-11-21T20:01:13.231012+01:00             Keine Störung bei Zynga   \n",
       "4       2017-11-21T20:01:51.711265+01:00            Keine Störung bei Airbnb   \n",
       "...                                  ...                                 ...   \n",
       "323703  2018-09-11T13:01:23.194705+02:00           Keine Störung bei Spotify   \n",
       "323704  2018-09-11T13:01:24.013593+02:00           Keine Störung bei Youtube   \n",
       "323705  2018-09-11T13:01:21.620402+02:00           Keine Störung bei Netflix   \n",
       "323706  2018-09-11T13:01:22.503138+02:00          Keine Störung bei Snapchat   \n",
       "323707  2018-03-07T01:00:27.839313+01:00           Keine Störung bei Netflix   \n",
       "\n",
       "              problems_since  \\\n",
       "0       [[11, 21], 18:01:00]   \n",
       "1                              \n",
       "2                              \n",
       "3                              \n",
       "4                              \n",
       "...                      ...   \n",
       "323703                         \n",
       "323704                         \n",
       "323705                         \n",
       "323706                         \n",
       "323707                         \n",
       "\n",
       "                                   most_reported_problems  \n",
       "0       [Musik streamen (38%), Einloggen (32%), Seite ...  \n",
       "1                                                      []  \n",
       "2          [Video ansehen (50%), Seite (41%), Suche (8%)]  \n",
       "3                          [Einloggen (83%), Seite (16%)]  \n",
       "4                          [Seite (66%), Einloggen (33%)]  \n",
       "...                                                   ...  \n",
       "323703                            [Musik streamen (100%)]  \n",
       "323704                             [Video ansehen (100%)]  \n",
       "323705  [Programm schauen (46%), Einloggen (30%), Smar...  \n",
       "323706                              [Snaps senden (100%)]  \n",
       "323707  [Programm schauen (55%), Einloggen (22%), Smar...  \n",
       "\n",
       "[323708 rows x 6 columns]>"
      ]
     },
     "execution_count": 15,
     "metadata": {},
     "output_type": "execute_result"
    }
   ],
   "source": [
    "column_names = ['source','service','timestamp','status','problems_since','most_reported_problems']\n",
    "df = pd.DataFrame(res, columns=column_names)\n",
    "df.head"
   ]
  },
  {
   "cell_type": "code",
   "execution_count": 16,
   "metadata": {},
   "outputs": [],
   "source": [
    "df.to_csv(r'/home/shane/Documents/thesis/output/downdetector.csv', index=False)"
   ]
  },
  {
   "cell_type": "code",
   "execution_count": null,
   "metadata": {},
   "outputs": [],
   "source": []
  }
 ],
 "metadata": {
  "kernelspec": {
   "display_name": "Python 3",
   "language": "python",
   "name": "python3"
  },
  "language_info": {
   "codemirror_mode": {
    "name": "ipython",
    "version": 3
   },
   "file_extension": ".py",
   "mimetype": "text/x-python",
   "name": "python",
   "nbconvert_exporter": "python",
   "pygments_lexer": "ipython3",
   "version": "3.8.5"
  }
 },
 "nbformat": 4,
 "nbformat_minor": 4
}
