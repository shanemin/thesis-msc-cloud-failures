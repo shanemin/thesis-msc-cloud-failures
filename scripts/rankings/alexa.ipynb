{
 "cells": [
  {
   "cell_type": "code",
   "execution_count": 2,
   "metadata": {},
   "outputs": [],
   "source": [
    "import time\n",
    "import glob as glob\n",
    "from zipfile import ZipFile\n",
    "from bs4 import BeautifulSoup\n",
    "import multiprocessing as mp\n",
    "import pandas as pd"
   ]
  },
  {
   "cell_type": "code",
   "execution_count": 3,
   "metadata": {},
   "outputs": [],
   "source": [
    "root_dir = '../data/alexa'"
   ]
  },
  {
   "cell_type": "code",
   "execution_count": 8,
   "metadata": {},
   "outputs": [],
   "source": [
    "def extract_html_data(html_doc):\n",
    "    soup = BeautifulSoup(open(html_doc), 'html.parser')\n",
    "    result = []\n",
    "    \n",
    "    result.append(html_doc.split('/')[3].split('.')[0])\n",
    "    \n",
    "    for rank in soup.find_all(\"div\", {\"class\": \"td DescriptionCell\"}):\n",
    "        result.append(' '.join(rank.text.split()))\n",
    "    \n",
    "    return result"
   ]
  },
  {
   "cell_type": "code",
   "execution_count": 9,
   "metadata": {},
   "outputs": [
    {
     "name": "stdout",
     "output_type": "stream",
     "text": [
      "0.05908346176147461\n"
     ]
    }
   ],
   "source": [
    "files = glob.glob(root_dir + '/*.html', recursive=True)\n",
    "pool = mp.Pool(mp.cpu_count())\n",
    "\n",
    "start_time = time.time()\n",
    "results = pool.map(extract_html_data, [file for file in files])\n",
    "pool.close()\n",
    "end_time = time.time()\n",
    "\n",
    "print(end_time - start_time)"
   ]
  },
  {
   "cell_type": "code",
   "execution_count": 10,
   "metadata": {
    "scrolled": true
   },
   "outputs": [
    {
     "name": "stdout",
     "output_type": "stream",
     "text": [
      "[['alexa_top50', 'Google.com', 'Youtube.com', 'Tmall.com', 'Baidu.com', 'Qq.com', 'Sohu.com', 'Facebook.com', 'Taobao.com', '360.cn', 'Jd.com', 'Amazon.com', 'Yahoo.com', 'Wikipedia.org', 'Weibo.com', 'Sina.com.cn', 'Zoom.us', 'Xinhuanet.com', 'Live.com', 'Reddit.com', 'Netflix.com', 'Microsoft.com', 'Panda.tv', 'Instagram.com', 'Zhanqi.tv', 'Office.com', 'Alipay.com', 'Google.com.hk', 'Csdn.net', 'Vk.com', 'Myshopify.com', 'Bing.com', 'Yahoo.co.jp', 'Microsoftonline.com', 'Twitch.tv', 'Okezone.com', 'Naver.com', 'Bongacams.com', 'Twitter.com', 'Ebay.com', 'Yy.com', 'Tianya.cn', 'Huanqiu.com', 'Adobe.com', 'Amazon.in', 'Aliexpress.com', 'Amazon.co.jp', 'Stackoverflow.com', 'Canva.com', 'Aparat.com', '17ok.com']]\n"
     ]
    }
   ],
   "source": [
    "print(results)"
   ]
  },
  {
   "cell_type": "code",
   "execution_count": 11,
   "metadata": {},
   "outputs": [],
   "source": [
    "df = pd.DataFrame(row for row in results)\n",
    "df = df.transpose()\n",
    "column_names = df.iloc[0]\n",
    "df = df[1:]\n",
    "df.columns = column_names"
   ]
  },
  {
   "cell_type": "code",
   "execution_count": 12,
   "metadata": {
    "scrolled": true
   },
   "outputs": [
    {
     "data": {
      "text/html": [
       "<div>\n",
       "<style scoped>\n",
       "    .dataframe tbody tr th:only-of-type {\n",
       "        vertical-align: middle;\n",
       "    }\n",
       "\n",
       "    .dataframe tbody tr th {\n",
       "        vertical-align: top;\n",
       "    }\n",
       "\n",
       "    .dataframe thead th {\n",
       "        text-align: right;\n",
       "    }\n",
       "</style>\n",
       "<table border=\"1\" class=\"dataframe\">\n",
       "  <thead>\n",
       "    <tr style=\"text-align: right;\">\n",
       "      <th></th>\n",
       "      <th>alexa_top50</th>\n",
       "    </tr>\n",
       "  </thead>\n",
       "  <tbody>\n",
       "    <tr>\n",
       "      <th>1</th>\n",
       "      <td>Google.com</td>\n",
       "    </tr>\n",
       "    <tr>\n",
       "      <th>2</th>\n",
       "      <td>Youtube.com</td>\n",
       "    </tr>\n",
       "    <tr>\n",
       "      <th>3</th>\n",
       "      <td>Tmall.com</td>\n",
       "    </tr>\n",
       "    <tr>\n",
       "      <th>4</th>\n",
       "      <td>Baidu.com</td>\n",
       "    </tr>\n",
       "    <tr>\n",
       "      <th>5</th>\n",
       "      <td>Qq.com</td>\n",
       "    </tr>\n",
       "  </tbody>\n",
       "</table>\n",
       "</div>"
      ],
      "text/plain": [
       "0  alexa_top50\n",
       "1   Google.com\n",
       "2  Youtube.com\n",
       "3    Tmall.com\n",
       "4    Baidu.com\n",
       "5       Qq.com"
      ]
     },
     "execution_count": 12,
     "metadata": {},
     "output_type": "execute_result"
    }
   ],
   "source": [
    "df.head()"
   ]
  },
  {
   "cell_type": "code",
   "execution_count": 13,
   "metadata": {},
   "outputs": [],
   "source": [
    "df.to_csv(r'/home/shane/Documents/thesis/output/topsites_alexa.csv', index=True)"
   ]
  },
  {
   "cell_type": "code",
   "execution_count": null,
   "metadata": {},
   "outputs": [],
   "source": []
  }
 ],
 "metadata": {
  "kernelspec": {
   "display_name": "Python 3",
   "language": "python",
   "name": "python3"
  },
  "language_info": {
   "codemirror_mode": {
    "name": "ipython",
    "version": 3
   },
   "file_extension": ".py",
   "mimetype": "text/x-python",
   "name": "python",
   "nbconvert_exporter": "python",
   "pygments_lexer": "ipython3",
   "version": "3.8.5"
  }
 },
 "nbformat": 4,
 "nbformat_minor": 4
}
