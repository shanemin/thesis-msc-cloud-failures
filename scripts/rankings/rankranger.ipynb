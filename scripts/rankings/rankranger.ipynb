{
 "cells": [
  {
   "cell_type": "code",
   "execution_count": 1,
   "metadata": {},
   "outputs": [],
   "source": [
    "import time\n",
    "import glob as glob\n",
    "from zipfile import ZipFile\n",
    "from bs4 import BeautifulSoup\n",
    "import multiprocessing as mp\n",
    "import pandas as pd\n",
    "import matplotlib as mpl"
   ]
  },
  {
   "cell_type": "code",
   "execution_count": 2,
   "metadata": {},
   "outputs": [],
   "source": [
    "root_dir = '../data/rankranger'"
   ]
  },
  {
   "cell_type": "code",
   "execution_count": 3,
   "metadata": {},
   "outputs": [],
   "source": [
    "def extract_html_data(html_doc):\n",
    "    soup = BeautifulSoup(open(html_doc), 'html.parser')\n",
    "    result = []\n",
    "    \n",
    "    result.append(html_doc.split('/')[3].split('.')[0])\n",
    "    \n",
    "    for rank in soup.find_all(\"a\", {\"class\": \"tooltipster\"}):\n",
    "        result.append(' '.join(rank.text.split()))\n",
    "    \n",
    "    return result"
   ]
  },
  {
   "cell_type": "code",
   "execution_count": 4,
   "metadata": {},
   "outputs": [
    {
     "name": "stdout",
     "output_type": "stream",
     "text": [
      "0.03969001770019531\n"
     ]
    }
   ],
   "source": [
    "files = glob.glob(root_dir + '/*.html', recursive=True)\n",
    "pool = mp.Pool(mp.cpu_count())\n",
    "\n",
    "start_time = time.time()\n",
    "results = pool.map(extract_html_data, [file for file in files])\n",
    "pool.close()\n",
    "end_time = time.time()\n",
    "\n",
    "print(end_time - start_time)"
   ]
  },
  {
   "cell_type": "code",
   "execution_count": 5,
   "metadata": {
    "scrolled": true
   },
   "outputs": [
    {
     "name": "stdout",
     "output_type": "stream",
     "text": [
      "[['rankranger', 'google.com', 'facebook.com', 'amazon.com', 'imdb.com', 'merriam-webster.com', 'apple.com', 'pinterest.com', 'dictionary.com', 'tripadvisor.com', 'yahoo.com', 'yelp.com', 'linkedin.com', 'britannica.com', 'microsoft.com', 'healthline.com', 'espn.com', 'weather.com', 'cambridge.org', 'craigslist.org', 'webmd.com', 'homedepot.com', 'cricbuzz.com', 'bbc.com', 'thefreedictionary.com', 'whatsapp.com', 'walmart.com', 'espncricinfo.com', 'wiktionary.org', 'thesaurus.com', 'netflix.com', 'ytmp3.cc', 'timeanddate.com', 'gsmarena.com', 'rottentomatoes.com', 'mayoclinic.org', 'livescore.com', 'xnxx.com', 'investopedia.com', 'indeed.com', 'indiatimes.com', 'bestbuy.com', 'spanishdict.com', 'ebay.com', 'dominos.com', 'pornhub.com', 'cdc.gov', 'xvideos.com', 'samsung.com', 'flashscore.com', 'thepiratebay.org', 'nih.gov', 'ndtv.com', 'about.google', 'cnn.com', 'unsplash.com', 'about.fb.com', 'speedtest.net', 'roblox.com', 'marketwatch.com', 'theguardian.com', 'steampowered.com', 'yourdictionary.com', 'cnet.com', 'techradar.com', 'playstation.com', 'blog.google', 'tiktok.com', 'adobe.com', 'mcdonalds.com', 'lowes.com', 'expedia.com', 'goodhousekeeping.com', 'booking.com', 'spotify.com', 'github.com', 'globo.com', 'premierleague.com', 'bloomberg.com', 'friv.com', 'twitch.tv', 'soundcloud.com', 'usnews.com', 'caranddriver.com', 'vocabulary.com', 'nba.com', 'xe.com', 'nordstrom.com', 'reverso.net', 'livesoccertv.com', 'nintendo.com', 'deepl.com', 'businessinsider.com', 'allrecipes.com', 'instructure.com', 'goodreads.com', 'wellsfargo.com', 'kayak.com', 'livescore.in', 'forbes.com', 'geology.com']]\n"
     ]
    }
   ],
   "source": [
    "print(results)"
   ]
  },
  {
   "cell_type": "code",
   "execution_count": 6,
   "metadata": {},
   "outputs": [],
   "source": [
    "df = pd.DataFrame(row for row in results)\n",
    "df = df.transpose()\n",
    "column_names = df.iloc[0]\n",
    "df = df[1:]\n",
    "df.columns = column_names"
   ]
  },
  {
   "cell_type": "code",
   "execution_count": 8,
   "metadata": {
    "scrolled": true
   },
   "outputs": [
    {
     "data": {
      "text/html": [
       "<div>\n",
       "<style scoped>\n",
       "    .dataframe tbody tr th:only-of-type {\n",
       "        vertical-align: middle;\n",
       "    }\n",
       "\n",
       "    .dataframe tbody tr th {\n",
       "        vertical-align: top;\n",
       "    }\n",
       "\n",
       "    .dataframe thead th {\n",
       "        text-align: right;\n",
       "    }\n",
       "</style>\n",
       "<table border=\"1\" class=\"dataframe\">\n",
       "  <thead>\n",
       "    <tr style=\"text-align: right;\">\n",
       "      <th></th>\n",
       "      <th>rankranger</th>\n",
       "    </tr>\n",
       "  </thead>\n",
       "  <tbody>\n",
       "    <tr>\n",
       "      <th>1</th>\n",
       "      <td>google.com</td>\n",
       "    </tr>\n",
       "    <tr>\n",
       "      <th>2</th>\n",
       "      <td>facebook.com</td>\n",
       "    </tr>\n",
       "    <tr>\n",
       "      <th>3</th>\n",
       "      <td>amazon.com</td>\n",
       "    </tr>\n",
       "    <tr>\n",
       "      <th>4</th>\n",
       "      <td>imdb.com</td>\n",
       "    </tr>\n",
       "    <tr>\n",
       "      <th>5</th>\n",
       "      <td>merriam-webster.com</td>\n",
       "    </tr>\n",
       "    <tr>\n",
       "      <th>6</th>\n",
       "      <td>apple.com</td>\n",
       "    </tr>\n",
       "    <tr>\n",
       "      <th>7</th>\n",
       "      <td>pinterest.com</td>\n",
       "    </tr>\n",
       "    <tr>\n",
       "      <th>8</th>\n",
       "      <td>dictionary.com</td>\n",
       "    </tr>\n",
       "    <tr>\n",
       "      <th>9</th>\n",
       "      <td>tripadvisor.com</td>\n",
       "    </tr>\n",
       "    <tr>\n",
       "      <th>10</th>\n",
       "      <td>yahoo.com</td>\n",
       "    </tr>\n",
       "    <tr>\n",
       "      <th>11</th>\n",
       "      <td>yelp.com</td>\n",
       "    </tr>\n",
       "    <tr>\n",
       "      <th>12</th>\n",
       "      <td>linkedin.com</td>\n",
       "    </tr>\n",
       "    <tr>\n",
       "      <th>13</th>\n",
       "      <td>britannica.com</td>\n",
       "    </tr>\n",
       "    <tr>\n",
       "      <th>14</th>\n",
       "      <td>microsoft.com</td>\n",
       "    </tr>\n",
       "    <tr>\n",
       "      <th>15</th>\n",
       "      <td>healthline.com</td>\n",
       "    </tr>\n",
       "    <tr>\n",
       "      <th>16</th>\n",
       "      <td>espn.com</td>\n",
       "    </tr>\n",
       "    <tr>\n",
       "      <th>17</th>\n",
       "      <td>weather.com</td>\n",
       "    </tr>\n",
       "    <tr>\n",
       "      <th>18</th>\n",
       "      <td>cambridge.org</td>\n",
       "    </tr>\n",
       "    <tr>\n",
       "      <th>19</th>\n",
       "      <td>craigslist.org</td>\n",
       "    </tr>\n",
       "    <tr>\n",
       "      <th>20</th>\n",
       "      <td>webmd.com</td>\n",
       "    </tr>\n",
       "  </tbody>\n",
       "</table>\n",
       "</div>"
      ],
      "text/plain": [
       "0            rankranger\n",
       "1            google.com\n",
       "2          facebook.com\n",
       "3            amazon.com\n",
       "4              imdb.com\n",
       "5   merriam-webster.com\n",
       "6             apple.com\n",
       "7         pinterest.com\n",
       "8        dictionary.com\n",
       "9       tripadvisor.com\n",
       "10            yahoo.com\n",
       "11             yelp.com\n",
       "12         linkedin.com\n",
       "13       britannica.com\n",
       "14        microsoft.com\n",
       "15       healthline.com\n",
       "16             espn.com\n",
       "17          weather.com\n",
       "18        cambridge.org\n",
       "19       craigslist.org\n",
       "20            webmd.com"
      ]
     },
     "execution_count": 8,
     "metadata": {},
     "output_type": "execute_result"
    }
   ],
   "source": [
    "df.head(20)"
   ]
  },
  {
   "cell_type": "code",
   "execution_count": 9,
   "metadata": {},
   "outputs": [],
   "source": [
    "df.to_csv(r'/home/shane/Documents/thesis/output/topsites_rankranger.csv', index=True)"
   ]
  },
  {
   "cell_type": "code",
   "execution_count": null,
   "metadata": {},
   "outputs": [],
   "source": []
  }
 ],
 "metadata": {
  "kernelspec": {
   "display_name": "Python 3",
   "language": "python",
   "name": "python3"
  },
  "language_info": {
   "codemirror_mode": {
    "name": "ipython",
    "version": 3
   },
   "file_extension": ".py",
   "mimetype": "text/x-python",
   "name": "python",
   "nbconvert_exporter": "python",
   "pygments_lexer": "ipython3",
   "version": "3.8.5"
  }
 },
 "nbformat": 4,
 "nbformat_minor": 4
}
