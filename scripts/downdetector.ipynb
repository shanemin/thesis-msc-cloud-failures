{
 "cells": [
  {
   "cell_type": "code",
   "execution_count": 1,
   "metadata": {},
   "outputs": [],
   "source": [
    "import glob as glob\n",
    "from zipfile import ZipFile\n",
    "from bs4 import BeautifulSoup\n",
    "import dateutil.parser as dparser\n",
    "from datetime import datetime\n",
    "import pandas as pd\n",
    "import multiprocessing as mp\n",
    "import numpy as np"
   ]
  },
  {
   "cell_type": "code",
   "execution_count": 2,
   "metadata": {},
   "outputs": [],
   "source": [
    "# root_dir = '/media/shane/cloud-availability-sacheen-2020-05-11/downdetector' # one directory\n",
    "# root_dir = '/media/shane/cloud-availability-sacheen-2020-05-11/downdetector/2017/201711' # subset of above\n",
    "root_dir = '/media/shane/cloud-availability-sacheen-2020-05-11/downdetector*' # all directories"
   ]
  },
  {
   "cell_type": "code",
   "execution_count": 3,
   "metadata": {},
   "outputs": [],
   "source": [
    "def extract_html_data(html_doc, source, service):\n",
    "    soup = BeautifulSoup(html_doc, 'html.parser')\n",
    "    result = []\n",
    "    \n",
    "    result.append(source)\n",
    "    result.append(service)\n",
    "    \n",
    "    timestamp = soup.find('meta', attrs={'name':'generated'})\n",
    "    result.append(timestamp.get('content'))\n",
    "    \n",
    "    # status of the service in last 24hrs (no problems, possible problems, problems)\n",
    "    for status in soup.find_all(\"div\", {\"class\": \"alert\"}):\n",
    "        result.append(' '.join(status.text.split()))\n",
    "    \n",
    "    # time since problems started (empty unless problems are ongoing)\n",
    "    for problems_since in soup.find_all(\"div\", {\"class\": \"event\"}):\n",
    "        try:\n",
    "            status = ' '.join(problems_since.text.split())\n",
    "            date = str(dparser.parse(status, fuzzy=True))\n",
    "            result.append([date.split()[0].split('-')[1:], date.split()[1]])\n",
    "        except:\n",
    "            # some months are apparently out of range\n",
    "            result.append('')\n",
    "    \n",
    "    # TECHNICAL DEBT: problems_since is not appended if tag does not exist in the html_doc\n",
    "    if len(result) != 5:\n",
    "        result.append('')\n",
    "    \n",
    "    # most reported problems at this time\n",
    "    mrp = []\n",
    "    for most_reported in soup.find_all(\"li\"):\n",
    "        if '%' in most_reported.text:\n",
    "            mrp.append(' '.join(most_reported.text.split()))\n",
    "    result.append(mrp)\n",
    "\n",
    "    return result"
   ]
  },
  {
   "cell_type": "code",
   "execution_count": 4,
   "metadata": {
    "scrolled": true
   },
   "outputs": [],
   "source": [
    "def read_file(file):\n",
    "    source = file.split('/')[4]\n",
    "    archive = ZipFile(file, 'r')\n",
    "    namelist = archive.namelist()\n",
    "    for item in namelist:\n",
    "        if 'html' in item:\n",
    "            html = archive.read(item)\n",
    "            service = item.split('/')[1].split('.')[0]\n",
    "            data = extract_html_data(html, source, service)\n",
    "            return data\n",
    "    archive.close()"
   ]
  },
  {
   "cell_type": "code",
   "execution_count": 5,
   "metadata": {},
   "outputs": [
    {
     "name": "stderr",
     "output_type": "stream",
     "text": [
      "/usr/lib/python3/dist-packages/dateutil/parser/_parser.py:1199: UnknownTimezoneWarning: tzname EST identified but not understood.  Pass `tzinfos` argument in order to correctly return a timezone-aware datetime.  In a future version, this will raise an exception.\n",
      "  warnings.warn(\"tzname {tzname} identified but not understood.  \"\n",
      "/usr/lib/python3/dist-packages/dateutil/parser/_parser.py:1199: UnknownTimezoneWarning: tzname EST identified but not understood.  Pass `tzinfos` argument in order to correctly return a timezone-aware datetime.  In a future version, this will raise an exception.\n",
      "  warnings.warn(\"tzname {tzname} identified but not understood.  \"\n",
      "/usr/lib/python3/dist-packages/dateutil/parser/_parser.py:1199: UnknownTimezoneWarning: tzname IP identified but not understood.  Pass `tzinfos` argument in order to correctly return a timezone-aware datetime.  In a future version, this will raise an exception.\n",
      "  warnings.warn(\"tzname {tzname} identified but not understood.  \"\n",
      "/usr/lib/python3/dist-packages/dateutil/parser/_parser.py:1199: UnknownTimezoneWarning: tzname FM identified but not understood.  Pass `tzinfos` argument in order to correctly return a timezone-aware datetime.  In a future version, this will raise an exception.\n",
      "  warnings.warn(\"tzname {tzname} identified but not understood.  \"\n",
      "/usr/lib/python3/dist-packages/dateutil/parser/_parser.py:1199: UnknownTimezoneWarning: tzname EST identified but not understood.  Pass `tzinfos` argument in order to correctly return a timezone-aware datetime.  In a future version, this will raise an exception.\n",
      "  warnings.warn(\"tzname {tzname} identified but not understood.  \"\n"
     ]
    }
   ],
   "source": [
    "files = glob.glob(root_dir + '/**/*.zip', recursive=True)\n",
    "pool = mp.Pool(mp.cpu_count())\n",
    "results = pool.map(read_file, [file for file in files])\n",
    "pool.close()"
   ]
  },
  {
   "cell_type": "code",
   "execution_count": 6,
   "metadata": {
    "scrolled": true
   },
   "outputs": [
    {
     "name": "stdout",
     "output_type": "stream",
     "text": [
      "2772\n"
     ]
    }
   ],
   "source": [
    "res = np.array([np.array(x, dtype='object') for x in results if x is not None])\n",
    "print(len(res))"
   ]
  },
  {
   "cell_type": "code",
   "execution_count": 10,
   "metadata": {
    "scrolled": true
   },
   "outputs": [
    {
     "data": {
      "text/plain": [
       "<bound method NDFrame.head of                             source  service                         timestamp  \\\n",
       "0         downdetector-deu-germany  spotify  2017-11-21T20:00:45.027659+01:00   \n",
       "1         downdetector-deu-germany  spotify  2017-11-24T00:02:24.103913+01:00   \n",
       "2         downdetector-deu-germany  spotify  2017-11-18T01:00:14.774816+01:00   \n",
       "3         downdetector-deu-germany  spotify  2017-11-30T11:01:20.891668+01:00   \n",
       "4         downdetector-deu-germany  spotify  2017-11-19T03:00:10.084361+01:00   \n",
       "...                            ...      ...                               ...   \n",
       "2767  downdetector-che-switzerland  spotify  2018-09-07T18:00:06.436682+02:00   \n",
       "2768  downdetector-che-switzerland  spotify  2018-09-17T04:01:20.046055+02:00   \n",
       "2769  downdetector-che-switzerland  spotify  2018-09-10T00:01:26.258390+02:00   \n",
       "2770  downdetector-che-switzerland  spotify  2018-09-11T18:01:57.619019+02:00   \n",
       "2771  downdetector-che-switzerland  netflix  2018-03-07T01:00:27.839313+01:00   \n",
       "\n",
       "                                  status        problems_since  \\\n",
       "0                    Störung bei Spotify  [[11, 21], 18:01:00]   \n",
       "1              Keine Störung bei Spotify                         \n",
       "2              Keine Störung bei Spotify                         \n",
       "3     Möglicherweise Störung bei Spotify                         \n",
       "4              Keine Störung bei Spotify                         \n",
       "...                                  ...                   ...   \n",
       "2767           Keine Störung bei Spotify                         \n",
       "2768           Keine Störung bei Spotify                         \n",
       "2769           Keine Störung bei Spotify                         \n",
       "2770           Keine Störung bei Spotify                         \n",
       "2771           Keine Störung bei Netflix                         \n",
       "\n",
       "                                 most_reported_problems  \n",
       "0     [Musik streamen (38%), Einloggen (32%), Seite ...  \n",
       "1     [Musik streamen (64%), Einloggen (21%), Seite ...  \n",
       "2               [Musik streamen (70%), Einloggen (30%)]  \n",
       "3     [Musik streamen (58%), Seite (25%), Einloggen ...  \n",
       "4     [Musik streamen (53%), Einloggen (23%), Seite ...  \n",
       "...                                                 ...  \n",
       "2767                                                 []  \n",
       "2768                                                 []  \n",
       "2769                            [Musik streamen (100%)]  \n",
       "2770                            [Musik streamen (100%)]  \n",
       "2771  [Programm schauen (55%), Einloggen (22%), Smar...  \n",
       "\n",
       "[2772 rows x 6 columns]>"
      ]
     },
     "execution_count": 10,
     "metadata": {},
     "output_type": "execute_result"
    }
   ],
   "source": [
    "column_names = ['source','service','timestamp','status','problems_since','most_reported_problems']\n",
    "df = pd.DataFrame(res, columns=column_names)\n",
    "df.head"
   ]
  },
  {
   "cell_type": "code",
   "execution_count": 11,
   "metadata": {},
   "outputs": [
    {
     "name": "stdout",
     "output_type": "stream",
     "text": [
      "2772\n"
     ]
    }
   ],
   "source": [
    "print(len(df))\n",
    "df.to_csv(r'/home/shane/Documents/thesis/output/downdetector.csv', index=False)"
   ]
  },
  {
   "cell_type": "code",
   "execution_count": null,
   "metadata": {},
   "outputs": [],
   "source": []
  }
 ],
 "metadata": {
  "kernelspec": {
   "display_name": "Python 3",
   "language": "python",
   "name": "python3"
  },
  "language_info": {
   "codemirror_mode": {
    "name": "ipython",
    "version": 3
   },
   "file_extension": ".py",
   "mimetype": "text/x-python",
   "name": "python",
   "nbconvert_exporter": "python",
   "pygments_lexer": "ipython3",
   "version": "3.8.5"
  }
 },
 "nbformat": 4,
 "nbformat_minor": 4
}
