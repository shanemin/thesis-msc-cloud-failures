{
 "cells": [
  {
   "cell_type": "markdown",
   "metadata": {},
   "source": [
    "# Label the service statuses in a uniform way"
   ]
  },
  {
   "cell_type": "code",
   "execution_count": 26,
   "metadata": {},
   "outputs": [],
   "source": [
    "import time\n",
    "import glob as glob\n",
    "from zipfile import ZipFile\n",
    "from bs4 import BeautifulSoup\n",
    "import dateutil.parser as dparser\n",
    "from datetime import datetime\n",
    "import pandas as pd\n",
    "import multiprocessing as mp\n",
    "import numpy as np"
   ]
  },
  {
   "cell_type": "code",
   "execution_count": 28,
   "metadata": {},
   "outputs": [
    {
     "name": "stdout",
     "output_type": "stream",
     "text": [
      "cloud-amazon-web-services.csv 291\n",
      "slack.csv 1835\n",
      "outage-report.csv 120018\n",
      "downdetector_v2.csv 323708\n",
      "downrightnow.csv 11904\n",
      "atlassian.csv 23864\n"
     ]
    },
    {
     "name": "stderr",
     "output_type": "stream",
     "text": [
      "/usr/lib/python3/dist-packages/IPython/core/interactiveshell.py:3062: DtypeWarning: Columns (95) have mixed types.Specify dtype option on import or set low_memory=False.\n",
      "  has_raised = await self.run_ast_nodes(code_ast.body, cell_name,\n"
     ]
    },
    {
     "name": "stdout",
     "output_type": "stream",
     "text": [
      "github-status.csv 9612\n",
      "cloudflare-status.csv 8433\n",
      "discord.csv 1836\n",
      "cloud-google-cloud-platform.csv 22811\n"
     ]
    }
   ],
   "source": [
    "root_dir = '/home/shane/Documents/thesis/output/parsed/final/'\n",
    "files = glob.glob(root_dir + '*.csv')\n",
    "for file in files:\n",
    "    df = pd.read_csv(file)\n",
    "    print(file.split('/')[8], len(df))"
   ]
  },
  {
   "cell_type": "code",
   "execution_count": 35,
   "metadata": {},
   "outputs": [],
   "source": [
    "unique_statuses = set()\n",
    "\n",
    "for file in files:\n",
    "    if 'outage' in file:\n",
    "        continue\n",
    "        \n",
    "    df = pd.read_csv(file)\n",
    "    statuses = df.iloc[:, 4:]\n",
    "    for s in statuses:\n",
    "        for t in df[s].unique():\n",
    "            unique_statuses.add(str(t))"
   ]
  },
  {
   "cell_type": "markdown",
   "metadata": {},
   "source": [
    "### The unique status types we should encode"
   ]
  },
  {
   "cell_type": "code",
   "execution_count": 36,
   "metadata": {
    "scrolled": true
   },
   "outputs": [
    {
     "data": {
      "text/plain": [
       "{' operational',\n",
       " ' partial_outage',\n",
       " '0',\n",
       " '1',\n",
       " '2',\n",
       " '3',\n",
       " '?',\n",
       " 'All services available',\n",
       " 'Cloud Developer Tools reporting issues',\n",
       " 'Cloud Machine Learning reporting issues',\n",
       " 'Cloud Run reporting issues',\n",
       " 'Cloud Spanner reporting issues',\n",
       " 'Degraded Performance',\n",
       " 'Google App Engine reporting issues',\n",
       " 'Google BigQuery reporting issues',\n",
       " 'Google Cloud Composer reporting issues',\n",
       " 'Google Cloud Console reporting issues',\n",
       " 'Google Cloud Dataflow reporting issues',\n",
       " 'Google Cloud Dataproc reporting issues',\n",
       " 'Google Cloud Datastore reporting issues',\n",
       " 'Google Cloud Functions reporting issues',\n",
       " 'Google Cloud Networking reporting issues',\n",
       " 'Google Cloud Pub/Sub reporting issues',\n",
       " 'Google Cloud SQL reporting issues',\n",
       " 'Google Cloud Storage reporting issues',\n",
       " 'Google Cloud Support reporting issues',\n",
       " 'Google Cloud infrastructure components reporting issues',\n",
       " 'Google Compute Engine reporting issues',\n",
       " 'Google Kubernetes Engine reporting issues',\n",
       " 'Google Stackdriver reporting issues',\n",
       " 'Identity & Security reporting issues',\n",
       " 'Likely Service Disruption',\n",
       " 'Major Outage',\n",
       " 'Multiple services reporting issues',\n",
       " 'No issues',\n",
       " 'Operational',\n",
       " 'Operations reporting issues',\n",
       " 'Partial Outage',\n",
       " 'Possible Service Trouble',\n",
       " 'Recent Signs of Service Trouble',\n",
       " \"Something's not quite right View details\",\n",
       " 'Under Maintenance',\n",
       " 'Up',\n",
       " 'alert-danger',\n",
       " 'alert-success',\n",
       " 'alert-warning',\n",
       " 'degraded_performance',\n",
       " 'major_outage',\n",
       " 'nan',\n",
       " 'operational',\n",
       " 'partial_outage',\n",
       " 'under_maintenance'}"
      ]
     },
     "execution_count": 36,
     "metadata": {},
     "output_type": "execute_result"
    }
   ],
   "source": [
    "unique_statuses"
   ]
  },
  {
   "cell_type": "markdown",
   "metadata": {},
   "source": [
    "#### Encode in a dict, as follows:\n",
    "##### 0 -> operational; 1 -> partial outage/issues; 2 -> full outage/major problems"
   ]
  },
  {
   "cell_type": "code",
   "execution_count": 42,
   "metadata": {},
   "outputs": [],
   "source": [
    "labels_dict = {\n",
    "   ' operational': 0,\n",
    "   ' partial_outage': 1,\n",
    "   '0': '',\n",
    "   '1': '',\n",
    "   '2': '',\n",
    "   '3': '',\n",
    "   '?': '?',\n",
    "   'All services available': '',\n",
    "   'Cloud Developer Tools reporting issues': '',\n",
    "   'Cloud Machine Learning reporting issues': '',\n",
    "   'Cloud Run reporting issues': '',\n",
    "   'Cloud Spanner reporting issues': '',\n",
    "   'Degraded Performance': '',\n",
    "   'Google App Engine reporting issues': '',\n",
    "   'Google BigQuery reporting issues': '',\n",
    "   'Google Cloud Composer reporting issues': '',\n",
    "   'Google Cloud Console reporting issues': '',\n",
    "   'Google Cloud Dataflow reporting issues': '',\n",
    "   'Google Cloud Dataproc reporting issues': '',\n",
    "   'Google Cloud Datastore reporting issues': '',\n",
    "   'Google Cloud Functions reporting issues': '',\n",
    "   'Google Cloud Networking reporting issues': '',\n",
    "   'Google Cloud Pub/Sub reporting issues': '',\n",
    "   'Google Cloud SQL reporting issues': '',\n",
    "   'Google Cloud Storage reporting issues': '',\n",
    "   'Google Cloud Support reporting issues': '',\n",
    "   'Google Cloud infrastructure components reporting issues': '',\n",
    "   'Google Compute Engine reporting issues': '',\n",
    "   'Google Kubernetes Engine reporting issues': '',\n",
    "   'Google Stackdriver reporting issues': '',\n",
    "   'Identity & Security reporting issues': '',\n",
    "   'Likely Service Disruption': '',\n",
    "   'Major Outage': '',\n",
    "   'Multiple services reporting issues': '',\n",
    "   'No issues': '',\n",
    "   'Operational': '',\n",
    "   'Operations reporting issues': '',\n",
    "   'Partial Outage': '',\n",
    "   'Possible Service Trouble': '',\n",
    "   'Recent Signs of Service Trouble': '',\n",
    "   \"Something's not quite right View details\": '',\n",
    "   'Under Maintenance': '',\n",
    "   'nan': '',\n",
    "   'Up': '',\n",
    "   'alert-danger': '',\n",
    "   'alert-success': '',\n",
    "   'alert-warning': '',\n",
    "   'degraded_performance': '',\n",
    "   'major_outage': '',\n",
    "   'operational': '',\n",
    "   'partial_outage': '',\n",
    "   'under_maintenance': ''\n",
    "}"
   ]
  },
  {
   "cell_type": "code",
   "execution_count": null,
   "metadata": {},
   "outputs": [],
   "source": []
  },
  {
   "cell_type": "code",
   "execution_count": null,
   "metadata": {},
   "outputs": [],
   "source": []
  },
  {
   "cell_type": "code",
   "execution_count": null,
   "metadata": {},
   "outputs": [],
   "source": []
  }
 ],
 "metadata": {
  "kernelspec": {
   "display_name": "Python 3",
   "language": "python",
   "name": "python3"
  },
  "language_info": {
   "codemirror_mode": {
    "name": "ipython",
    "version": 3
   },
   "file_extension": ".py",
   "mimetype": "text/x-python",
   "name": "python",
   "nbconvert_exporter": "python",
   "pygments_lexer": "ipython3",
   "version": "3.8.5"
  }
 },
 "nbformat": 4,
 "nbformat_minor": 4
}
