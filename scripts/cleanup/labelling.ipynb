{
 "cells": [
  {
   "cell_type": "markdown",
   "metadata": {},
   "source": [
    "# Label the service statuses in a uniform way"
   ]
  },
  {
   "cell_type": "code",
   "execution_count": 8,
   "metadata": {},
   "outputs": [],
   "source": [
    "import time\n",
    "import glob as glob\n",
    "from zipfile import ZipFile\n",
    "from bs4 import BeautifulSoup\n",
    "import dateutil.parser as dparser\n",
    "from datetime import datetime\n",
    "import pandas as pd\n",
    "import multiprocessing as mp\n",
    "import numpy as np"
   ]
  },
  {
   "cell_type": "markdown",
   "metadata": {},
   "source": [
    "### Number of records per CSV"
   ]
  },
  {
   "cell_type": "code",
   "execution_count": 9,
   "metadata": {},
   "outputs": [
    {
     "name": "stdout",
     "output_type": "stream",
     "text": [
      "cloud-amazon-web-services.csv 291\n",
      "slack.csv 1835\n",
      "outage-report.csv 120018\n",
      "downdetector_v2.csv 323708\n",
      "downrightnow.csv 11904\n"
     ]
    },
    {
     "name": "stderr",
     "output_type": "stream",
     "text": [
      "/usr/lib/python3/dist-packages/IPython/core/interactiveshell.py:3062: DtypeWarning: Columns (95) have mixed types.Specify dtype option on import or set low_memory=False.\n",
      "  has_raised = await self.run_ast_nodes(code_ast.body, cell_name,\n"
     ]
    },
    {
     "name": "stdout",
     "output_type": "stream",
     "text": [
      "atlassian.csv 23864\n",
      "github-status.csv 9612\n",
      "cloud-google-apps.csv 549\n",
      "cloudflare-status.csv 8433\n",
      "discord.csv 1836\n",
      "cloud-google-cloud-platform.csv 22811\n"
     ]
    },
    {
     "name": "stderr",
     "output_type": "stream",
     "text": [
      "/usr/lib/python3/dist-packages/IPython/core/interactiveshell.py:3062: DtypeWarning: Columns (6,9,12,17,23,50,51,55,67,74,98,100,110,114,118,129,132,136,143,158,162,170,172,178,179,180,188,202,205,212,236,247,251) have mixed types.Specify dtype option on import or set low_memory=False.\n",
      "  has_raised = await self.run_ast_nodes(code_ast.body, cell_name,\n"
     ]
    }
   ],
   "source": [
    "root_dir = '/home/shane/Documents/thesis/output/parsed/final/'\n",
    "files = glob.glob(root_dir + '*.csv')\n",
    "for file in files:\n",
    "    df = pd.read_csv(file)\n",
    "    print(file.split('/')[8], len(df))"
   ]
  },
  {
   "cell_type": "markdown",
   "metadata": {},
   "source": [
    "### Number of unique statuses and status features per service"
   ]
  },
  {
   "cell_type": "code",
   "execution_count": 10,
   "metadata": {},
   "outputs": [
    {
     "name": "stdout",
     "output_type": "stream",
     "text": [
      "slack.csv ; Unique: 2 ; Features: 10\n",
      "downdetector_v2.csv ; Unique: 4 ; Features: 1\n",
      "downrightnow.csv ; Unique: 5 ; Features: 1\n",
      "atlassian.csv ; Unique: 6 ; Features: 175\n",
      "github-status.csv ; Unique: 5 ; Features: 11\n",
      "cloudflare-status.csv ; Unique: 8 ; Features: 248\n",
      "discord.csv ; Unique: 4 ; Features: 21\n",
      "cloud-google-cloud-platform.csv ; Unique: 25 ; Features: 1\n"
     ]
    }
   ],
   "source": [
    "unique_statuses = set()\n",
    "\n",
    "for file in files:\n",
    "    if 'outage' in file or 'google-apps' in file or 'cloud-amazon' in file:\n",
    "        continue\n",
    "        \n",
    "    df = pd.read_csv(file)\n",
    "    statuses = df.iloc[:, 4:]\n",
    "    unique_count = set()\n",
    "    \n",
    "    for s in statuses:\n",
    "        for t in df[s].unique():\n",
    "            unique_statuses.add(str(t))\n",
    "            unique_count.add(str(t))\n",
    "    print(file.split('/')[8], '; Unique:', len(unique_count), '; Features:', len(df.columns)-4)"
   ]
  },
  {
   "cell_type": "markdown",
   "metadata": {},
   "source": [
    "### The unique status types we should encode"
   ]
  },
  {
   "cell_type": "code",
   "execution_count": 11,
   "metadata": {
    "scrolled": true
   },
   "outputs": [
    {
     "data": {
      "text/plain": [
       "{' operational',\n",
       " ' partial_outage',\n",
       " '?',\n",
       " 'All services available',\n",
       " 'Cloud Developer Tools reporting issues',\n",
       " 'Cloud Machine Learning reporting issues',\n",
       " 'Cloud Run reporting issues',\n",
       " 'Cloud Spanner reporting issues',\n",
       " 'Degraded Performance',\n",
       " 'Google App Engine reporting issues',\n",
       " 'Google BigQuery reporting issues',\n",
       " 'Google Cloud Composer reporting issues',\n",
       " 'Google Cloud Console reporting issues',\n",
       " 'Google Cloud Dataflow reporting issues',\n",
       " 'Google Cloud Dataproc reporting issues',\n",
       " 'Google Cloud Datastore reporting issues',\n",
       " 'Google Cloud Functions reporting issues',\n",
       " 'Google Cloud Networking reporting issues',\n",
       " 'Google Cloud Pub/Sub reporting issues',\n",
       " 'Google Cloud SQL reporting issues',\n",
       " 'Google Cloud Storage reporting issues',\n",
       " 'Google Cloud Support reporting issues',\n",
       " 'Google Cloud infrastructure components reporting issues',\n",
       " 'Google Compute Engine reporting issues',\n",
       " 'Google Kubernetes Engine reporting issues',\n",
       " 'Google Stackdriver reporting issues',\n",
       " 'Identity & Security reporting issues',\n",
       " 'Likely Service Disruption',\n",
       " 'Major Outage',\n",
       " 'Multiple services reporting issues',\n",
       " 'No issues',\n",
       " 'Operational',\n",
       " 'Operations reporting issues',\n",
       " 'Partial Outage',\n",
       " 'Possible Service Trouble',\n",
       " 'Recent Signs of Service Trouble',\n",
       " \"Something's not quite right View details\",\n",
       " 'Under Maintenance',\n",
       " 'Up',\n",
       " 'alert-danger',\n",
       " 'alert-success',\n",
       " 'alert-warning',\n",
       " 'degraded_performance',\n",
       " 'major_outage',\n",
       " 'nan',\n",
       " 'operational',\n",
       " 'partial_outage',\n",
       " 'under_maintenance'}"
      ]
     },
     "execution_count": 11,
     "metadata": {},
     "output_type": "execute_result"
    }
   ],
   "source": [
    "unique_statuses"
   ]
  },
  {
   "cell_type": "markdown",
   "metadata": {},
   "source": [
    "### Encodings go in a dictionary, as follows:\n",
    "#### 0 -> operational; 1 -> partial outage/issues; 2 -> full outage/major problems; 3 -> maintenance; 9 -> unknown"
   ]
  },
  {
   "cell_type": "code",
   "execution_count": 12,
   "metadata": {},
   "outputs": [],
   "source": [
    "labels_dict = {\n",
    "   ' operational': 0,\n",
    "   ' partial_outage': 1,\n",
    "   '?': 9,\n",
    "   'All services available': 0,\n",
    "   'Cloud Developer Tools reporting issues': 1,\n",
    "   'Cloud Machine Learning reporting issues': 1,\n",
    "   'Cloud Run reporting issues': 1,\n",
    "   'Cloud Spanner reporting issues': 1,\n",
    "   'Degraded Performance': 1,\n",
    "   'Google App Engine reporting issues': 1,\n",
    "   'Google BigQuery reporting issues': 1,\n",
    "   'Google Cloud Composer reporting issues': 1,\n",
    "   'Google Cloud Console reporting issues': 1,\n",
    "   'Google Cloud Dataflow reporting issues': 1,\n",
    "   'Google Cloud Dataproc reporting issues': 1,\n",
    "   'Google Cloud Datastore reporting issues': 1,\n",
    "   'Google Cloud Functions reporting issues': 1,\n",
    "   'Google Cloud Networking reporting issues': 1,\n",
    "   'Google Cloud Pub/Sub reporting issues': 1,\n",
    "   'Google Cloud SQL reporting issues': 1,\n",
    "   'Google Cloud Storage reporting issues': 1,\n",
    "   'Google Cloud Support reporting issues': 1,\n",
    "   'Google Cloud infrastructure components reporting issues': 1,\n",
    "   'Google Compute Engine reporting issues': 1,\n",
    "   'Google Kubernetes Engine reporting issues': 1,\n",
    "   'Google Stackdriver reporting issues': 1,\n",
    "   'Identity & Security reporting issues': 1,\n",
    "   'Likely Service Disruption': 1,\n",
    "   'Major Outage': 2,\n",
    "   'Multiple services reporting issues': 1,\n",
    "   'No issues': 0,\n",
    "   'Operational': 0,\n",
    "   'Operations reporting issues': 1,\n",
    "   'Partial Outage': 1,\n",
    "   'Possible Service Trouble': 1,\n",
    "   'Recent Signs of Service Trouble': 1,\n",
    "   \"Something's not quite right View details\": 1,\n",
    "   'Under Maintenance': 3,\n",
    "   'nan': 9,\n",
    "   'Up': 0,\n",
    "   'alert-danger': 2,\n",
    "   'alert-success': 0,\n",
    "   'alert-warning': 1,\n",
    "   'degraded_performance': 1,\n",
    "   'major_outage': 2,\n",
    "   'operational': 0,\n",
    "   'partial_outage': 1,\n",
    "   'under_maintenance': 3\n",
    "}"
   ]
  },
  {
   "cell_type": "markdown",
   "metadata": {},
   "source": [
    "### Replace status with our encoding, add features for dataset unification"
   ]
  },
  {
   "cell_type": "code",
   "execution_count": 29,
   "metadata": {},
   "outputs": [
    {
     "name": "stderr",
     "output_type": "stream",
     "text": [
      "/usr/lib/python3/dist-packages/IPython/core/interactiveshell.py:3062: DtypeWarning: Columns (95) have mixed types.Specify dtype option on import or set low_memory=False.\n",
      "  has_raised = await self.run_ast_nodes(code_ast.body, cell_name,\n",
      "/usr/lib/python3/dist-packages/IPython/core/interactiveshell.py:3062: DtypeWarning: Columns (6,9,12,17,23,50,51,55,67,74,98,100,110,114,118,129,132,136,143,158,162,170,172,178,179,180,188,202,205,212,236,247,251) have mixed types.Specify dtype option on import or set low_memory=False.\n",
      "  has_raised = await self.run_ast_nodes(code_ast.body, cell_name,\n"
     ]
    }
   ],
   "source": [
    "for file in files:\n",
    "    if 'outage' in file or 'google-apps' in file or 'cloud-amazon' in file:\n",
    "        continue\n",
    "\n",
    "    df = pd.read_csv(file)\n",
    "    df.replace(labels_dict, inplace=True)\n",
    "    \n",
    "    success_count = df[df.iloc[:, 4:] == 0].count(axis=1)          \n",
    "    partial_count = df[df.iloc[:, 4:] == 1].count(axis=1)\n",
    "    major_count = df[df.iloc[:, 4:] == 2].count(axis=1)\n",
    "    maintenance_count = df[df.iloc[:, 4:] == 3].count(axis=1)\n",
    "    unknown_count = df[df.iloc[:, 4:] == 3].count(axis=1)\n",
    "    \n",
    "    total_count = success_count + partial_count + major_count + maintenance_count + unknown_count\n",
    "    \n",
    "    success_pct = success_count / total_count\n",
    "    partial_pct = partial_count / total_count\n",
    "    major_pct = major_count / total_count\n",
    "    maintenance_pct = maintenance_count / total_count\n",
    "    unknown_pct = unknown_count / total_count\n",
    "    \n",
    "    df = df.assign(success_count = success_count, success_pct = success_pct)\n",
    "    df = df.assign(partial_count = partial_count, partial_pct = partial_pct)\n",
    "    df = df.assign(major_count = major_count, major_pct = major_pct)\n",
    "    df = df.assign(maintenance_count = maintenance_count, maintenance_pct = maintenance_pct)\n",
    "    df = df.assign(unknown_count = unknown_count, unknown_pct = unknown_pct)\n",
    "    \n",
    "    df_1 = df.iloc[:, 0:4]\n",
    "    df_2 = df.iloc[:, -10:]\n",
    "    df_final = pd.concat([df_1, df_2], axis=1)\n",
    "    \n",
    "    try:\n",
    "        df_final.rename(columns={'placeholder':'timestamp_site'}, inplace=True)\n",
    "    except:\n",
    "        pass\n",
    "    \n",
    "    df_final.to_csv(r'/home/shane/Documents/thesis/output/cleaned/' + file.split('/')[8], index=False)"
   ]
  },
  {
   "cell_type": "code",
   "execution_count": 31,
   "metadata": {
    "scrolled": true
   },
   "outputs": [
    {
     "data": {
      "text/html": [
       "<div>\n",
       "<style scoped>\n",
       "    .dataframe tbody tr th:only-of-type {\n",
       "        vertical-align: middle;\n",
       "    }\n",
       "\n",
       "    .dataframe tbody tr th {\n",
       "        vertical-align: top;\n",
       "    }\n",
       "\n",
       "    .dataframe thead th {\n",
       "        text-align: right;\n",
       "    }\n",
       "</style>\n",
       "<table border=\"1\" class=\"dataframe\">\n",
       "  <thead>\n",
       "    <tr style=\"text-align: right;\">\n",
       "      <th></th>\n",
       "      <th>source</th>\n",
       "      <th>service</th>\n",
       "      <th>timestamp</th>\n",
       "      <th>timestamp_site</th>\n",
       "      <th>success_count</th>\n",
       "      <th>success_pct</th>\n",
       "      <th>partial_count</th>\n",
       "      <th>partial_pct</th>\n",
       "      <th>major_count</th>\n",
       "      <th>major_pct</th>\n",
       "      <th>maintenance_count</th>\n",
       "      <th>maintenance_pct</th>\n",
       "      <th>unknown_count</th>\n",
       "      <th>unknown_pct</th>\n",
       "    </tr>\n",
       "  </thead>\n",
       "  <tbody>\n",
       "    <tr>\n",
       "      <th>0</th>\n",
       "      <td>cloud-google-cloud-platform</td>\n",
       "      <td>google-cloud</td>\n",
       "      <td>20200508T150001</td>\n",
       "      <td>NaN</td>\n",
       "      <td>1</td>\n",
       "      <td>1.0</td>\n",
       "      <td>0</td>\n",
       "      <td>0.0</td>\n",
       "      <td>0</td>\n",
       "      <td>0.0</td>\n",
       "      <td>0</td>\n",
       "      <td>0.0</td>\n",
       "      <td>0</td>\n",
       "      <td>0.0</td>\n",
       "    </tr>\n",
       "    <tr>\n",
       "      <th>1</th>\n",
       "      <td>cloud-google-cloud-platform</td>\n",
       "      <td>google-cloud</td>\n",
       "      <td>20200508T060001</td>\n",
       "      <td>NaN</td>\n",
       "      <td>1</td>\n",
       "      <td>1.0</td>\n",
       "      <td>0</td>\n",
       "      <td>0.0</td>\n",
       "      <td>0</td>\n",
       "      <td>0.0</td>\n",
       "      <td>0</td>\n",
       "      <td>0.0</td>\n",
       "      <td>0</td>\n",
       "      <td>0.0</td>\n",
       "    </tr>\n",
       "    <tr>\n",
       "      <th>2</th>\n",
       "      <td>cloud-google-cloud-platform</td>\n",
       "      <td>google-cloud</td>\n",
       "      <td>20200508T130001</td>\n",
       "      <td>NaN</td>\n",
       "      <td>1</td>\n",
       "      <td>1.0</td>\n",
       "      <td>0</td>\n",
       "      <td>0.0</td>\n",
       "      <td>0</td>\n",
       "      <td>0.0</td>\n",
       "      <td>0</td>\n",
       "      <td>0.0</td>\n",
       "      <td>0</td>\n",
       "      <td>0.0</td>\n",
       "    </tr>\n",
       "    <tr>\n",
       "      <th>3</th>\n",
       "      <td>cloud-google-cloud-platform</td>\n",
       "      <td>google-cloud</td>\n",
       "      <td>20200508T200001</td>\n",
       "      <td>NaN</td>\n",
       "      <td>1</td>\n",
       "      <td>1.0</td>\n",
       "      <td>0</td>\n",
       "      <td>0.0</td>\n",
       "      <td>0</td>\n",
       "      <td>0.0</td>\n",
       "      <td>0</td>\n",
       "      <td>0.0</td>\n",
       "      <td>0</td>\n",
       "      <td>0.0</td>\n",
       "    </tr>\n",
       "    <tr>\n",
       "      <th>4</th>\n",
       "      <td>cloud-google-cloud-platform</td>\n",
       "      <td>google-cloud</td>\n",
       "      <td>20200508T030001</td>\n",
       "      <td>NaN</td>\n",
       "      <td>1</td>\n",
       "      <td>1.0</td>\n",
       "      <td>0</td>\n",
       "      <td>0.0</td>\n",
       "      <td>0</td>\n",
       "      <td>0.0</td>\n",
       "      <td>0</td>\n",
       "      <td>0.0</td>\n",
       "      <td>0</td>\n",
       "      <td>0.0</td>\n",
       "    </tr>\n",
       "  </tbody>\n",
       "</table>\n",
       "</div>"
      ],
      "text/plain": [
       "                        source       service        timestamp  timestamp_site  \\\n",
       "0  cloud-google-cloud-platform  google-cloud  20200508T150001             NaN   \n",
       "1  cloud-google-cloud-platform  google-cloud  20200508T060001             NaN   \n",
       "2  cloud-google-cloud-platform  google-cloud  20200508T130001             NaN   \n",
       "3  cloud-google-cloud-platform  google-cloud  20200508T200001             NaN   \n",
       "4  cloud-google-cloud-platform  google-cloud  20200508T030001             NaN   \n",
       "\n",
       "   success_count  success_pct  partial_count  partial_pct  major_count  \\\n",
       "0              1          1.0              0          0.0            0   \n",
       "1              1          1.0              0          0.0            0   \n",
       "2              1          1.0              0          0.0            0   \n",
       "3              1          1.0              0          0.0            0   \n",
       "4              1          1.0              0          0.0            0   \n",
       "\n",
       "   major_pct  maintenance_count  maintenance_pct  unknown_count  unknown_pct  \n",
       "0        0.0                  0              0.0              0          0.0  \n",
       "1        0.0                  0              0.0              0          0.0  \n",
       "2        0.0                  0              0.0              0          0.0  \n",
       "3        0.0                  0              0.0              0          0.0  \n",
       "4        0.0                  0              0.0              0          0.0  "
      ]
     },
     "execution_count": 31,
     "metadata": {},
     "output_type": "execute_result"
    }
   ],
   "source": [
    "df_final.head()"
   ]
  },
  {
   "cell_type": "code",
   "execution_count": null,
   "metadata": {},
   "outputs": [],
   "source": []
  }
 ],
 "metadata": {
  "kernelspec": {
   "display_name": "Python 3",
   "language": "python",
   "name": "python3"
  },
  "language_info": {
   "codemirror_mode": {
    "name": "ipython",
    "version": 3
   },
   "file_extension": ".py",
   "mimetype": "text/x-python",
   "name": "python",
   "nbconvert_exporter": "python",
   "pygments_lexer": "ipython3",
   "version": "3.8.5"
  }
 },
 "nbformat": 4,
 "nbformat_minor": 4
}
