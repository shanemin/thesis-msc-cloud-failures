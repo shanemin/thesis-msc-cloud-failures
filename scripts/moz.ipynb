{
 "cells": [
  {
   "cell_type": "code",
   "execution_count": 1,
   "metadata": {},
   "outputs": [],
   "source": [
    "import time\n",
    "import glob as glob\n",
    "from zipfile import ZipFile\n",
    "from bs4 import BeautifulSoup\n",
    "import multiprocessing as mp\n",
    "import pandas as pd\n",
    "import matplotlib as mpl"
   ]
  },
  {
   "cell_type": "code",
   "execution_count": 2,
   "metadata": {},
   "outputs": [],
   "source": [
    "root_dir = '../data/moz'"
   ]
  },
  {
   "cell_type": "code",
   "execution_count": 68,
   "metadata": {},
   "outputs": [],
   "source": [
    "def extract_html_data(html_doc):\n",
    "    soup = BeautifulSoup(open(html_doc), 'html.parser')\n",
    "    result = []\n",
    "    for rank in soup.find_all(\"td\"): # no class names :(\n",
    "        result.append(' '.join(rank.text.split()))\n",
    "    return result"
   ]
  },
  {
   "cell_type": "code",
   "execution_count": 69,
   "metadata": {},
   "outputs": [
    {
     "name": "stdout",
     "output_type": "stream",
     "text": [
      "0.09643244743347168\n"
     ]
    }
   ],
   "source": [
    "files = glob.glob(root_dir + '/*.html', recursive=True)\n",
    "pool = mp.Pool(mp.cpu_count())\n",
    "\n",
    "start_time = time.time()\n",
    "results = pool.map(extract_html_data, [file for file in files])\n",
    "pool.close()\n",
    "end_time = time.time()\n",
    "\n",
    "print(end_time - start_time)"
   ]
  },
  {
   "cell_type": "code",
   "execution_count": 70,
   "metadata": {
    "scrolled": true
   },
   "outputs": [
    {
     "name": "stdout",
     "output_type": "stream",
     "text": [
      "['1', 'www.google.com', '12,572,548', '100', '2', 'youtube.com', '19,088,723', '100', '3', 'apple.com', '6,194,477', '100', '4', 'cloudflare.com', '5,244,518', '99', '5', 'play.google.com', '4,068,603', '99', '6', 'support.google.com', '4,589,450', '99', '7', 'www.blogger.com', '26,273,561', '99', '8', 'microsoft.com', '4,569,279', '99', '9', 'en.wikipedia.org', '5,752,343', '98', '10', 'wordpress.org', '10,706,017', '98', '11', 'docs.google.com', '2,525,153', '98', '12', 'mozilla.org', '1,890,746', '98', '13', 'youtu.be', '4,045,623', '98', '14', 'maps.google.com', '4,555,870', '98', '15', 'linkedin.com', '9,770,364', '98', '16', 'europa.eu', '1,666,861', '97', '17', 'googleusercontent.com', '2,228,563', '97', '18', 'sites.google.com', '1,816,844', '97', '19', 'drive.google.com', '1,860,702', '97', '20', 'vimeo.com', '3,150,777', '97', '21', 'accounts.google.com', '2,501,178', '97', '22', 'adobe.com', '2,724,398', '97', '23', 'plus.google.com', '11,885,635', '97', '24', 'es.wikipedia.org', '813,785', '96', '25', 'amazon.com', '4,201,337', '96', '26', 'pt.wikipedia.org', '366,704', '96', '27', 'uol.com.br', '577,665', '96', '28', 'cnn.com', '1,244,168', '96', '29', 'bbc.co.uk', '1,450,531', '96', '30', 'vk.com', '1,667,219', '96', '31', 'facebook.com', '49,981,178', '96', '32', 'bp.blogspot.com', '16,316,345', '96', '33', 'line.me', '661,896', '96', '34', 'istockphoto.com', '3,185,538', '96', '35', 'github.com', '2,198,332', '96', '36', 'www.yahoo.com', '1,118,394', '95', '37', 'wikimedia.org', '1,423,502', '95', '38', 'forbes.com', '1,151,873', '95', '39', 'msn.com', '981,774', '95', '40', 'creativecommons.org', '1,623,756', '95', '41', 'brandbucket.com', '11,074,236', '95', '42', 'imdb.com', '1,269,136', '95', '43', 'dropbox.com', '937,369', '95', '44', 'google.co.jp', '631,008', '95', '45', 'google.de', '1,060,802', '95', '46', 'live.com', '755,799', '95', '47', 'bbc.com', '670,222', '95', '48', 'myspace.com', '1,294,573', '95', '49', 'mail.ru', '485,512', '95', '50', 'jimdofree.com', '1,704,137', '95', '51', 'reuters.com', '733,197', '95', '52', 'theguardian.com', '1,248,291', '95', '53', 'medium.com', '1,203,463', '95', '54', 'google.es', '434,946', '95', '55', 'mail.google.com', '442,814', '95', '56', 'news.google.com', '709,854', '95', '57', 'dailymotion.com', '1,069,598', '95', '58', 'w3.org', '1,072,355', '95', '59', 't.me', '666,340', '95', '60', 'www.weebly.com', '3,982,721', '95', '61', 'feedburner.com', '1,746,698', '95', '62', 'whatsapp.com', '2,198,387', '95', '63', 'fr.wikipedia.org', '537,793', '95', '64', 'policies.google.com', '1,158,594', '95', '65', 'hugedomains.com', '4,874,758', '95', '66', 'abril.com.br', '226,693', '95', '67', 'developers.google.com', '875,790', '95', '68', 'issuu.com', '856,112', '95', '69', 'google.com.br', '277,937', '95', '70', 'slideshare.net', '902,058', '95', '71', 'nih.gov', '1,064,223', '95', '72', 'nytimes.com', '1,753,183', '95', '73', 'globo.com', '387,711', '95', '74', 'opera.com', '727,518', '95', '75', 'paypal.com', '913,737', '95', '76', 'gstatic.com', '586,285', '95', '77', 'get.google.com', '769,135', '95', '78', 'who.int', '1,917,435', '94', '79', 'latimes.com', '603,573', '94', '80', 'steampowered.com', '219,059', '94', '81', 'bit.ly', '4,237,989', '94', '82', 'www.gov.uk', '487,394', '94', '83', 'news.yahoo.com', '583,011', '94', '84', 'cdc.gov', '652,180', '94', '85', 'wikia.com', '470,270', '94', '86', 'apache.org', '886,117', '94', '87', 'un.org', '431,033', '94', '88', 'nasa.gov', '554,073', '94', '89', 'twitter.com', '51,863,106', '94', '90', 'books.google.com', '354,325', '94', '91', 'aboutads.info', '461,838', '94', '92', 'time.com', '620,796', '94', '93', 'webmd.com', '553,257', '94', '94', 'fandom.com', '462,112', '94', '95', 'google.it', '416,010', '94', '96', 'draft.blogger.com', '9,571,853', '94', '97', 'rakuten.co.jp', '576,384', '94', '98', 'change.org', '409,321', '94', '99', 'tools.google.com', '1,406,609', '94', '100', 'myaccount.google.com', '265,977', '94', '101', 'dailymail.co.uk', '791,496', '94', '102', 'buydomains.com', '1,106,750', '94', '103', 'translate.google.com', '273,524', '94', '104', 'google.co.uk', '552,465', '94', '105', 'independent.co.uk', '525,457', '94', '106', 'thesun.co.uk', '253,774', '94', '107', 'booking.com', '349,043', '94', '108', 'networkadvertising.org', '681,493', '94', '109', 'cpanel.com', '1,169,007', '94', '110', 'hatena.ne.jp', '1,340,582', '94', '111', 'pinterest.com', '7,647,585', '94', '112', 'telegraph.co.uk', '782,869', '94', '113', 'ebay.com', '872,998', '94', '114', 'cpanel.net', '1,251,964', '94', '115', 'archive.org', '918,008', '94', '116', 'washingtonpost.com', '893,589', '94', '117', 'gravatar.com', '4,491,956', '94', '118', 'marketingplatform.google.com', '722,507', '94', '119', 'de.wikipedia.org', '593,099', '94', '120', 'plesk.com', '694,245', '94', '121', 'search.google.com', '1,077,127', '94', '122', 'namecheap.com', '1,161,836', '94', '123', 'wired.com', '540,406', '94', '124', 'files.wordpress.com', '4,290,340', '94', '125', 'mediafire.com', '781,764', '94', '126', 'fb.com', '370,568', '94', '127', 'google.pl', '206,195', '94', '128', 'aol.com', '651,604', '94', '129', 'android.com', '265,801', '94', '130', 'picasaweb.google.com', '620,075', '94', '131', 'dan.com', '1,973,885', '94', '132', 'abcnews.go.com', '475,977', '94', '133', 'telegram.me', '271,886', '94', '134', 'it.wikipedia.org', '288,321', '94', '135', 'wsj.com', '815,039', '94', '136', 'google.fr', '391,652', '94', '137', 'youronlinechoices.com', '482,089', '94', '138', 'scribd.com', '672,978', '94', '139', 'usatoday.com', '650,712', '94', '140', 'goo.gl', '4,229,448', '94', '141', 'lefigaro.fr', '187,207', '94', '142', 'samsung.com', '295,560', '94', '143', 'terra.com.br', '187,013', '94', '144', 'amazon.co.jp', '771,657', '94', '145', 'id.wikipedia.org', '443,179', '94', '146', 'huffpost.com', '918,845', '94', '147', 'huffingtonpost.com', '906,035', '94', '148', 'cnet.com', '561,270', '94', '149', 'ig.com.br', '133,177', '94', '150', 'office.com', '356,169', '94', '151', 'businessinsider.com', '576,464', '94', '152', 'wa.me', '610,271', '94', '153', '4shared.com', '521,304', '94', '154', 'bloomberg.com', '686,444', '94', '155', 'ok.ru', '343,574', '94', '156', 'amazon.de', '495,668', '94', '157', 'harvard.edu', '589,190', '94', '158', 'amazon.co.uk', '654,505', '94', '159', 'photos.google.com', '264,888', '94', '160', 'aliexpress.com', '442,253', '94', '161', 'elpais.com', '337,962', '94', '162', 'foxnews.com', '456,364', '94', '163', 'tinyurl.com', '1,300,785', '94', '164', 'google.ru', '189,458', '94', '165', 'twitch.tv', '318,336', '93', '166', 'academia.edu', '297,603', '93', '167', 'rambler.ru', '229,392', '93', '168', 'stanford.edu', '514,226', '93', '169', 'wikihow.com', '353,294', '93', '170', 'eventbrite.com', '545,896', '93', '171', 'disney.com', '212,055', '93', '172', 'surveymonkey.com', '383,912', '93', '173', 'welt.de', '159,004', '93', '174', 'wiley.com', '443,462', '93', '175', 'pl.wikipedia.org', '128,505', '93', '176', 'indiatimes.com', '334,067', '93', '177', 'nginx.com', '502,589', '93', '178', 'cbc.ca', '353,126', '93', '179', 'spotify.com', '1,169,893', '93', '180', 'xbox.com', '143,309', '93', '181', 'deezer.com', '129,278', '93', '182', 'google.ca', '311,051', '93', '183', 'alibaba.com', '357,179', '93', '184', 'mega.nz', '153,796', '93', '185', 'usnews.com', '323,006', '93', '186', 'icann.org', '487,902', '93', '187', 'picasa.google.com', '247,819', '93', '188', 'enable-javascript.com', '1,551,194', '93', '189', 'themeforest.net', '497,820', '93', '190', 'imageshack.com', '441,724', '93', '191', 'lemonde.fr', '227,246', '93', '192', 'ziddu.com', '173,270', '93', '193', 'sedo.com', '2,702,788', '93', '194', 'sciencedaily.com', '289,554', '93', '195', 'netflix.com', '244,929', '93', '196', 'storage.googleapis.com', '567,547', '93', '197', 'sputniknews.com', '134,906', '93', '198', 'theatlantic.com', '436,196', '93', '199', 'php.net', '615,590', '93', '200', 'imageshack.us', '791,431', '93', '201', 'loc.gov', '376,817', '93', '202', 'disqus.com', '915,897', '93', '203', 'news.com.au', '258,017', '93', '204', 'goodreads.com', '724,572', '93', '205', 'repubblica.it', '172,424', '93', '206', 'photobucket.com', '1,610,116', '93', '207', 'lycos.com', '665,534', '93', '208', 'forms.gle', '397,596', '93', '209', 'qq.com', '4,218,412', '93', '210', 'ikea.com', '262,884', '93', '211', 'ea.com', '156,325', '93', '212', 'trustpilot.com', '348,534', '93', '213', 'biglobe.ne.jp', '222,065', '93', '214', 'clickbank.net', '453,091', '93', '215', 'cambridge.org', '225,492', '93', '216', 'mirror.co.uk', '261,516', '93', '217', 'allaboutcookies.org', '326,061', '93', '218', 'abc.net.au', '325,367', '93', '219', 'ign.com', '231,587', '93', '220', 'walmart.com', '268,730', '93', '221', 'ipv4.google.com', '351,558', '93', '222', 'bandcamp.com', '524,854', '93', '223', 'm.wikipedia.org', '236,128', '93', '224', 'nikkei.com', '188,450', '93', '225', 'depositfiles.com', '139,699', '93', '226', 'wp.com', '949,140', '93', '227', 'stackoverflow.com', '292,317', '93', '228', 'oup.com', '308,261', '93', '229', 'amazon.es', '156,075', '93', '230', 'ietf.org', '328,872', '93', '231', 'hp.com', '385,836', '93', '232', 'secureserver.net', '1,045,540', '93', '233', 'bund.de', '455,432', '93', '234', 'metro.co.uk', '174,352', '93', '235', 'techcrunch.com', '389,938', '93', '236', 'buzzfeed.com', '452,635', '93', '237', 'britannica.com', '286,731', '93', '238', 'yahoo.co.jp', '607,994', '93', '239', 'cornell.edu', '373,336', '93', '240', 'gofundme.com', '275,063', '93', '241', 'ft.com', '353,687', '93', '242', 'alexa.com', '292,769', '93', '243', 'ytimg.com', '281,519', '93', '244', 'npr.org', '614,542', '93', '245', 'kickstarter.com', '407,657', '93', '246', 'abc.es', '159,779', '93', '247', 'columbia.edu', '273,877', '93', '248', 'google.nl', '235,639', '93', '249', 'shutterstock.com', '257,137', '93', '250', 'unesco.org', '257,422', '93', '251', 'my.yahoo.com', '1,153,765', '93', '252', 'instagram.com', '22,820,320', '93', '253', 'urbandictionary.com', '210,573', '93', '254', 'bloglovin.com', '481,471', '93', '255', 'researchgate.net', '337,122', '93', '256', 'umich.edu', '288,924', '93', '257', 'chicagotribune.com', '298,239', '93', '258', 'google.com.tw', '143,367', '93', '259', 'list-manage.com', '672,582', '93', '260', 'ted.com', '498,515', '93', '261', 'psychologytoday.com', '276,095', '93', '262', 'playstation.com', '178,915', '93', '263', 'privacyshield.gov', '381,235', '93', '264', 'ggpht.com', '577,227', '93', '265', 'pixabay.com', '301,978', '93', '266', 'ovh.com', '451,010', '93', '267', 'yandex.ru', '976,081', '93', '268', 'dw.com', '224,289', '93', '269', 'addtoany.com', '730,440', '93', '270', 'code.google.com', '319,244', '93', '271', 'groups.google.com', '305,555', '93', '272', 'quora.com', '319,082', '93', '273', 'gizmodo.com', '349,724', '93', '274', 'instructables.com', '277,862', '93', '275', 'weibo.com', '1,457,580', '93', '276', 'nypost.com', '283,459', '93', '277', 'rottentomatoes.com', '200,774', '93', '278', 'discord.com', '225,873', '93', '279', 'huawei.com', '1,802,537', '93', '280', 'mozilla.com', '190,354', '93', '281', 'noaa.gov', '280,337', '93', '282', 'netvibes.com', '1,173,575', '93', '283', 'google.co.in', '252,934', '93', '284', 'economist.com', '307,029', '93', '285', 'ovh.net', '634,550', '93', '286', 'sapo.pt', '207,373', '93', '287', 'nydailynews.com', '302,825', '93', '288', 'newsweek.com', '247,927', '93', '289', 'ibm.com', '440,670', '93', '290', 'fda.gov', '277,965', '93', '291', 'hm.com', '152,867', '93', '292', 'addthis.com', '698,083', '93', '293', 'ovh.co.uk', '488,584', '93', '294', 'nginx.org', '589,443', '93', '295', 'guardian.co.uk', '544,028', '93', '296', 'ria.ru', '155,461', '93', '297', 'gnu.org', '544,605', '93', '298', 'cbsnews.com', '432,976', '93', '299', 'www.wix.com', '710,885', '93', '300', 'asus.com', '134,164', '93', '301', 'yelp.com', '841,657', '93', '302', 'amazon.fr', '224,289', '93', '303', '20minutos.es', '124,278', '93', '304', 'search.yahoo.com', '423,353', '93', '305', 'discord.gg', '197,085', '93', '306', 'ja.wikipedia.org', '321,072', '93', '307', 'espn.com', '312,176', '93', '308', 'doubleclick.net', '642,195', '93', '309', 'naver.com', '444,299', '93', '310', 'google.co.id', '162,227', '93', '311', 'shopify.com', '1,379,380', '93', '312', 'express.co.uk', '203,146', '93', '313', 'digg.com', '841,672', '93', '314', 'bitly.com', '385,323', '93', '315', 'mit.edu', '572,939', '93', '316', 't.co', '1,788,752', '93', '317', 'pbs.org', '429,850', '93', '318', 'sciencedirect.com', '431,733', '93', '319', 'sciencemag.org', '263,957', '93', '320', 'engadget.com', '395,735', '93', '321', 'soundcloud.com', '1,597,860', '93', '322', 'tripadvisor.com', '455,643', '93', '323', 'blackberry.com', '131,453', '93', '324', 'oracle.com', '502,358', '93', '325', 'nbcnews.com', '576,904', '93', '326', 'smh.com.au', '262,861', '93', '327', 'mashable.com', '349,615', '93', '328', 'gmail.com', '184,146', '93', '329', 'bing.com', '897,616', '93', '330', 'thetimes.co.uk', '309,145', '93', '331', 'www.wikipedia.org', '513,273', '93', '332', 'berkeley.edu', '395,733', '93', '333', 'sfgate.com', '320,298', '93', '334', 'ca.gov', '376,701', '93', '335', 'adssettings.google.com', '280,579', '93', '336', 'afternic.com', '2,123,382', '93', '337', 'washington.edu', '303,671', '93', '338', 'akamaihd.net', '413,539', '93', '339', 'whitehouse.gov', '313,788', '93', '340', 'nationalgeographic.com', '534,675', '93', '341', 'spiegel.de', '269,729', '93', '342', 'rapidshare.com', '284,341', '93', '343', 'e-monsite.com', '136,467', '93', '344', 'detik.com', '361,320', '93', '345', 'finance.yahoo.com', '374,594', '93', '346', 'box.com', '235,786', '93', '347', 'rt.com', '231,662', '93', '348', 'elmundo.es', '196,921', '93', '349', 'nature.com', '446,934', '93', '350', 'cnbc.com', '395,729', '93', '351', 'godaddy.com', '2,427,408', '93', '352', 'sendspace.com', '152,395', '93', '353', 'theverge.com', '305,739', '93', '354', 'about.com', '682,371', '93', '355', 'mysql.com', '374,984', '93', '356', 'variety.com', '198,901', '93', '357', 'ru.wikipedia.org', '354,589', '93', '358', 'googleblog.com', '233,200', '93', '359', 'www.over-blog.com', '782,964', '93', '360', 'yadi.sk', '175,583', '93', '361', 'zendesk.com', '465,684', '93', '362', 'arxiv.org', '182,257', '93', '363', 'www.livejournal.com', '3,053,679', '92', '364', 'utexas.edu', '230,402', '92', '365', 'nvidia.com', '144,165', '92', '366', 'fastcompany.com', '254,645', '92', '367', 'biblegateway.com', '218,875', '92', '368', 'sina.com.cn', '1,045,707', '92', '369', 'princeton.edu', '275,122', '92', '370', 'so-net.ne.jp', '169,359', '92', '371', 'techradar.com', '126,710', '92', '372', 'corriere.it', '142,854', '92', '373', 'axs.com', '226,985', '92', '374', 'merriam-webster.com', '237,126', '92', '375', 'ap.org', '173,693', '92', '376', 'airbnb.com', '165,967', '92', '377', 'venturebeat.com', '175,457', '92', '378', 'softpedia.com', '159,259', '92', '379', 'unicef.org', '136,087', '92', '380', 'nicovideo.jp', '136,683', '92', '381', 'politico.com', '211,399', '92', '382', 'nokia.com', '154,038', '92', '383', 'dictionary.com', '256,020', '92', '384', 'evernote.com', '276,253', '92', '385', 'soratemplates.com', '225,670', '92', '386', 'fortune.com', '207,629', '92', '387', 'etsy.com', '1,569,825', '92', '388', 'thenextweb.com', '164,987', '92', '389', 'khanacademy.org', '148,404', '92', '390', 'canva.com', '136,079', '92', '391', 'statista.com', '186,045', '92', '392', 'pcmag.com', '186,550', '92', '393', 'cmu.edu', '208,351', '92', '394', 'last.fm', '407,792', '92', '395', 'si.edu', '230,774', '92', '396', 'google.com.au', '198,881', '92', '397', 'eonline.com', '174,100', '92', '398', 'timeout.com', '130,514', '92', '399', 'orange.fr', '171,927', '92', '400', 'softonic.com', '129,420', '92', '401', 'debian.org', '352,793', '92', '402', 'ftc.gov', '210,421', '92', '403', 'prestashop.com', '162,084', '92', '404', 'teamviewer.com', '145,812', '92', '405', 'orkut.com.br', '123,913', '92', '406', 'dreniq.com', '317,326', '92', '407', 'sky.com', '181,089', '92', '408', 'amzn.to', '739,998', '92', '409', 'example.com', '244,140', '92', '410', 'archives.gov', '216,850', '92', '411', 'jhu.edu', '182,560', '92', '412', 'pinterest.co.uk', '181,424', '92', '413', 'mail.yahoo.com', '175,142', '92', '414', 'vice.com', '307,749', '92', '415', 'salon.com', '229,629', '92', '416', 'state.gov', '260,463', '92', '417', 'cbslocal.com', '270,084', '92', '418', 'intel.com', '217,479', '92', '419', 'lonelyplanet.com', '153,476', '92', '420', 'weather.com', '207,599', '92', '421', 'netlify.app', '267,534', '92', '422', 'over-blog-kiwi.com', '178,187', '92', '423', 'marketwatch.com', '283,658', '92', '424', 'iso.org', '163,487', '92', '425', 'freepik.com', '154,091', '92', '426', 'hollywoodreporter.com', '213,939', '92', '427', 'goo.ne.jp', '294,202', '92', '428', 'bp2.blogger.com', '526,357', '92', '429', 'fb.me', '252,347', '92', '430', 'excite.co.jp', '483,473', '92', '431', 'stuff.co.nz', '135,853', '92', '432', 'liveinternet.ru', '300,122', '92', '433', 'reverbnation.com', '188,320', '92', '434', 'digitaltrends.com', '167,008', '92', '435', 'howstuffworks.com', '258,574', '92', '436', 'amazon.in', '142,465', '92', '437', 'com.com', '219,497', '92', '438', 'thoughtco.com', '299,451', '92', '439', 'upenn.edu', '260,108', '92', '440', 'billboard.com', '160,609', '92', '441', 'dreamstime.com', '137,639', '92', '442', 'scoop.it', '343,505', '92', '443', 'gooyaabitemplates.com', '380,430', '92', '444', 'lifehacker.com', '203,130', '92', '445', 'hbr.org', '216,311', '92', '446', 'ucoz.ru', '183,457', '92', '447', 'jstor.org', '161,208', '92', '448', 'go.co', '487,983', '92', '449', 'usgs.gov', '194,427', '92', '450', 'calameo.com', '152,004', '92', '451', 'prnewswire.com', '303,105', '92', '452', 'yale.edu', '273,980', '92', '453', 'dot.tk', '8,279,388', '92', '454', 'en.wordpress.com', '322,767', '92', '455', 'amazon.ca', '185,286', '92', '456', 'ebay.co.uk', '200,832', '92', '457', 'histats.com', '456,415', '92', '458', 'theglobeandmail.com', '220,014', '92', '459', 'unsplash.com', '339,606', '92', '460', 'boston.com', '280,121', '92', '461', 'home.neustar', '520,926', '92', '462', 'eff.org', '137,015', '92', '463', 'thefreedictionary.com', '195,862', '92', '464', 'fifa.com', '137,717', '92', '465', 'kinja.com', '184,542', '92', '466', 'storage.canalblog.com', '280,366', '92', '467', 'nba.com', '176,969', '92', '468', 'narod.ru', '270,635', '92', '469', 'redhat.com', '186,307', '92', '470', 'sports.yahoo.com', '178,023', '92', '471', 'canada.ca', '193,435', '92', '472', 'viglink.com', '364,711', '92', '473', 'daum.net', '153,636', '92', '474', 'livescience.com', '215,083', '92', '475', 'searchenginejournal.com', '265,045', '92', '476', 'prezi.com', '223,342', '92', '477', 'feedproxy.google.com', '769,362', '92', '478', 'skype.com', '369,242', '92', '479', 'vkontakte.ru', '366,362', '92', '480', 'pexels.com', '163,120', '92', '481', 'video.google.com', '205,223', '92', '482', 'groups.yahoo.com', '305,233', '92', '483', 'uiuc.edu', '184,164', '92', '484', 'espn.go.com', '229,102', '92', '485', 'naver.jp', '126,884', '92', '486', 'ubuntu.com', '185,525', '92', '487', 'offset.com', '975,722', '92', '488', 'blog.fc2.com', '395,383', '92', '489', 'springer.com', '348,377', '92', '490', 'snapchat.com', '160,613', '92', '491', 'elsevier.com', '230,539', '92', '492', 'parallels.com', '561,600', '92', '493', 'epa.gov', '281,011', '92', '494', 'sony.com', '128,672', '92', '495', 'ieee.org', '185,520', '92', '496', 'irs.gov', '242,056', '92', '497', 'scientificamerican.com', '251,715', '92', '498', 'adweek.com', '163,709', '92', '499', 'psu.edu', '266,381', '92', '500', 'steamcommunity.com', '177,818', '92']\n"
     ]
    }
   ],
   "source": [
    "print(results[0])"
   ]
  },
  {
   "cell_type": "code",
   "execution_count": 71,
   "metadata": {},
   "outputs": [],
   "source": [
    "df = pd.DataFrame(row for row in results[0] if '.' in row)\n",
    "df.columns = ['moz_top500']"
   ]
  },
  {
   "cell_type": "code",
   "execution_count": 72,
   "metadata": {
    "scrolled": true
   },
   "outputs": [
    {
     "data": {
      "text/html": [
       "<div>\n",
       "<style scoped>\n",
       "    .dataframe tbody tr th:only-of-type {\n",
       "        vertical-align: middle;\n",
       "    }\n",
       "\n",
       "    .dataframe tbody tr th {\n",
       "        vertical-align: top;\n",
       "    }\n",
       "\n",
       "    .dataframe thead th {\n",
       "        text-align: right;\n",
       "    }\n",
       "</style>\n",
       "<table border=\"1\" class=\"dataframe\">\n",
       "  <thead>\n",
       "    <tr style=\"text-align: right;\">\n",
       "      <th></th>\n",
       "      <th>moz_top500</th>\n",
       "    </tr>\n",
       "  </thead>\n",
       "  <tbody>\n",
       "    <tr>\n",
       "      <th>0</th>\n",
       "      <td>www.google.com</td>\n",
       "    </tr>\n",
       "    <tr>\n",
       "      <th>1</th>\n",
       "      <td>youtube.com</td>\n",
       "    </tr>\n",
       "    <tr>\n",
       "      <th>2</th>\n",
       "      <td>apple.com</td>\n",
       "    </tr>\n",
       "    <tr>\n",
       "      <th>3</th>\n",
       "      <td>cloudflare.com</td>\n",
       "    </tr>\n",
       "    <tr>\n",
       "      <th>4</th>\n",
       "      <td>play.google.com</td>\n",
       "    </tr>\n",
       "    <tr>\n",
       "      <th>5</th>\n",
       "      <td>support.google.com</td>\n",
       "    </tr>\n",
       "    <tr>\n",
       "      <th>6</th>\n",
       "      <td>www.blogger.com</td>\n",
       "    </tr>\n",
       "    <tr>\n",
       "      <th>7</th>\n",
       "      <td>microsoft.com</td>\n",
       "    </tr>\n",
       "    <tr>\n",
       "      <th>8</th>\n",
       "      <td>en.wikipedia.org</td>\n",
       "    </tr>\n",
       "    <tr>\n",
       "      <th>9</th>\n",
       "      <td>wordpress.org</td>\n",
       "    </tr>\n",
       "    <tr>\n",
       "      <th>10</th>\n",
       "      <td>docs.google.com</td>\n",
       "    </tr>\n",
       "    <tr>\n",
       "      <th>11</th>\n",
       "      <td>mozilla.org</td>\n",
       "    </tr>\n",
       "    <tr>\n",
       "      <th>12</th>\n",
       "      <td>youtu.be</td>\n",
       "    </tr>\n",
       "    <tr>\n",
       "      <th>13</th>\n",
       "      <td>maps.google.com</td>\n",
       "    </tr>\n",
       "    <tr>\n",
       "      <th>14</th>\n",
       "      <td>linkedin.com</td>\n",
       "    </tr>\n",
       "    <tr>\n",
       "      <th>15</th>\n",
       "      <td>europa.eu</td>\n",
       "    </tr>\n",
       "    <tr>\n",
       "      <th>16</th>\n",
       "      <td>googleusercontent.com</td>\n",
       "    </tr>\n",
       "    <tr>\n",
       "      <th>17</th>\n",
       "      <td>sites.google.com</td>\n",
       "    </tr>\n",
       "    <tr>\n",
       "      <th>18</th>\n",
       "      <td>drive.google.com</td>\n",
       "    </tr>\n",
       "    <tr>\n",
       "      <th>19</th>\n",
       "      <td>vimeo.com</td>\n",
       "    </tr>\n",
       "  </tbody>\n",
       "</table>\n",
       "</div>"
      ],
      "text/plain": [
       "               moz_top500\n",
       "0          www.google.com\n",
       "1             youtube.com\n",
       "2               apple.com\n",
       "3          cloudflare.com\n",
       "4         play.google.com\n",
       "5      support.google.com\n",
       "6         www.blogger.com\n",
       "7           microsoft.com\n",
       "8        en.wikipedia.org\n",
       "9           wordpress.org\n",
       "10        docs.google.com\n",
       "11            mozilla.org\n",
       "12               youtu.be\n",
       "13        maps.google.com\n",
       "14           linkedin.com\n",
       "15              europa.eu\n",
       "16  googleusercontent.com\n",
       "17       sites.google.com\n",
       "18       drive.google.com\n",
       "19              vimeo.com"
      ]
     },
     "execution_count": 72,
     "metadata": {},
     "output_type": "execute_result"
    }
   ],
   "source": [
    "df.head(20)"
   ]
  },
  {
   "cell_type": "code",
   "execution_count": 67,
   "metadata": {},
   "outputs": [],
   "source": [
    "df.to_csv(r'/home/shane/Documents/thesis/output/topsites_moz.csv', index=True)"
   ]
  },
  {
   "cell_type": "code",
   "execution_count": null,
   "metadata": {
    "scrolled": false
   },
   "outputs": [],
   "source": []
  }
 ],
 "metadata": {
  "kernelspec": {
   "display_name": "Python 3",
   "language": "python",
   "name": "python3"
  },
  "language_info": {
   "codemirror_mode": {
    "name": "ipython",
    "version": 3
   },
   "file_extension": ".py",
   "mimetype": "text/x-python",
   "name": "python",
   "nbconvert_exporter": "python",
   "pygments_lexer": "ipython3",
   "version": "3.8.5"
  }
 },
 "nbformat": 4,
 "nbformat_minor": 4
}
